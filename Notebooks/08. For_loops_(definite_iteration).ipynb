{
 "cells": [
  {
   "cell_type": "markdown",
   "metadata": {},
   "source": [
    "# `for` loops (definite iteration)\n",
    "\n",
    "## 0. Overwiev of Definite Iteration in Programming\n",
    "Historically, programming languages have a few assorted flavors of for loop. These are briefly described below.\n",
    "\n",
    "### 1. Numeric Range Loops\n",
    "\n",
    "The most basic `for` loop is a simple numeric range statement with **start** and **end** values:\n",
    "```Python\n",
    "for i = 1 to 10\n",
    "    <loop body>\n",
    "```\n",
    "Here, the body of the loop is executed ten times. This sort of for loop is used in the languages BASIC, Algol, Pascal, MATLAB.\n",
    "\n",
    "### 2. Three-Expression Loops\n",
    "\n",
    "This type of has the following form:\n",
    "```C\n",
    "for (i = 1; i <= 10; i++)\n",
    "    <loop body>\n",
    "```\n",
    "This loop is interpreted as follows:\n",
    "- Initialize, i = 1;\n",
    "- Continuation condition, i <= 10;\n",
    "- Increment i by 1 after each loop iteration.\n",
    "\n",
    "Three-expression `for` loops are popular because the expressions specified for the three parts has more flexibility than the simpler numeric range form. These for loops are also featured in the C++, Java, PHP, and Perl languages.\n",
    "\n",
    "### 3. Collection(Iterator)-Based Loops\n",
    "\n",
    "```Python\n",
    "for i in <collection>\n",
    "    <loop body>\n",
    "```\n",
    "\n",
    "Each time through the loop, the variable `i` takes on the value of the next object in `<collection>`. **This type of for loop is arguably the most generalized and abstract**. "
   ]
  },
  {
   "cell_type": "markdown",
   "metadata": {},
   "source": [
    "## 1. The Python `for` Loop\n",
    "Of the loop types listed above, Python implements the **collection-based iteration**.     \n",
    "\n",
    "General format:\n",
    "```Python\n",
    "for <var> in <iterable>:\n",
    "    <statement(s)>\n",
    "```\n",
    "where:    \n",
    "`<iterable>` is an **collection of objects** e.g. a list, tuple, etc.     \n",
    "`<statement(s)>` **in the loop body** are denoted by **indentation**, as with all Python control structures, and executed once for each `<iterable>`.     \n",
    "`<var>` is the **loop variable** that takes on the value of the next element in `<iterable>` each time through the loop.   \n",
    "\n",
    "Example:"
   ]
  },
  {
   "cell_type": "code",
   "execution_count": 1,
   "metadata": {},
   "outputs": [
    {
     "name": "stdout",
     "output_type": "stream",
     "text": [
      "foo\n",
      "bar\n",
      "baz\n"
     ]
    }
   ],
   "source": [
    "a = ['foo', 'bar', 'baz']\n",
    "for i in a:\n",
    "    print(i)"
   ]
  },
  {
   "cell_type": "markdown",
   "metadata": {},
   "source": [
    "Before examining for loops further, it will be beneficial to **delve more deeply into what iterables are** in Python.\n",
    "\n",
    "### 1.1. Iterables\n",
    "* **<span style=\"color:blue\"> iterable </span>: an object that can be used in iteration.**\n",
    "\n",
    "**If an object is iterable, it can be passed to the built-in function** `iter()`, which returns something called an <span style=\"color:blue\"> **iterator** </span> :\n",
    "```Python\n",
    "iter('foobar')                             # String\n",
    "<str_iterator object at 0x036E2750>\n",
    "\n",
    "iter(['foo', 'bar', 'baz'])                # List\n",
    "<list_iterator object at 0x036E27D0>\n",
    "\n",
    "iter(('foo', 'bar', 'baz'))                # Tuple\n",
    "<tuple_iterator object at 0x036E27F0>\n",
    "\n",
    "iter({'foo', 'bar', 'baz'})                # Set/frozenset\n",
    "<set_iterator object at 0x036DEA08>\n",
    "\n",
    "iter({'foo': 1, 'bar': 2, 'baz': 3})       # Dict\n",
    "<dict_keyiterator object at 0x036DD990>\n",
    "```\n",
    "\n",
    "But these are not only types that we can iterate over.    \n",
    " **For example, open files in Python are iterable.** i.e. iterating over an open file object reads data from the file.\n",
    " \n",
    "### 1.2. Iterators\n",
    "An <span style=\"color:blue\"> **iterator** </span> is essentially a value producer that yields successive values from its associated iterable object.     \n",
    "The built-in function `next()` is used **to obtain the next value from iterator**:"
   ]
  },
  {
   "cell_type": "code",
   "execution_count": 12,
   "metadata": {},
   "outputs": [
    {
     "name": "stdout",
     "output_type": "stream",
     "text": [
      "foo\n",
      "bar\n",
      "baz\n"
     ]
    }
   ],
   "source": [
    "a = ['foo', 'bar', 'baz']\n",
    "itr = iter(a)\n",
    "b = a.copy()\n",
    "\n",
    "while b:\n",
    "    print(next(itr))\n",
    "    b.pop()"
   ]
  },
  {
   "cell_type": "markdown",
   "metadata": {},
   "source": [
    "Note, that iterator is associated with the iterable i.e. if we change an iterable, the iterator will be affected either. \n",
    "\n",
    "**What happens when the iterator runs out of values?** - it will return a `StopIteration ` <span style=\"color:red\"> **exception** </span>."
   ]
  },
  {
   "cell_type": "code",
   "execution_count": 69,
   "metadata": {},
   "outputs": [
    {
     "name": "stdout",
     "output_type": "stream",
     "text": [
      "<list_iterator object at 0x0000027465E1FA20>\n",
      "foo\n",
      "bar\n"
     ]
    },
    {
     "ename": "StopIteration",
     "evalue": "",
     "output_type": "error",
     "traceback": [
      "\u001b[1;31m---------------------------------------------------------------------------\u001b[0m",
      "\u001b[1;31mStopIteration\u001b[0m                             Traceback (most recent call last)",
      "\u001b[1;32m<ipython-input-69-c91a07ce6a7a>\u001b[0m in \u001b[0;36m<module>\u001b[1;34m\u001b[0m\n\u001b[0;32m      5\u001b[0m \u001b[1;33m\u001b[0m\u001b[0m\n\u001b[0;32m      6\u001b[0m \u001b[1;32mwhile\u001b[0m \u001b[0ma\u001b[0m\u001b[1;33m:\u001b[0m\u001b[1;33m\u001b[0m\u001b[1;33m\u001b[0m\u001b[0m\n\u001b[1;32m----> 7\u001b[1;33m     \u001b[0mprint\u001b[0m\u001b[1;33m(\u001b[0m\u001b[0mnext\u001b[0m\u001b[1;33m(\u001b[0m\u001b[0mitr\u001b[0m\u001b[1;33m)\u001b[0m\u001b[1;33m)\u001b[0m\u001b[1;33m\u001b[0m\u001b[1;33m\u001b[0m\u001b[0m\n\u001b[0m\u001b[0;32m      8\u001b[0m     \u001b[0ma\u001b[0m\u001b[1;33m.\u001b[0m\u001b[0mpop\u001b[0m\u001b[1;33m(\u001b[0m\u001b[1;33m)\u001b[0m\u001b[1;33m\u001b[0m\u001b[1;33m\u001b[0m\u001b[0m\n",
      "\u001b[1;31mStopIteration\u001b[0m: "
     ]
    }
   ],
   "source": [
    "a = ['foo', 'bar', 'baz']\n",
    "itr = iter(a)\n",
    "\n",
    "print(itr)\n",
    "\n",
    "while a:\n",
    "    print(next(itr))\n",
    "    a.pop()"
   ]
  },
  {
   "cell_type": "markdown",
   "metadata": {},
   "source": [
    "If you **want to grab all the values from an iterator at once**, you can use the built-in `list()` function. Among other possible uses, `list()` takes an iterator as its argument, and returns a list consisting of all the values that the iterator yielded:"
   ]
  },
  {
   "cell_type": "code",
   "execution_count": 15,
   "metadata": {},
   "outputs": [
    {
     "data": {
      "text/plain": [
       "['foo', 'bar', 'baz']"
      ]
     },
     "execution_count": 15,
     "metadata": {},
     "output_type": "execute_result"
    }
   ],
   "source": [
    "a = ['foo', 'bar', 'baz']\n",
    "itr = iter(a)\n",
    "list(itr)\n",
    "['foo', 'bar', 'baz']"
   ]
  },
  {
   "cell_type": "markdown",
   "metadata": {},
   "source": [
    "**Similarly**, the built-in `tuple()` and `set()` functions return a tuple and a set, respectively, from all the values an iterator yields:"
   ]
  },
  {
   "cell_type": "code",
   "execution_count": 18,
   "metadata": {},
   "outputs": [
    {
     "data": {
      "text/plain": [
       "('foo', 'bar', 'baz')"
      ]
     },
     "execution_count": 18,
     "metadata": {},
     "output_type": "execute_result"
    }
   ],
   "source": [
    "itr = iter(a)\n",
    "tuple(itr)"
   ]
  },
  {
   "cell_type": "code",
   "execution_count": 20,
   "metadata": {},
   "outputs": [
    {
     "data": {
      "text/plain": [
       "{'bar', 'baz', 'foo'}"
      ]
     },
     "execution_count": 20,
     "metadata": {},
     "output_type": "execute_result"
    }
   ],
   "source": [
    "itr = iter(a)\n",
    "set(itr)"
   ]
  },
  {
   "cell_type": "markdown",
   "metadata": {},
   "source": [
    "**Iterators are “lazy”** i.e. when you create an iterator, it doesn’t generate all the items it can yield just then. It waits until you ask for them with `next()`. Items are not created until they are requested."
   ]
  },
  {
   "cell_type": "markdown",
   "metadata": {},
   "source": [
    "## 2. The guts of the Python `for` loop\n",
    "Overview of the terminology:\n",
    "\n",
    "* **Iteration:** process of looping through the objects or items in a collection;\n",
    "* **Iterable:** object (or the adjective used to describe an object) that can be iterated over;\n",
    "* **Iterator:** object that produces successive items or values from its associated iterable;\n",
    "* **`iter()`:** built-in function used to obtain an iterator from an iterable.\n",
    "\n",
    "Now, consider again the simple for loop presented at the start of this tutorial:"
   ]
  },
  {
   "cell_type": "code",
   "execution_count": 22,
   "metadata": {},
   "outputs": [
    {
     "name": "stdout",
     "output_type": "stream",
     "text": [
      "foo\n",
      "bar\n",
      "baz\n"
     ]
    }
   ],
   "source": [
    "a = ['foo', 'bar', 'baz']\n",
    "for i in a:\n",
    "    print(i)"
   ]
  },
  {
   "cell_type": "markdown",
   "metadata": {},
   "source": [
    "This loop can be described entirely in terms we have just learned about i.e. Python does the following:\n",
    "\n",
    "**1.** Calls `iter()` to obtain an iterator for `a`;    \n",
    "**2.** Calls `next()` repeatedly to obtain each item from the iterator in turn    \n",
    "**3.** Terminates the loop when `next()` raises the `StopIteration` exception    \n",
    "\n",
    "The loop body is executed once for each item `next()` returns, with loop variable `i` set to the given item for each iteration.\n",
    "\n",
    "This sequence of events is summarized in the following diagram:\n",
    "\n",
    "<img src=\"for.jpg\" height=\"300\" width=\"300\"/>\n",
    "\n",
    "**Advantages** of this approach:\n",
    "\n",
    "**(1)** There is a **standard library module <span style=\"color:blue\"> itertools </span> (https://docs.python.org/3/library/itertools.html) containing <span style=\"color:red\"> many useful functions</span> that return iterables.**    \n",
    "**(2)** Many built-in and library objects are iterable.    \n",
    "**(3)** User-defined objects created with Python’s object-oriented capability can be made to be iterable.    \n",
    "**(4)** Python has a construct called a `generator` that allows you to create your own iterator in a straightforward way.    "
   ]
  },
  {
   "cell_type": "markdown",
   "metadata": {},
   "source": [
    "## 3. Iterating through a dictionary or parallel lists\n",
    "**Dictionaries must be iterable**. What happens when you loop through a dictionary?"
   ]
  },
  {
   "cell_type": "code",
   "execution_count": 24,
   "metadata": {},
   "outputs": [
    {
     "name": "stdout",
     "output_type": "stream",
     "text": [
      "foo\n",
      "bar\n",
      "baz\n"
     ]
    }
   ],
   "source": [
    "d = {'foo': 1, 'bar': 2, 'baz': 3}\n",
    "for k in d:\n",
    "    print(k)"
   ]
  },
  {
   "cell_type": "markdown",
   "metadata": {},
   "source": [
    "So, when a `for` loop iterates through a dictionary, the **loop variable is assigned to the dictionary’s keys**.\n",
    "\n",
    "**To access the dictionary values within the loop**, you can make a dictionary reference using the key as usual:"
   ]
  },
  {
   "cell_type": "code",
   "execution_count": 26,
   "metadata": {},
   "outputs": [
    {
     "name": "stdout",
     "output_type": "stream",
     "text": [
      "1\n",
      "2\n",
      "3\n"
     ]
    }
   ],
   "source": [
    "for k in d:\n",
    "    print(d[k]) # use returned keys to access values "
   ]
  },
  {
   "cell_type": "markdown",
   "metadata": {},
   "source": [
    "You can also iterate through a dictionary’s values directly by method `.values()`, **but it is not Pythonic way**:\n",
    "    "
   ]
  },
  {
   "cell_type": "code",
   "execution_count": 31,
   "metadata": {},
   "outputs": [
    {
     "name": "stdout",
     "output_type": "stream",
     "text": [
      "1\n",
      "2\n",
      "3\n"
     ]
    }
   ],
   "source": [
    "for i in d.values():\n",
    "    print(i)"
   ]
  },
  {
   "cell_type": "markdown",
   "metadata": {},
   "source": [
    "In fact, **you can iterate through both the keys and values of a dictionary simultaneously**. That is because the **loop variable of a for loop isn’t limited to just a single variable**.    \n",
    "**It can also be a tuple**, in which case the assignments are made from the items in the iterable using packing and unpacking:"
   ]
  },
  {
   "cell_type": "code",
   "execution_count": 32,
   "metadata": {},
   "outputs": [
    {
     "name": "stdout",
     "output_type": "stream",
     "text": [
      "1 2\n",
      "3 4\n",
      "5 6\n"
     ]
    }
   ],
   "source": [
    "for i, j in [(1, 2), (3, 4), (5, 6)]:\n",
    "    print(i, j)"
   ]
  },
  {
   "cell_type": "markdown",
   "metadata": {},
   "source": [
    "So, the dict method `.items()` effectively returns a list of key/value pairs as tuples:"
   ]
  },
  {
   "cell_type": "code",
   "execution_count": 2,
   "metadata": {},
   "outputs": [
    {
     "name": "stdout",
     "output_type": "stream",
     "text": [
      "('foo', 1)\n",
      "('bar', 2)\n",
      "('baz', 3)\n"
     ]
    }
   ],
   "source": [
    "d = {'foo': 1, 'bar': 2, 'baz': 3}\n",
    "for k in d.items():\n",
    "    print(k)"
   ]
  },
  {
   "cell_type": "markdown",
   "metadata": {},
   "source": [
    "You can also **iterate over two or more lists in parallel** using `zip(*iterables)` function.    \n",
    "The `zip()` function take iterables (can be zero or more), makes iterator that aggregates elements based on the iterables passed, and **returns an iterator of tuples**: "
   ]
  },
  {
   "cell_type": "code",
   "execution_count": 56,
   "metadata": {},
   "outputs": [
    {
     "name": "stdout",
     "output_type": "stream",
     "text": [
      "k =  1 , v =  5\n",
      "k =  2 , v =  4\n",
      "k =  3 , v =  3\n",
      "k =  4 , v =  2\n",
      "k =  5 , v =  1\n"
     ]
    }
   ],
   "source": [
    "a = [1,2,3,4,5]\n",
    "b = [5,4,3,2,1]\n",
    "\n",
    "for i, j in zip(a, b): # unpacking the returned tuple: a, b = (a, b)\n",
    "    print('k = ', i, ', v = ', j)"
   ]
  },
  {
   "cell_type": "markdown",
   "metadata": {},
   "source": [
    "## 4. The `range()` function\n",
    "In the beginning of this tutorial we saw a **numeric range for-loop**. Although this form of for loop isn’t directly built into Python, it is easily arrived at.    \n",
    "The built-in `range([start,] stop[, step])` function **returns an immutable iterable that yields a sequence of integers**.     \n",
    "`range()` **takes a small amount of memory, since it does not stores the whole list**.\n",
    "We can then iterate over it:"
   ]
  },
  {
   "cell_type": "code",
   "execution_count": 57,
   "metadata": {},
   "outputs": [
    {
     "name": "stdout",
     "output_type": "stream",
     "text": [
      "0\n",
      "1\n",
      "2\n",
      "3\n",
      "4\n"
     ]
    }
   ],
   "source": [
    "x = range(5)\n",
    "\n",
    "for i in x:\n",
    "    print(i)"
   ]
  },
  {
   "cell_type": "markdown",
   "metadata": {},
   "source": [
    "**All the parameters specified to `range()` must be integers.** For floats, use NumPy.\n",
    "\n",
    "`range()` also allows to impement a **C-style loop**:\n",
    "\n",
    "```C\n",
    "for (int i = a; i < n; i+=s) {\n",
    "    // ...\n",
    "}\n",
    "```\n",
    "\n",
    "Is equivalent to:\n",
    "\n",
    "```Python\n",
    "for i in range(a, n, s):\n",
    "    # ...\n",
    "```"
   ]
  },
  {
   "cell_type": "markdown",
   "metadata": {},
   "source": [
    "## 5. Taking the item index, `enumerate()` function\n",
    "What if you need the item index? The `enumerate()` built-in is helpful in this case.     \n",
    "**It returns the tuple of the value together with its index.**"
   ]
  },
  {
   "cell_type": "code",
   "execution_count": 8,
   "metadata": {},
   "outputs": [
    {
     "name": "stdout",
     "output_type": "stream",
     "text": [
      "(0, 0)\n",
      "(1, 1)\n",
      "(2, 2)\n",
      "(3, 3)\n",
      "(4, 4)\n",
      "(5, 5)\n",
      "(6, 6)\n",
      "(7, 7)\n",
      "(8, 8)\n",
      "(9, 9)\n"
     ]
    }
   ],
   "source": [
    "lst = range(10)\n",
    "for i in enumerate(lst):\n",
    "    print(i)"
   ]
  },
  {
   "cell_type": "markdown",
   "metadata": {},
   "source": [
    "## 6. Altering `for` loop behavior\n",
    "### 6.1 The `break` and `continue` statements\n",
    "`break` and `continue` work the same way with `for` loops as with `while` loops:"
   ]
  },
  {
   "cell_type": "code",
   "execution_count": 61,
   "metadata": {},
   "outputs": [
    {
     "name": "stdout",
     "output_type": "stream",
     "text": [
      "foo\n"
     ]
    }
   ],
   "source": [
    "for i in ['foo', 'bar', 'baz', 'qux']:\n",
    "    if 'b' in i:\n",
    "        break\n",
    "    print(i)"
   ]
  },
  {
   "cell_type": "code",
   "execution_count": 63,
   "metadata": {},
   "outputs": [
    {
     "name": "stdout",
     "output_type": "stream",
     "text": [
      "foo\n",
      "qux\n"
     ]
    }
   ],
   "source": [
    "for i in ['foo', 'bar', 'baz', 'qux']:\n",
    "    if 'b' in i:\n",
    "        continue\n",
    "    print(i)"
   ]
  },
  {
   "cell_type": "markdown",
   "metadata": {},
   "source": [
    "### 6.2 The `else` clause\n",
    "A `for` loop can have an `else` clause as well. The interpretation is analogous to that of a `while` loop i.e. **the** `else` **clause won’t be executed if the list is broken out of with a** `break` **statement**:"
   ]
  },
  {
   "cell_type": "code",
   "execution_count": 68,
   "metadata": {},
   "outputs": [
    {
     "name": "stdout",
     "output_type": "stream",
     "text": [
      "foo\n",
      "bar\n"
     ]
    }
   ],
   "source": [
    "for i in ['foo', 'bar', 'baz', 'qux']:\n",
    "    if i == 'baz':\n",
    "        break\n",
    "    print(i)\n",
    "else:\n",
    "    print('Done')  # Will not execute"
   ]
  }
 ],
 "metadata": {
  "kernelspec": {
   "display_name": "Python 3",
   "language": "python",
   "name": "python3"
  },
  "language_info": {
   "codemirror_mode": {
    "name": "ipython",
    "version": 3
   },
   "file_extension": ".py",
   "mimetype": "text/x-python",
   "name": "python",
   "nbconvert_exporter": "python",
   "pygments_lexer": "ipython3",
   "version": "3.7.3"
  }
 },
 "nbformat": 4,
 "nbformat_minor": 2
}
