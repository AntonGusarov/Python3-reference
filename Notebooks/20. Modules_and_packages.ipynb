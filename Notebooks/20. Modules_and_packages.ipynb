{
 "cells": [
  {
   "cell_type": "markdown",
   "metadata": {},
   "source": [
    "# <span style=\"color:green\"> Python modules and packages </span>\n",
    "\n",
    "This article explores Python <span style=\"color:blue\"> **modules** </span> and Python <span style=\"color:blue\"> **packages** </span>, two mechanisms that facilitate <span style=\"color:blue\"> **modular programming**</span>.\n",
    "\n",
    "**Modular programming** refers to the process of breaking a large, unwieldy programming task into separate, smaller, more manageable subtasks or modules. Individual modules can then be cobbled together like building blocks to create a larger application.\n",
    "\n",
    "Advantages to modularizing code:\n",
    "\n",
    "1. **Simplicity:** a module typically focuses on a relatively small portion of the problem i.e. you have a smaller problem domain to wrap your head around;\n",
    "\n",
    "* **Maintainability:** modules enforce logical boundaries between different problem domains. If modules written in a way that minimizes interdependency, there is decreased likelyhood that modofication in a single module will impact others. This makes it more vialbe for a team to work collaboratively;\n",
    "\n",
    "* **Reusability:** functionality defined in a single module can be reused (through an appropriately defined interface) by other parts of the application. This eliminate the need to recreate duplicate code. \n",
    "* **Scoping:** modules tupically define a separate **namespace**, which helps **avoid collisions between identifiers** in different areas of a program.\n",
    "\n",
    "<span style=\"color:blue\">**Functions**</span>, <span style=\"color:blue\">**modules**</span> and <span style=\"color:blue\">**packages**</span> are all constructs in Python that promote code modularization."
   ]
  },
  {
   "cell_type": "markdown",
   "metadata": {},
   "source": [
    "## <span style=\"color:green\"> 1. Python modules: overview </span>\n"
   ]
  }
 ],
 "metadata": {
  "kernelspec": {
   "display_name": "Python 3",
   "language": "python",
   "name": "python3"
  },
  "language_info": {
   "codemirror_mode": {
    "name": "ipython",
    "version": 3
   },
   "file_extension": ".py",
   "mimetype": "text/x-python",
   "name": "python",
   "nbconvert_exporter": "python",
   "pygments_lexer": "ipython3",
   "version": "3.7.3"
  }
 },
 "nbformat": 4,
 "nbformat_minor": 4
}
