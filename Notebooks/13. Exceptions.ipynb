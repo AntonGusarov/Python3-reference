{
 "cells": [
  {
   "cell_type": "markdown",
   "metadata": {},
   "source": [
    "# <span style=\"color:green\"> Python exceptions </span>\n",
    "\n",
    "A Python program terminates as soon as it encounters an error. In Python, an error can be a **syntax error** or an **exception**.\n",
    "\n",
    "**Summing up**\n",
    "\n",
    "> `raise` allows you to throw an exception at any time.     \n",
    "`assert` enables you to verify if a certain condition is met and throw an exception if it isn’t.    \n",
    "In `try` clause, all statements are executed until an exception is encountered.    \n",
    "`except` is used to catch and handle the exception(s) that are encountered in the *try* clause.    \n",
    "`else` lets you code sections that should run only when no exceptions are encountered in the *try* clause.    \n",
    "`finally` enables you to execute sections of code that should always run, with or without any previously encountered exceptions.    \n",
    "\n",
    "**Key takeaways on `try-except`**:    \n",
    "\n",
    ">-- `try` clause is executed up **until the point where the first exception is encountered**.    \n",
    "-- Inside the `except` clause, or the exception handler, you determine how the program responds to the exception.    \n",
    "-- You can anticipate multiple exceptions and differentiate how the program should respond to them.    \n",
    "-- **Avoid using bare** `except` **clauses**.    \n",
    "\n",
    "**Philosophy of `else`**: \n",
    ">The use of the `else` clause is better than adding additional code to the `try` clause because it avoids accidentally catching an exception that wasn’t raised by the code being protected by the `try-except` statement.\n",
    "\n",
    "So, if you have a method that could, for example, throw an IOError, and you want to catch exceptions it raises, but there's something else you want to do if the first operation succeeds, and you don't want to catch an IOError from that operation, you might write something like this:"
   ]
  },
  {
   "cell_type": "markdown",
   "metadata": {},
   "source": [
    "```Python\n",
    "try:\n",
    "    operation_that_can_throw_ioerror()\n",
    "except IOError:\n",
    "    handle_the_exception_somehow()\n",
    "else:\n",
    "    # we don't want to catch the IOError if it's raised\n",
    "    another_operation_that_can_throw_ioerror()\n",
    "finally:\n",
    "    something_we_always_need_to_do()\n",
    "```\n",
    "There is one big reason to use else - style and readability. It's generally **a good idea to keep code that can cause exceptions near the code that deals with them**. For example, compare these:\n",
    "\n",
    "```Python\n",
    "try:\n",
    "    from EasyDialogs import AskPassword\n",
    "    # 20 other lines\n",
    "    getpass = AskPassword\n",
    "except ImportError:\n",
    "    getpass = default_getpass\n",
    "```\n",
    "and\n",
    "\n",
    "```Python\n",
    "try:\n",
    "    from EasyDialogs import AskPassword\n",
    "except ImportError:\n",
    "    getpass = default_getpass\n",
    "else:\n",
    "    # 20 other lines\n",
    "    getpass = AskPassword\n",
    "```"
   ]
  },
  {
   "cell_type": "markdown",
   "metadata": {},
   "source": [
    "## <span style=\"color:green\"> 1. Exceptions vs Syntax Errors </span>\n",
    "<span style=\"color:blue\"> **Syntax errors** </span> occurs when the parser detects an incorrect statement:"
   ]
  },
  {
   "cell_type": "code",
   "execution_count": 2,
   "metadata": {},
   "outputs": [
    {
     "ename": "SyntaxError",
     "evalue": "invalid syntax (<ipython-input-2-c3931f671051>, line 1)",
     "output_type": "error",
     "traceback": [
      "\u001b[1;36m  File \u001b[1;32m\"<ipython-input-2-c3931f671051>\"\u001b[1;36m, line \u001b[1;32m1\u001b[0m\n\u001b[1;33m    print( 0 / 0 ))\u001b[0m\n\u001b[1;37m                  ^\u001b[0m\n\u001b[1;31mSyntaxError\u001b[0m\u001b[1;31m:\u001b[0m invalid syntax\n"
     ]
    }
   ],
   "source": [
    "print( 0 / 0 ))"
   ]
  },
  {
   "cell_type": "markdown",
   "metadata": {},
   "source": [
    "The **arrow indicates where the parser ran into the syntax error**. In this example, there was one bracket too many.  \n",
    "\n",
    "Remove it and run your code again:"
   ]
  },
  {
   "cell_type": "code",
   "execution_count": 4,
   "metadata": {},
   "outputs": [
    {
     "ename": "ZeroDivisionError",
     "evalue": "division by zero",
     "output_type": "error",
     "traceback": [
      "\u001b[1;31m---------------------------------------------------------------------------\u001b[0m",
      "\u001b[1;31mZeroDivisionError\u001b[0m                         Traceback (most recent call last)",
      "\u001b[1;32m<ipython-input-4-b7f65c155a3b>\u001b[0m in \u001b[0;36m<module>\u001b[1;34m\u001b[0m\n\u001b[1;32m----> 1\u001b[1;33m \u001b[0mprint\u001b[0m\u001b[1;33m(\u001b[0m \u001b[1;36m0\u001b[0m \u001b[1;33m/\u001b[0m \u001b[1;36m0\u001b[0m\u001b[1;33m)\u001b[0m\u001b[1;33m\u001b[0m\u001b[1;33m\u001b[0m\u001b[0m\n\u001b[0m",
      "\u001b[1;31mZeroDivisionError\u001b[0m: division by zero"
     ]
    }
   ],
   "source": [
    "print( 0 / 0)"
   ]
  },
  {
   "cell_type": "markdown",
   "metadata": {},
   "source": [
    "This time, you ran into an <span style=\"color:blue\"> **exception error** </span>. This type of error occurs **whenever syntactically correct Python code results in an error**.     \n",
    "The **last line of the message indicated what type of exception error** you ran into. In this case, it was a `ZeroDivisionError`.      \n",
    "Python comes with various built-in exceptions as well as the possibility to create <span style=\"color:blue\"> **self-defined exceptions** </span>."
   ]
  },
  {
   "cell_type": "markdown",
   "metadata": {},
   "source": [
    "## <span style=\"color:green\"> 2. Raising an Exception </span>\n",
    "We can use `raise` **to throw an exception**. The statement can be complemented with a **custom exception and `if`-clause**.  \n",
    "\n",
    "Syntax:\n",
    "```Python\n",
    "raise [ExceptionObject(pars)]\n",
    "```\n",
    "<img src=\"raise.jpg\" height=\"450\" width=\"450\"/>\n",
    "\n",
    "Example:"
   ]
  },
  {
   "cell_type": "code",
   "execution_count": 36,
   "metadata": {},
   "outputs": [
    {
     "ename": "StopIteration",
     "evalue": "x should not exceed 5. The value of x was: 10",
     "output_type": "error",
     "traceback": [
      "\u001b[1;31m---------------------------------------------------------------------------\u001b[0m",
      "\u001b[1;31mStopIteration\u001b[0m                             Traceback (most recent call last)",
      "\u001b[1;32m<ipython-input-36-e49de418571a>\u001b[0m in \u001b[0;36m<module>\u001b[1;34m\u001b[0m\n\u001b[0;32m      1\u001b[0m \u001b[0mx\u001b[0m \u001b[1;33m=\u001b[0m \u001b[1;36m10\u001b[0m\u001b[1;33m\u001b[0m\u001b[1;33m\u001b[0m\u001b[0m\n\u001b[0;32m      2\u001b[0m \u001b[1;32mif\u001b[0m \u001b[0mx\u001b[0m \u001b[1;33m>\u001b[0m \u001b[1;36m5\u001b[0m\u001b[1;33m:\u001b[0m\u001b[1;33m\u001b[0m\u001b[1;33m\u001b[0m\u001b[0m\n\u001b[1;32m----> 3\u001b[1;33m     \u001b[1;32mraise\u001b[0m \u001b[0mStopIteration\u001b[0m\u001b[1;33m(\u001b[0m\u001b[1;34mf'x should not exceed 5. The value of x was: {x}'\u001b[0m\u001b[1;33m)\u001b[0m \u001b[1;31m# Exception is the base class for exceptions in Python\u001b[0m\u001b[1;33m\u001b[0m\u001b[1;33m\u001b[0m\u001b[0m\n\u001b[0m",
      "\u001b[1;31mStopIteration\u001b[0m: x should not exceed 5. The value of x was: 10"
     ]
    }
   ],
   "source": [
    "x = 10\n",
    "if x > 5:\n",
    "    raise Exception(f'x should not exceed 5. The value of x was: {x}') # Exception is the base class for exceptions in Python"
   ]
  },
  {
   "cell_type": "markdown",
   "metadata": {},
   "source": [
    "## <span style=\"color:green\"> 3. `AssertionError` Exception </span>\n",
    "More pythonic way of the previous example if-raise construction.\n",
    "\n",
    "It allows to **throw a user-defined Assertion Exception**. \n",
    "\n",
    "Syntax:\n",
    "```Python\n",
    "assert expression1 [\",\" expression2]\n",
    "```\n",
    "\n",
    "<img src=\"assert.jpg\" height=\"450\" width=\"450\"/>\n",
    "\n",
    "where `expression2` is to pass an optional **error message string that will be displayed with the AssertionError in the traceback**. \n",
    "\n",
    "Python’s `assert` statement is a debugging aid that tests a condition. The way to look at it is to say that `assertions` are internal self-checks for your program. They work by declaring some conditions as impossible in your code.\n",
    "\n",
    "We `assert` that a certain condition is met. If this condition turns out to be `True`, then that is excellent! The program can continue. If the condition turns out to be `False`, you can have the program throw an `AssertionError` exception with an optional error message.\n",
    "\n",
    "Have a look at the following example, where it is asserted that the code will be executed on a Linux system:"
   ]
  },
  {
   "cell_type": "code",
   "execution_count": 8,
   "metadata": {},
   "outputs": [
    {
     "ename": "AssertionError",
     "evalue": "This code runs on Linux only.",
     "output_type": "error",
     "traceback": [
      "\u001b[1;31m---------------------------------------------------------------------------\u001b[0m",
      "\u001b[1;31mAssertionError\u001b[0m                            Traceback (most recent call last)",
      "\u001b[1;32m<ipython-input-8-e31e8d82fd13>\u001b[0m in \u001b[0;36m<module>\u001b[1;34m\u001b[0m\n\u001b[0;32m      1\u001b[0m \u001b[1;32mimport\u001b[0m \u001b[0msys\u001b[0m\u001b[1;33m\u001b[0m\u001b[1;33m\u001b[0m\u001b[0m\n\u001b[1;32m----> 2\u001b[1;33m \u001b[1;32massert\u001b[0m \u001b[1;33m(\u001b[0m\u001b[1;34m'linux'\u001b[0m \u001b[1;32min\u001b[0m \u001b[0msys\u001b[0m\u001b[1;33m.\u001b[0m\u001b[0mplatform\u001b[0m\u001b[1;33m)\u001b[0m\u001b[1;33m,\u001b[0m \u001b[1;34m\"This code runs on Linux only.\"\u001b[0m\u001b[1;33m\u001b[0m\u001b[1;33m\u001b[0m\u001b[0m\n\u001b[0m",
      "\u001b[1;31mAssertionError\u001b[0m: This code runs on Linux only."
     ]
    }
   ],
   "source": [
    "import sys\n",
    "assert ('linux' in sys.platform), \"This code runs on Linux only.\""
   ]
  },
  {
   "cell_type": "markdown",
   "metadata": {},
   "source": [
    "If you run this code on a Linux machine, the assertion passes. If you were to run this code on a Windows machine, the outcome of the assertion would be False and the result would be the error message.\n",
    "\n",
    "In this example, **throwing an AssertionError exception is the last thing that the program will do. The program will come to halt and will not continue. What if that is not what you want?**"
   ]
  },
  {
   "cell_type": "markdown",
   "metadata": {},
   "source": [
    "## <span style=\"color:green\"> 4. The  `try`-`except` block: handling exceptions </span>\n",
    "\n",
    "In the previous example, **throwing an AssertionError exception is the last thing that the program will do. The program will come to halt and will not continue. What if you want to handle this exception and solve the problem without posting the error message?**\n",
    "\n",
    "The `try` and `except` block in Python is used to **catch and handle exceptions**. \n",
    "Python executes code following the `try` statement as a “normal” part of the program. The code that follows the `except` statement is the program’s response to any exceptions in the preceding `try` clause.\n",
    "\n",
    "```Python\n",
    "try:\n",
    "    <statements>\n",
    "except Exception_type as name:\n",
    "    print(name)\n",
    "    <statements>\n",
    "```\n",
    "\n",
    "<img src=\"try_except.jpg\" height=\"400\" width=\"400\"/>"
   ]
  },
  {
   "cell_type": "markdown",
   "metadata": {},
   "source": [
    "You can give the function a `try` using the following code:"
   ]
  },
  {
   "cell_type": "code",
   "execution_count": 37,
   "metadata": {},
   "outputs": [],
   "source": [
    "try:\n",
    "    assert('linux' in sys.platform), \"Function can only run on Linux systems.\"\n",
    "    print('Doing something.')\n",
    "    \n",
    "except:\n",
    "    pass # how to handle the exception, i.e. part of code run only in case of exception"
   ]
  },
  {
   "cell_type": "markdown",
   "metadata": {},
   "source": [
    "So, function was not executed after `assert` and instead of error message you do `pass`.    \n",
    "You can change the `pass` into something that would generate an informative message, like so:"
   ]
  },
  {
   "cell_type": "code",
   "execution_count": 13,
   "metadata": {},
   "outputs": [
    {
     "name": "stdout",
     "output_type": "stream",
     "text": [
      "Linux function was not executed\n"
     ]
    }
   ],
   "source": [
    "try:\n",
    "    assert ('linux' in sys.platform), \"Function can only run on Linux systems.\"\n",
    "    print('Doing something.')\n",
    "    \n",
    "except:\n",
    "    print('Linux function was not executed')"
   ]
  },
  {
   "cell_type": "markdown",
   "metadata": {},
   "source": [
    "So, when an exception occurs, the program will continue as well as inform you about the fact that the function call was not successful.\n",
    "\n",
    "**What you did not get to see was the type of error that was thrown** as a result of the function call. In order to see exactly what went wrong, you would need to catch the error that the function threw. Following code is an example where you capture the `AssertionError`:"
   ]
  },
  {
   "cell_type": "code",
   "execution_count": 18,
   "metadata": {},
   "outputs": [
    {
     "name": "stdout",
     "output_type": "stream",
     "text": [
      "Function can only run on Linux systems.\n",
      "The linux_interaction() function was not executed\n"
     ]
    }
   ],
   "source": [
    "try:\n",
    "    assert('linux' in sys.platform), \"Function can only run on Linux systems.\"\n",
    "    print('Doing something.')\n",
    "    \n",
    "except AssertionError as err:\n",
    "    print(err)\n",
    "    print('The linux_interaction() function was not executed')"
   ]
  },
  {
   "cell_type": "markdown",
   "metadata": {},
   "source": [
    "Here’s another example where you open a file and use a built-in exception:"
   ]
  },
  {
   "cell_type": "code",
   "execution_count": 23,
   "metadata": {},
   "outputs": [
    {
     "name": "stdout",
     "output_type": "stream",
     "text": [
      "[Errno 2] No such file or directory: 'file.log'\n"
     ]
    }
   ],
   "source": [
    "try:\n",
    "    with open('file.log') as file:\n",
    "        read_data = file.read()\n",
    "except FileNotFoundError as fnf_error:\n",
    "    print(fnf_error)"
   ]
  },
  {
   "cell_type": "markdown",
   "metadata": {},
   "source": [
    "A thing to note here is that **the code in the `try` clause will stop as soon as an exception is encountered.**\n",
    "\n",
    "**Warning:** Catching Exception hides all errors! Even those which are completely unexpected. This is why **you should avoid bare except clauses** in your Python programs. Instead, you’ll want to refer to specific exception classes you want to catch and handle. \n",
    "\n",
    "**key takeaways**:     \n",
    "* `try` clause is executed up **until the point where the first exception is encountered**\n",
    "* Inside the `except` clause, or the exception handler, you determine how the program responds to the exception.\n",
    "* You can anticipate multiple exceptions and differentiate how the program should respond to them.\n",
    "* **Avoid using bare `except` clauses**."
   ]
  },
  {
   "cell_type": "markdown",
   "metadata": {},
   "source": [
    "## <span style=\"color:green\"> 5. The `else` clause </span>\n",
    "\n",
    "Using the `else` statement, you can instruct a program to execute a certain block of code **only in the absence of exceptions**.\n",
    "\n",
    "<img src=\"try_except_else.jpg\" height=\"450\" width=\"450\"/>\n",
    "\n",
    "Look at the following example:"
   ]
  },
  {
   "cell_type": "code",
   "execution_count": 28,
   "metadata": {},
   "outputs": [
    {
     "name": "stdout",
     "output_type": "stream",
     "text": [
      "Doing something.\n",
      "Executing the else clause.\n"
     ]
    }
   ],
   "source": [
    "try: \n",
    "    assert('win' in sys.platform), \"Function can only run on Linux systems.\"\n",
    "    print('Doing something.')\n",
    "except AssertionError as error:\n",
    "    print(error)\n",
    "    \n",
    "else:\n",
    "    print('Executing the else clause.')"
   ]
  },
  {
   "cell_type": "markdown",
   "metadata": {},
   "source": [
    "You can also **`try` to run code inside the else clause** and catch possible exceptions there as well:"
   ]
  },
  {
   "cell_type": "code",
   "execution_count": 38,
   "metadata": {},
   "outputs": [
    {
     "name": "stdout",
     "output_type": "stream",
     "text": [
      "Doing something.\n",
      "[Errno 2] No such file or directory: 'file.log'\n"
     ]
    }
   ],
   "source": [
    "try:\n",
    "    assert('win' in sys.platform), \"Function can only run on Linux systems.\"\n",
    "    print('Doing something.')   \n",
    "except AssertionError as error:\n",
    "    print(error)\n",
    "    \n",
    "else:\n",
    "    try:\n",
    "        with open('file.log') as file:\n",
    "            read_data = file.read()\n",
    "    except FileNotFoundError as fnf_error:\n",
    "        print(fnf_error)\n"
   ]
  },
  {
   "cell_type": "markdown",
   "metadata": {},
   "source": [
    "## <span style=\"color:green\"> 6. Cleaning up after using `finally` </span>\n",
    "Imagine that you always had to **implement some sort of action to clean up after executing your code**. \n",
    "Python enables you to do so using the `finally` clause.\n",
    "\n",
    "<img src=\"try_except_else_finally.jpg\" height=\"400\" width=\"400\"/>\n",
    "\n",
    "Have a look at the following example:"
   ]
  },
  {
   "cell_type": "code",
   "execution_count": 40,
   "metadata": {},
   "outputs": [
    {
     "name": "stdout",
     "output_type": "stream",
     "text": [
      "Function can only run on Linux systems.\n",
      "Cleaning up, irrespective of any exceptions.\n"
     ]
    }
   ],
   "source": [
    "try:\n",
    "    assert('linux' in sys.platform), \"Function can only run on Linux systems.\"\n",
    "    print('Doing something.') \n",
    "except AssertionError as error:\n",
    "    print(error)\n",
    "else:\n",
    "    try:\n",
    "        with open('file.log') as file:\n",
    "            read_data = file.read()\n",
    "    except FileNotFoundError as fnf_error:\n",
    "        print(fnf_error)\n",
    "finally:\n",
    "    print('Cleaning up, irrespective of any exceptions.')"
   ]
  }
 ],
 "metadata": {
  "kernelspec": {
   "display_name": "Python 3",
   "language": "python",
   "name": "python3"
  },
  "language_info": {
   "codemirror_mode": {
    "name": "ipython",
    "version": 3
   },
   "file_extension": ".py",
   "mimetype": "text/x-python",
   "name": "python",
   "nbconvert_exporter": "python",
   "pygments_lexer": "ipython3",
   "version": "3.7.3"
  }
 },
 "nbformat": 4,
 "nbformat_minor": 2
}
