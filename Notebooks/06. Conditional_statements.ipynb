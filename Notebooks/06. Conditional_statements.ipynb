{
 "cells": [
  {
   "cell_type": "markdown",
   "metadata": {},
   "source": [
    "# Conditional statements\n",
    "**Overview:**\n",
    "> * Introduced to the concept of **if control structures** i.e. compound statements that alter program control flow;\n",
    "> * Learned how to group individual statements together into a **block**;\n",
    "> * Learned **one-line `if/else/elif` statements**;\n",
    "> * Encountered the **`if/else` conditional expression (ternary operator)**, which makes it possible to conditionally execute a statement based on evaluation of program data;\n",
    "> * Trenary **`if/else` expressions can be chained** together with parentheses serving as alternative to `if/elif` construction;\n",
    "> * Encountered the **`pass`** placeholding statement."
   ]
  },
  {
   "cell_type": "markdown",
   "metadata": {},
   "source": [
    "## 1. Introduction to the `if` statement\n",
    "If construction in its simplest form:\n",
    "``` Python\n",
    "if <expr>:\n",
    "    <statement>\n",
    "```\n",
    "\n",
    "`<expr>` is an expression evaluated in Boolean context, as discussed in the section on Logical Operators in the Operators and Expressions in Python tutorial.    \n",
    "`<statement>` is a valid Python statement, **which must be indented**. \n",
    "\n",
    "If `<expr>` is `True`, then `<statement>` is executed. If `<expr>` is false, then `<statement>` is skipped over.    \n",
    "**Note** that the colon `:` following `<expr>` is required.   \n",
    "\n",
    "Example:"
   ]
  },
  {
   "cell_type": "code",
   "execution_count": 2,
   "metadata": {},
   "outputs": [
    {
     "name": "stdout",
     "output_type": "stream",
     "text": [
      "yes\n"
     ]
    }
   ],
   "source": [
    "if 'aul' in 'grault': # Truthy\n",
    "    print('yes')"
   ]
  },
  {
   "cell_type": "markdown",
   "metadata": {},
   "source": [
    "## 2. Grouping statements: identations and blocks\n",
    "Say we need to evaluate a condition and then do more than one thing if it is true. Python follows a convention known as the <span style=\"color:blue\">**off-side rule** </span>. I.e. in a Python program, contiguous **statements that are indented to the same level are considered to be part of the same block**.\n",
    "\n",
    "> A computer programming language is said to adhere to the **off-side rule** if blocks in that language are expressed by their indentation.    \n",
    "The term was coined by Peter J. Landin, after the offside rule in football. This is contrasted with **free-form languages**, notably curly-bracket programming languages, where indentation is not meaningful.\n",
    "\n",
    "**Compound `if` statement** in Python looks like this:\n",
    "\n",
    "``` Python\n",
    "if <expr>:\n",
    "    <statement>\n",
    "    <statement>\n",
    "    ...\n",
    "    <statement>\n",
    "\n",
    "<following_statement>\n",
    "```"
   ]
  },
  {
   "cell_type": "markdown",
   "metadata": {},
   "source": [
    "**Blocks can be nested to arbitrary depth**. Each indent defines a new block, and each outdent ends the preceding block:"
   ]
  },
  {
   "cell_type": "code",
   "execution_count": 3,
   "metadata": {},
   "outputs": [
    {
     "name": "stdout",
     "output_type": "stream",
     "text": [
      "Outer condition is true\n",
      "Between inner conditions\n",
      "Inner condition 2\n",
      "End of outer condition\n",
      "After outer condition\n"
     ]
    }
   ],
   "source": [
    "# Does line execute?                        Yes    No\n",
    "#                                           ---    --\n",
    "if 'foo' in ['foo', 'bar', 'baz']:        #  x\n",
    "    print('Outer condition is true')      #  x\n",
    "    \n",
    "    if 10 > 20:                           #  x\n",
    "        print('Inner condition 1')        #        x\n",
    "\n",
    "    print('Between inner conditions')     #  x\n",
    "\n",
    "    if 10 < 20:                           #  x\n",
    "        print('Inner condition 2')        #  x\n",
    "\n",
    "    print('End of outer condition')       #  x\n",
    "print('After outer condition')            #  x"
   ]
  },
  {
   "cell_type": "markdown",
   "metadata": {},
   "source": [
    "## 3. The `else` and `elif` clauses\n",
    "`else:` sometimes, we want to evaluate a condition and take one path if it is true but **specify an alternative path if it is not**:"
   ]
  },
  {
   "cell_type": "markdown",
   "metadata": {},
   "source": [
    "```Python\n",
    "if <expr>:\n",
    "    <statement(s)>\n",
    "else:\n",
    "    <statement(s)>\n",
    "```"
   ]
  },
  {
   "cell_type": "markdown",
   "metadata": {},
   "source": [
    "There is also syntax for branching execution based on **several alternatives**. For this, use one or more `elif <expr>:` (short for else if) clauses:\n",
    "\n",
    "```Python\n",
    "if <expr>:\n",
    "    <statement(s)>\n",
    "elif <expr>:\n",
    "    <statement(s)>\n",
    "elif <expr>:\n",
    "    <statement(s)>\n",
    "    ...\n",
    "else:\n",
    "    <statement(s)>\n",
    "```"
   ]
  },
  {
   "cell_type": "markdown",
   "metadata": {},
   "source": [
    "**Note:** Using a lengthy `if/elif/else` series can be a little inelegant, especially when the actions are simple statements like `print()`. There may be a more Pythonic way to do **(by `dict.get()` method of a dictionary**):"
   ]
  },
  {
   "cell_type": "code",
   "execution_count": 5,
   "metadata": {},
   "outputs": [
    {
     "name": "stdout",
     "output_type": "stream",
     "text": [
      "Hello Joe\n"
     ]
    }
   ],
   "source": [
    "names = {\n",
    "    'Fred': 'Hello Fred',\n",
    "    'Xander': 'Hello Xander',\n",
    "    'Joe': 'Hello Joe',\n",
    "    'Arnold': 'Hello Arnold'\n",
    "}\n",
    "\n",
    "print(names.get('Joe', \"I don't know who you are!\"))"
   ]
  },
  {
   "cell_type": "markdown",
   "metadata": {},
   "source": [
    "# 4. One-line `if`, `elif`, `else` statements\n",
    "it is permissible to write an **entire `if` statement on one line** although it is **discouraged by PEP8** except is the expression is short and simple enough:\n",
    "\n",
    "```Python\n",
    "if <expr>: <statement>\n",
    "```\n",
    "Or even:\n",
    "```Python\n",
    "if <expr>: <statement_1>; <statement_2>; ...; <statement_n>\n",
    "```"
   ]
  },
  {
   "cell_type": "markdown",
   "metadata": {},
   "source": [
    "In this case: if `<expr>` is True, execute **all** of `<statement_1>` ... `<statement_n>`. Otherwise, don’t execute any of them."
   ]
  },
  {
   "cell_type": "markdown",
   "metadata": {},
   "source": [
    "Multiple statements may be specified on the same line as an `elif` or `else` clause as well:"
   ]
  },
  {
   "cell_type": "code",
   "execution_count": 8,
   "metadata": {},
   "outputs": [
    {
     "name": "stdout",
     "output_type": "stream",
     "text": [
      "qux\n",
      "quux\n"
     ]
    }
   ],
   "source": [
    "x = 2\n",
    "if x == 1:   print('foo'); print('bar'); print('baz')\n",
    "elif x == 2: print('qux'); print('quux')\n",
    "else: print('corge'); print('grault')"
   ]
  },
  {
   "cell_type": "markdown",
   "metadata": {},
   "source": [
    "# 5. Conditional Expressions (Ternary Operator)\n",
    "Python supports one additional decision-making entity called a <span style=\"color:blue\"> **conditional expression** </span>.     \n",
    "In its simplest form, the syntax of the conditional expression is as follows:\n",
    "``` Python\n",
    "<expr1> if <conditional_expr> else <expr2>\n",
    "```\n",
    "This is different from the if statement forms listed above because **it is not a control structure that directs the flow of program execution**. \n",
    "\n",
    "<span style=\"color:blue\"> **It acts as an operator that defines an expression.** </span>     \n",
    "In the above example, **`<conditional_expr>` is evaluated first**. If it is True, the expression evaluates to `<expr1>`. If it is False, the expression evaluates to `<expr2>`.\n",
    "\n",
    "Example:"
   ]
  },
  {
   "cell_type": "code",
   "execution_count": 10,
   "metadata": {},
   "outputs": [
    {
     "data": {
      "text/plain": [
       "'minor'"
      ]
     },
     "execution_count": 10,
     "metadata": {},
     "output_type": "execute_result"
    }
   ],
   "source": [
    "age = 12\n",
    "s = 'minor' if age < 21 else 'adult'\n",
    "s"
   ]
  },
  {
   "cell_type": "markdown",
   "metadata": {},
   "source": [
    "Another example:"
   ]
  },
  {
   "cell_type": "code",
   "execution_count": 12,
   "metadata": {},
   "outputs": [
    {
     "name": "stdout",
     "output_type": "stream",
     "text": [
      "Let's go to the library\n"
     ]
    }
   ],
   "source": [
    "raining = True\n",
    "print(\"Let's go to the\", 'beach' if not raining else 'library')"
   ]
  },
  {
   "cell_type": "markdown",
   "metadata": {},
   "source": [
    "**It can be used as part of a longer expression.** The conditional expression has lower precedence than virtually all the other operators, so **parentheses are needed to group it by itself**. If you want the conditional expression to be evaluated first, you need to surround it with grouping parentheses:"
   ]
  },
  {
   "cell_type": "code",
   "execution_count": 14,
   "metadata": {},
   "outputs": [
    {
     "data": {
      "text/plain": [
       "43"
      ]
     },
     "execution_count": 14,
     "metadata": {},
     "output_type": "execute_result"
    }
   ],
   "source": [
    "x = y = 40\n",
    "\n",
    "z = 1 + (x if x > y else y) + 2\n",
    "z"
   ]
  },
  {
   "cell_type": "markdown",
   "metadata": {},
   "source": [
    "Another example, contrasting the previous one:"
   ]
  },
  {
   "cell_type": "code",
   "execution_count": 16,
   "metadata": {},
   "outputs": [
    {
     "data": {
      "text/plain": [
       "42"
      ]
     },
     "execution_count": 16,
     "metadata": {},
     "output_type": "execute_result"
    }
   ],
   "source": [
    "z = (1 + x) if x > y else (y + 2)\n",
    "z"
   ]
  },
  {
   "cell_type": "markdown",
   "metadata": {},
   "source": [
    "If you are using a conditional expression as part of a larger expression, it probably is a **good idea to use grouping parentheses for clarification** even if they are not needed."
   ]
  },
  {
   "cell_type": "markdown",
   "metadata": {},
   "source": [
    "* **Conditional expressions can also be chained together**, as a sort of alternative `if/elif/else` structure, as shown here:"
   ]
  },
  {
   "cell_type": "code",
   "execution_count": 18,
   "metadata": {},
   "outputs": [],
   "source": [
    "s = ('foo' if (x == 1) else\n",
    "     'bar' if (x == 2) else\n",
    "     'baz' if (x == 3) else\n",
    "     'qux' if (x == 4) else\n",
    "     'quux'\n",
    ")"
   ]
  },
  {
   "cell_type": "markdown",
   "metadata": {},
   "source": [
    "# 6. The `pass` statement\n",
    "Occasionally, you want to write what is called a code stub: a **placeholder where you will put a block of code that you haven’t implemented yet**.\n",
    "The Python pass statement solves this problem. It doesn’t change program behavior at all. "
   ]
  },
  {
   "cell_type": "code",
   "execution_count": 19,
   "metadata": {},
   "outputs": [
    {
     "name": "stdout",
     "output_type": "stream",
     "text": [
      "foo\n"
     ]
    }
   ],
   "source": [
    "if True:\n",
    "    pass # I don't know what to do here yet\n",
    "\n",
    "print('foo')"
   ]
  }
 ],
 "metadata": {
  "kernelspec": {
   "display_name": "Python 3",
   "language": "python",
   "name": "python3"
  },
  "language_info": {
   "codemirror_mode": {
    "name": "ipython",
    "version": 3
   },
   "file_extension": ".py",
   "mimetype": "text/x-python",
   "name": "python",
   "nbconvert_exporter": "python",
   "pygments_lexer": "ipython3",
   "version": "3.7.3"
  }
 },
 "nbformat": 4,
 "nbformat_minor": 2
}
