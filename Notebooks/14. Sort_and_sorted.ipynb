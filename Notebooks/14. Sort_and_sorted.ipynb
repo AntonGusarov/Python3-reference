{
 "cells": [
  {
   "cell_type": "markdown",
   "metadata": {},
   "source": [
    "# <span style=\"color:green\"> How to Use `sorted()` and `sort()` in Python </span>\n",
    "\n",
    "**Conclusions**     \n",
    ">`.sort()` and `sorted()` can provide exactly the sort order you need if you use them properly with both the reverse and key optional keyword arguments.\n",
    "\n",
    "> Both have very different characteristics when it comes to output and in-place modifications; `.sort()` can irrevocably overwrite data.\n",
    "\n",
    "> For the avid Pythonistas, try using more complex data types in sorting: nested iterables. Also, feel free to dive into the open source Python code implementations for the built-ins and read about the sort algorithm used in Python called **Timsort**.\n",
    "\n",
    "## <span style=\"color:green\"> 1. Ordering Values With `sorted()` </span>\n",
    "\n",
    "See how to sort both numeric data and string data.\n",
    "\n",
    "## <span style=\"color:green\"> 1.1. Sorting numbers </span>\n",
    "\n",
    "You can use Python to sort a list by using a built-in, standard (no additional arguments) `sorted()`; The output from this code is a **new, sorted list**:"
   ]
  },
  {
   "cell_type": "code",
   "execution_count": 4,
   "metadata": {},
   "outputs": [
    {
     "data": {
      "text/plain": [
       "[2, 6, 9, 10]"
      ]
     },
     "execution_count": 4,
     "metadata": {},
     "output_type": "execute_result"
    }
   ],
   "source": [
    "numbers = [6, 9, 2, 10]\n",
    "numbers_sorted = sorted(numbers)\n",
    "numbers_sorted"
   ]
  },
  {
   "cell_type": "code",
   "execution_count": 8,
   "metadata": {},
   "outputs": [
    {
     "name": "stdout",
     "output_type": "stream",
     "text": [
      "Help on built-in function sorted in module builtins:\n",
      "\n",
      "sorted(iterable, /, *, key=None, reverse=False)\n",
      "    Return a new list containing all items from the iterable in ascending order.\n",
      "    \n",
      "    A custom key function can be supplied to customize the sort order, and the\n",
      "    reverse flag can be set to request the result in descending order.\n",
      "\n"
     ]
    }
   ],
   "source": [
    "help(sorted)"
   ]
  },
  {
   "cell_type": "markdown",
   "metadata": {},
   "source": [
    "The `sorted()` can be used on ITERABLES i.e. tuples and **sets** very similarly, but **returning the list anyway**:"
   ]
  },
  {
   "cell_type": "code",
   "execution_count": 10,
   "metadata": {},
   "outputs": [
    {
     "data": {
      "text/plain": [
       "[1, 3, 6, 9]"
      ]
     },
     "execution_count": 10,
     "metadata": {},
     "output_type": "execute_result"
    }
   ],
   "source": [
    "numbers_set = {6, 9, 3, 1}\n",
    "tuple_sorted = sorted(numbers_set)\n",
    "tuple_sorted"
   ]
  },
  {
   "cell_type": "markdown",
   "metadata": {},
   "source": [
    "## <span style=\"color:green\"> 1.2. Sorting strings </span>\n",
    "For strings, the `sorted()` will treat a string like a list and **iterate through each element and return a list of elements.**"
   ]
  },
  {
   "cell_type": "code",
   "execution_count": 11,
   "metadata": {},
   "outputs": [
    {
     "data": {
      "text/plain": [
       "['1', '2', '3', '4', '5']"
      ]
     },
     "execution_count": 11,
     "metadata": {},
     "output_type": "execute_result"
    }
   ],
   "source": [
    "string_number_value = '34521'\n",
    "string_value = 'I like to sort'\n",
    "sorted_string_number = sorted(string_number_value)\n",
    "sorted_string = sorted(string_value)\n",
    "\n",
    "sorted_string_number"
   ]
  },
  {
   "cell_type": "code",
   "execution_count": 13,
   "metadata": {},
   "outputs": [
    {
     "data": {
      "text/plain": [
       "[' ', ' ', ' ', 'I', 'e', 'i', 'k', 'l', 'o', 'o', 'r', 's', 't', 't']"
      ]
     },
     "execution_count": 13,
     "metadata": {},
     "output_type": "execute_result"
    }
   ],
   "source": [
    "sorted_string "
   ]
  },
  {
   "cell_type": "markdown",
   "metadata": {},
   "source": [
    "`.split()` can change this behavior and clean up the output, and `.join()` can put it all back together:"
   ]
  },
  {
   "cell_type": "code",
   "execution_count": 19,
   "metadata": {},
   "outputs": [
    {
     "data": {
      "text/plain": [
       "['I', 'like', 'to', 'sort']"
      ]
     },
     "execution_count": 19,
     "metadata": {},
     "output_type": "execute_result"
    }
   ],
   "source": [
    "string_value = 'I like to sort'\n",
    "sorted_string = sorted(string_value.split())\n",
    "sorted_string_joined = ' '.join(sorted_string)\n",
    "\n",
    "string_value.split()"
   ]
  },
  {
   "cell_type": "code",
   "execution_count": 17,
   "metadata": {},
   "outputs": [
    {
     "data": {
      "text/plain": [
       "['I', 'like', 'sort', 'to']"
      ]
     },
     "execution_count": 17,
     "metadata": {},
     "output_type": "execute_result"
    }
   ],
   "source": [
    "sorted_string"
   ]
  },
  {
   "cell_type": "code",
   "execution_count": 20,
   "metadata": {},
   "outputs": [
    {
     "data": {
      "text/plain": [
       "'I like sort to'"
      ]
     },
     "execution_count": 20,
     "metadata": {},
     "output_type": "execute_result"
    }
   ],
   "source": [
    "sorted_string_joined"
   ]
  },
  {
   "cell_type": "markdown",
   "metadata": {},
   "source": [
    "## <span style=\"color:green\"> 1.3. `sorted()` with a `key` argument\n",
    "This argument expects a **function to be passed to it**, and **that function will be used on each value in the list** being sorted **to determine** the resulting **order**.\n",
    "    \n",
    "* Number of required arguments in the function passed to `key` must be one;\n",
    "* Function used with `key` must be able to handle all the values in the iterable.\n",
    "    \n",
    "Example: `len()` is used with the key argument"
   ]
  },
  {
   "cell_type": "code",
   "execution_count": 24,
   "metadata": {},
   "outputs": [
    {
     "data": {
      "text/plain": [
       "['Washington', 'banana', 'book', 'pie']"
      ]
     },
     "execution_count": 24,
     "metadata": {},
     "output_type": "execute_result"
    }
   ],
   "source": [
    "words = ['banana', 'pie', 'Washington', 'book']\n",
    "sorted(words, key=len, reverse=True)"
   ]
  },
  {
   "cell_type": "markdown",
   "metadata": {},
   "source": [
    "Another example:"
   ]
  },
  {
   "cell_type": "code",
   "execution_count": 26,
   "metadata": {},
   "outputs": [
    {
     "data": {
      "text/plain": [
       "['al', 'harry', 'Mark', 'Suzy']"
      ]
     },
     "execution_count": 26,
     "metadata": {},
     "output_type": "execute_result"
    }
   ],
   "source": [
    "names_with_case = ['harry', 'Suzy', 'al', 'Mark']\n",
    "sorted(names_with_case, key=str.lower)"
   ]
  },
  {
   "cell_type": "markdown",
   "metadata": {},
   "source": [
    "Yet another example:"
   ]
  },
  {
   "cell_type": "code",
   "execution_count": 28,
   "metadata": {},
   "outputs": [
    {
     "data": {
      "text/plain": [
       "['banana', 'pie', 'book', 'Washington']"
      ]
     },
     "execution_count": 28,
     "metadata": {},
     "output_type": "execute_result"
    }
   ],
   "source": [
    "def reverse_word(word):\n",
    "    return word[::-1] # sort of the backwards words\n",
    "    \n",
    "words = ['banana', 'pie', 'Washington', 'book']\n",
    "sorted(words, key=reverse_word)"
   ]
  },
  {
   "cell_type": "markdown",
   "metadata": {},
   "source": [
    "## <span style=\"color:green\"> 1.4. Using `lambda` functions for `key` argument </span>\n",
    "\n",
    "In the example below, the `key` is defined as a `lambda` with no name:\n",
    "```Python\n",
    "lambda x: <function over x>\n",
    "```"
   ]
  },
  {
   "cell_type": "code",
   "execution_count": 30,
   "metadata": {},
   "outputs": [
    {
     "data": {
      "text/plain": [
       "['banana', 'pie', 'book', 'Washington']"
      ]
     },
     "execution_count": 30,
     "metadata": {},
     "output_type": "execute_result"
    }
   ],
   "source": [
    "words = ['banana', 'pie', 'Washington', 'book']\n",
    "sorted(words, key= lambda x: x[::-1])"
   ]
  },
  {
   "cell_type": "markdown",
   "metadata": {},
   "source": [
    "The `lambda` functions are also useful **when you need to sort class objects based on a certain property**.     \n",
    "If you have a group of students and need to **sort them by their final grade**, highest to lowest, **then a lambda can be used to get the grade property from the class**:"
   ]
  },
  {
   "cell_type": "code",
   "execution_count": 61,
   "metadata": {},
   "outputs": [
    {
     "name": "stdout",
     "output_type": "stream",
     "text": [
      "StudentsFinal(name='Patty', grade=94)\n",
      "StudentsFinal(name='Bill', grade=90)\n",
      "StudentsFinal(name='Bart', grade=89)\n"
     ]
    }
   ],
   "source": [
    "import collections\n",
    "\n",
    "# define a namedtuple container \n",
    "StudentsFinal = collections.namedtuple('StudentsFinal', ['name', 'grade']) \n",
    "\n",
    "# define classes\n",
    "bill = StudentsFinal('Bill', 90) \n",
    "patty = StudentsFinal('Patty', 94)\n",
    "bart = StudentsFinal('Bart', 89)\n",
    "\n",
    "# order classes in a list:\n",
    "students = [bill, patty, bart]\n",
    "\n",
    "# sort\n",
    "students_sorted = sorted(students, key=lambda x: getattr(x, 'grade'), reverse=True) # call getattr() to return an attribute\n",
    "for i in students_sorted: print(i)"
   ]
  },
  {
   "cell_type": "markdown",
   "metadata": {},
   "source": [
    "## <span style=\"color:green\"> 2. Ordering Values With `sort()` </span>\n",
    "\n",
    "The very similarly named `.sort()` differs quite a bit from the `sorted()` built-in. They accomplish more or less the same thing, but:"
   ]
  },
  {
   "cell_type": "code",
   "execution_count": 62,
   "metadata": {},
   "outputs": [
    {
     "name": "stdout",
     "output_type": "stream",
     "text": [
      "Help on method_descriptor:\n",
      "\n",
      "sort(self, /, *, key=None, reverse=False)\n",
      "    Stable sort *IN PLACE*.\n",
      "\n"
     ]
    }
   ],
   "source": [
    "help(list.sort)"
   ]
  },
  {
   "cell_type": "markdown",
   "metadata": {},
   "source": [
    "* **`.sort()` is a method of the list class and can only be used with lists**.     \n",
    "* **`.sort()` returns None and modifies the values in place.**\n",
    "\n",
    "Thus, there are some pretty dramatic differences in how `.sort()` operates compared to `sorted()`:\n",
    "\n",
    "1. There is no ordered output of .sort(), so the assignment to a new variable only passes a None type.\n",
    "2. The values_to_sort list has been changed in place, and the original order is not maintained in any way.\n",
    "\n",
    "These differences in behavior make `.sort()` and `sorted()` *absolutely not interchangeable in code**, and they can produce wildly unexpected outcomes if one is used in the wrong way."
   ]
  },
  {
   "cell_type": "markdown",
   "metadata": {},
   "source": [
    "## <span style=\"color:green\"> 3. When to use `sorted()` and when to use `.sort()` </span> \n",
    "Let’s say there is a 5k race coming up. The data from the race needs to be captured and sorted. The data that needs to be captured is the runner’s bib number and the number of seconds it took to finish the race:"
   ]
  },
  {
   "cell_type": "code",
   "execution_count": 74,
   "metadata": {},
   "outputs": [
    {
     "data": {
      "text/plain": [
       "[Runner(bibnumber='2528567', duration=1500),\n",
       " Runner(bibnumber='7575234', duration=1420),\n",
       " Runner(bibnumber='2666234', duration=1600),\n",
       " Runner(bibnumber='2425234', duration=1490),\n",
       " Runner(bibnumber='1235234', duration=1620)]"
      ]
     },
     "execution_count": 74,
     "metadata": {},
     "output_type": "execute_result"
    }
   ],
   "source": [
    "from collections import namedtuple\n",
    "Runner = namedtuple('Runner', ['bibnumber', 'duration'])\n",
    "\n",
    "# As the runners cross the finish line, each Runner will be added to a list called runners.\n",
    "runners = []\n",
    "\n",
    "runners.append(Runner('2528567', 1500))\n",
    "runners.append(Runner('7575234', 1420))\n",
    "runners.append(Runner('2666234', 1600))\n",
    "runners.append(Runner('2425234', 1490))\n",
    "runners.append(Runner('1235234', 1620))\n",
    "\n",
    "runners"
   ]
  },
  {
   "cell_type": "markdown",
   "metadata": {},
   "source": [
    "Now, the dutiful programmer in charge of handling the outcome data sees this list, knows that the top 5 fastest participants.    \n",
    "There are no requirements for multiple types of sorting by various attributes. The list is a reasonable size. There is no mention of storing the list somewhere. Just sort by duration and grab the five best participants:"
   ]
  },
  {
   "cell_type": "code",
   "execution_count": 75,
   "metadata": {},
   "outputs": [
    {
     "data": {
      "text/plain": [
       "[Runner(bibnumber='7575234', duration=1420),\n",
       " Runner(bibnumber='2425234', duration=1490),\n",
       " Runner(bibnumber='2528567', duration=1500),\n",
       " Runner(bibnumber='2666234', duration=1600),\n",
       " Runner(bibnumber='1235234', duration=1620)]"
      ]
     },
     "execution_count": 75,
     "metadata": {},
     "output_type": "execute_result"
    }
   ],
   "source": [
    "runners.sort(key=lambda i: getattr(i, 'duration'))\n",
    "top_5_runners = runners[:5]\n",
    "top_5_runners"
   ]
  },
  {
   "cell_type": "markdown",
   "metadata": {},
   "source": [
    "Mission accomplished! The race director comes over and informs the programmer that since the current release of Python is 3.7, they have decided that every thirty-seventh person that crossed the finish line is going to get a free gym bag.\n",
    "\n",
    "At this point, the programmer starts to sweat because the list of runners has been irreversibly changed. There is no way to recover the original list of runners in the order they finished and find every thirty-seventh person. \n",
    "\n",
    "**If you’re working with important data, and there is even a remote possibility that the original data will need to be recovered, then .sort() is not the best option.**\n"
   ]
  }
 ],
 "metadata": {
  "kernelspec": {
   "display_name": "Python 3",
   "language": "python",
   "name": "python3"
  },
  "language_info": {
   "codemirror_mode": {
    "name": "ipython",
    "version": 3
   },
   "file_extension": ".py",
   "mimetype": "text/x-python",
   "name": "python",
   "nbconvert_exporter": "python",
   "pygments_lexer": "ipython3",
   "version": "3.7.3"
  }
 },
 "nbformat": 4,
 "nbformat_minor": 2
}
