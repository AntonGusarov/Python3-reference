{
 "cells": [
  {
   "cell_type": "markdown",
   "metadata": {},
   "source": [
    "# <span style=\"color:green\"> Working with files in Python </span>\n",
    "\n",
    "> **Outline**     \n",
    "> * Pattern `with open(...) as ...`\n",
    "> * Getting a directory listing\n",
    "\n",
    "> * Retrieve file properties\n",
    "> * Create directories\n",
    "> * Match patterns in filenames\n",
    "> * Traverse directory trees\n",
    "> * Make temporary files and directories\n",
    "> * Delete files and directories\n",
    "> * Copy, move, rename files and directories\n",
    "> * Create and extract ZIP and TAR archives\n",
    "> * Open multiple files using `fileinput` module\n",
    "\n",
    "## <span style=\"color:green\"> Pattern `with open(...) as ...` </span>\n",
    "Files should be open and closed correctly.\n",
    "\n",
    "Example of opening and reading the text file:\n",
    "\n",
    "> ``` Python\n",
    "> with open('data.txt', 'r') as f:\n",
    ">     data = f.read()\n",
    "> ```\n",
    "\n",
    "`open()` opens files for reading or writing and returns a **file handle** (f in this case) that provides methods that can be used to read or write data to the file.      \n",
    "`open()` takes a filename and a mode as its arguments. `r` opens the file in read only mode. To write data to a file, pass in `w` as an argument instead.\n",
    "\n",
    "## <span style=\"color:green\"> Getting directory listing </span>\n",
    "The built-in os module is useful for **listing directory contents** and **filter results**."
   ]
  }
 ],
 "metadata": {
  "kernelspec": {
   "display_name": "Python 3",
   "language": "python",
   "name": "python3"
  },
  "language_info": {
   "codemirror_mode": {
    "name": "ipython",
    "version": 3
   },
   "file_extension": ".py",
   "mimetype": "text/x-python",
   "name": "python",
   "nbconvert_exporter": "python",
   "pygments_lexer": "ipython3",
   "version": "3.7.3"
  }
 },
 "nbformat": 4,
 "nbformat_minor": 2
}
