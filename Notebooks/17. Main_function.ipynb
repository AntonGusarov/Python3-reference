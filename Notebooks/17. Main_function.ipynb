{
 "cells": [
  {
   "cell_type": "markdown",
   "metadata": {},
   "source": [
    "# <span style=\"color:green\"> Defining `main()` function in Python <span/>\n",
    "    \n",
    "Many programming languages have a special function that is automatically executed when an operating system starts to run a program. This function is usually called `main()` and must have an appropriate specification according to the language standard. \n",
    "    \n",
    "On the other hand, **the Python interpreter executes scripts starting at the top of the file, and there is no specific function that Python automatically executes.**\n",
    "    \n",
    "Nevertheless, having a **defined starting point for the execution of a program is useful for understanding how a program works**. \n",
    "    \n",
    "> Summary:\n",
    "> * Special `__name__` variable\n",
    "> * Purpose of `main()`\n",
    "> * Defining `main()`\n",
    "> * Best practices for `main()`"
   ]
  },
  {
   "cell_type": "markdown",
   "metadata": {},
   "source": [
    "## <span style=\"color:green\"> 1. A basic Python `main()` <span/> \n",
    "    \n",
    "*Simplified syntax:*\n",
    "\n",
    "```Python\n",
    "def main():\n",
    "    print(\"Hello World!\")\n",
    "    \n",
    "if __name__ == \"__main__\":\n",
    "    main()   \n",
    "```\n",
    "    \n",
    "This code pattern is quite common in Python files that you want to be **executed as a script and imported in another module.**     \n",
    "First, should understand how the **Python interpreter sets `__name__` depending on how the code is being executed.**"
   ]
  },
  {
   "cell_type": "markdown",
   "metadata": {},
   "source": [
    "## <span style=\"color:green\"> 2. Execution modes in Python <span/> \n",
    "    \n",
    "Two primary ways how to instruct the interpreter to execute the code:\n",
    "    \n",
    "> **1.** **Execute** Python file **as a script** using the command line      \n",
    "**2.** **Import** the code form one .py file into another or into interactive interpreter \n",
    "    \n",
    "Consider the example Python code saved as `execution_methods.py`:"
   ]
  },
  {
   "cell_type": "markdown",
   "metadata": {},
   "source": [
    "```Python\n",
    "print(\"This is my file to test Python's execution methods.\")\n",
    "print(\"The value of __name__ is:\", repr(__name__))  # repr() displays the printable representation of an object --> string\n",
    "```"
   ]
  },
  {
   "cell_type": "markdown",
   "metadata": {},
   "source": [
    "### <span style=\"color:green\"> Terminology <span/> \n",
    "\n",
    "Words **file**, **module**, and **script** are used throughout this article:\n",
    "\n",
    "* **File:** Python file is any fole consinig the source code. Most of the have the extension `.py`;\n",
    "* **Script:** a Python script executable from the command line to accomplish the task;\n",
    "* **Module:** is a file containing Python definitions and statements, that you intended to import into other modules or into the main module. The file name is the module name with the suffix .py appended. Within a module, the module’s name (as a string) is available as the value of the global variable `__name__`. For instance, use your favorite text editor to create a file called `fibo.py` in the current directory with the following contents:\n",
    "    \n",
    "``` Python\n",
    "# Fibonacci numbers module\n",
    "def fib(n):    # write Fibonacci series up to n\n",
    "    a, b = 0, 1\n",
    "    while a < n:\n",
    "        print(a, end=' ')\n",
    "        a, b = b, a+b\n",
    "    print()\n",
    "```"
   ]
  },
  {
   "cell_type": "markdown",
   "metadata": {},
   "source": [
    "Now, enter the Python interpreter and import this module:\n",
    "``` Python \n",
    "import fibo\n",
    "```\n",
    "\n",
    "Using the module name you can access the functions:\n",
    "```Python\n",
    ">>> fibo.fib(1000)\n",
    "```"
   ]
  },
  {
   "cell_type": "markdown",
   "metadata": {},
   "source": [
    "### <span style=\"color:green\"> 2.1. Executing from the command line </span>\n",
    "Run the `execution_methods.py` script defined above from the command line. In IPython we use `%run` magic for it."
   ]
  },
  {
   "cell_type": "code",
   "execution_count": 7,
   "metadata": {},
   "outputs": [
    {
     "name": "stdout",
     "output_type": "stream",
     "text": [
      "This is my file to test Python's execution methods.\n",
      "The value of __name__ is: '__main__'\n"
     ]
    }
   ],
   "source": [
    "%run execution_methods.py "
   ]
  },
  {
   "cell_type": "markdown",
   "metadata": {},
   "source": [
    "**You can see that `__name__` has the value `'__main__'`**"
   ]
  },
  {
   "cell_type": "markdown",
   "metadata": {},
   "source": [
    "### <span style=\"color:green\"> 2.2. Importing into a module or the interactive interpreter </span>\n",
    "\n",
    "Now let’s take a look at the second way that the Python interpreter will execute your code: **imports**.\n",
    "\n",
    "**During the import process, Python executes the statements defined in the specified module (but only the first time you import a module)**.     \n",
    "\n",
    "*Demonstrate:*"
   ]
  },
  {
   "cell_type": "code",
   "execution_count": 9,
   "metadata": {},
   "outputs": [],
   "source": [
    "import execution_methods"
   ]
  },
  {
   "cell_type": "markdown",
   "metadata": {},
   "source": [
    "**1.** You can see that the Python interpreter **executes the the calls to `print()` - i.e. <span style=\"color:blue\"> we have a side effect when importing!</span>**     \n",
    "**2.** When interpreter imports the code, **value of `__name__` is set to be the same as the name of the module that is being imported.**"
   ]
  },
  {
   "cell_type": "markdown",
   "metadata": {},
   "source": [
    "## <span style=\"color:green\"> 3. Best practices for Python main functions <span/> \n",
    "    \n",
    "You will learn about four best practices:\n",
    "> **1.** Put most code into a function or class.    \n",
    "> **2.** Use `__name__` to control execution of the code.    \n",
    "> **3.** Create `main()` to contain the code you want to run.    \n",
    "> **4.** Call other functions from `main()`. \n",
    "    \n",
    "    \n",
    "### <span style=\"color:green\"> Practice 1: Put most code into a function or class <span/>\n",
    "    \n",
    "Remember that the **Python interpreter executes all the code in a module when it imports the module**.      \n",
    "Sometimes the code you write will have **side effects that you want the user to control** rather than letting the Python interpreter execute the code when it imports your module.\n",
    "    \n",
    "Therefore, there is a practice is **to include most code inside a function or a class**. This is because **when the Python interpreter encounters the** `def` **or** `class` **keywords, it only stores those definitions for later use and doesn’t actually execute them until you tell it to.**\n",
    "    \n",
    "*Example:*\n",
    "\n",
    "Save the code below to a file called `best_practices.py` to demonstrate this idea:\n",
    "    \n",
    "```Python\n",
    "from time import sleep\n",
    "\n",
    "print(\"This is my file to demonstrate best practices.\")\n",
    "\n",
    "def process_data(data):\n",
    "    print(\"Beginning data processing...\")\n",
    "    modified_data = data + \" that has been modified\"\n",
    "    sleep(3)\n",
    "    print(\"Data processing finished.\")\n",
    "    return modified_data\n",
    "```\n",
    "    \n",
    "**1.** Run this from the command line: **not executed**"
   ]
  },
  {
   "cell_type": "code",
   "execution_count": 16,
   "metadata": {},
   "outputs": [
    {
     "name": "stdout",
     "output_type": "stream",
     "text": [
      "This is my file to demonstrate best practices.\n"
     ]
    }
   ],
   "source": [
    "%run best_practices.py"
   ]
  },
  {
   "cell_type": "markdown",
   "metadata": {},
   "source": [
    "**2.** Import this module into interactive interpreter: **no side-effects**"
   ]
  },
  {
   "cell_type": "code",
   "execution_count": 17,
   "metadata": {},
   "outputs": [
    {
     "name": "stdout",
     "output_type": "stream",
     "text": [
      "This is my file to demonstrate best practices.\n"
     ]
    }
   ],
   "source": [
    "import best_practices"
   ]
  },
  {
   "cell_type": "markdown",
   "metadata": {},
   "source": [
    "### <span style=\"color:green\"> Practice 2: Use `if __name__ == \"main\"` to control the execution of your code <span/>\n",
    "    \n",
    "What if you want `process_data()` to execute when you run the script from the command line but not when the Python interpreter imports the file?\n",
    "    \n",
    "Using this practice, you are able to write Python **code that can be run from the command line as a script and imported without unwanted side effects.**\n",
    "\n",
    "You can **use the** `if __name__ == \"main\"` **idiom to determine the execution context** and conditionally run `process_data()` only when `__name__` is equal to `\"__main__\"`:\n",
    "    \n",
    "```Python\n",
    "from time import sleep\n",
    "\n",
    "print(\"This is my file to demonstrate best practices.\")\n",
    "\n",
    "def process_data(data):\n",
    "    print(\"Beginning data processing...\")\n",
    "    modified_data = data + \" that has been modified\"\n",
    "    sleep(3)\n",
    "    print(\"Data processing finished.\")\n",
    "    return modified_data\n",
    "\n",
    "# Added to the previous source code:\n",
    "if __name__ == \"__main__\":\n",
    "    data = \"My data read from the Web\"\n",
    "    print(data)\n",
    "    modified_data = process_data(data)\n",
    "    print(modified_data)\n",
    "```   \n",
    "    \n",
    "**1.** Run this from the command line: **we will have it executed!**"
   ]
  },
  {
   "cell_type": "code",
   "execution_count": 13,
   "metadata": {},
   "outputs": [
    {
     "name": "stdout",
     "output_type": "stream",
     "text": [
      "This is my file to demonstrate best practices.\n",
      "My data read from the Web\n",
      "Beginning data processing...\n",
      "Data processing finished.\n",
      "My data read from the Web that has been modified\n"
     ]
    }
   ],
   "source": [
    "%run best_practice_2.py"
   ]
  },
  {
   "cell_type": "markdown",
   "metadata": {},
   "source": [
    "**2.** Import this module into interactive interpreter: **no unwanted side effects during import**"
   ]
  },
  {
   "cell_type": "code",
   "execution_count": 20,
   "metadata": {},
   "outputs": [],
   "source": [
    "import best_practice_2"
   ]
  },
  {
   "cell_type": "markdown",
   "metadata": {},
   "source": [
    "### <span style=\"color:green\"> Practice 3: Use `main()` to indicate the code you want to run <span/>\n",
    "    \n",
    "Although Python does not assign any significance to a function named `main()`, the best practice is to name the entry point function `main()` anyway. That way, any other **programmers who read your script immediately know that this function is the starting point of the code** that accomplishes the primary task of the script.\n",
    "\n",
    "In addition, `main()` should contain any code that you want to run when the Python interpreter executes the file.      \n",
    "**This is better than putting the code directly into the conditional block because a user can reuse `main()` if they import your module.**\n",
    "    \n",
    "*Example:*\n",
    "\n",
    "``` Python\n",
    "from time import sleep\n",
    "\n",
    "def process_data(data):\n",
    "    print(\"Beginning data processing...\")\n",
    "    modified_data = data + \" that has been modified\"\n",
    "    sleep(3)\n",
    "    print(\"Data processing finished.\")\n",
    "    return modified_data\n",
    "\n",
    "def main():\n",
    "    data = \"My data read from the Web\"\n",
    "    print(data)\n",
    "    modified_data = process_data(data)\n",
    "    print(modified_data)\n",
    "\n",
    "if __name__ == \"__main__\":\n",
    "    main()\n",
    "```"
   ]
  },
  {
   "cell_type": "markdown",
   "metadata": {},
   "source": [
    "### <span style=\"color:green\"> Practice 4: Call other functions from `main()` <span/>\n",
    "    \n",
    "Another common practice in Python is to have `main()` execute other functions, rather than including the task-accomplishing code in `main()`.      \n",
    "    This is especially useful when you can compose your overall task from several smaller sub-tasks that can execute independently.\n",
    "    \n",
    "*Example:*\n",
    "```Python\n",
    "from time import sleep\n",
    "\n",
    "def process_data(data):\n",
    "    print(\"Beginning data processing...\")\n",
    "    modified_data = data + \" that has been modified\"\n",
    "    sleep(3)\n",
    "    print(\"Data processing finished.\")\n",
    "    return modified_data\n",
    "\n",
    "def read_data_from_web():\n",
    "    print(\"Reading data from the Web\")\n",
    "    data = \"Data from the web\"\n",
    "    return data\n",
    "\n",
    "def write_data_to_database(data):\n",
    "    print(\"Writing data to a database\")\n",
    "    print(data)\n",
    "\n",
    "def main():\n",
    "    data = read_data_from_web()\n",
    "    modified_data = process_data(data)\n",
    "    write_data_to_database(modified_data)\n",
    "\n",
    "if __name__ == \"__main__\":\n",
    "    main()\n",
    "```\n",
    "    \n",
    "Now, you can run the whole processing pipeline from the command line.\n",
    "    "
   ]
  },
  {
   "cell_type": "markdown",
   "metadata": {},
   "source": [
    "### <span style=\"color:green\"> Summary of Python main() best practices </span>\n",
    "\n",
    "Here are four key best practices about `main()` in Python:\n",
    "1. Put code that takes a long time to run or has other effects on the computer in a function or class, so you can control exactly when that code is executed.\n",
    "2. Use the different values of `__name__` to determine the context and change the behavior of your code with a conditional statement.\n",
    "3. You should name your entry point function `main()` in order to communicate the intention of the function, even though Python does not assign any special significance to a function named `main()`.\n",
    "4. If you want to reuse functionality from your code, define the logic in functions outside `main()` and call those functions within `main()`."
   ]
  }
 ],
 "metadata": {
  "kernelspec": {
   "display_name": "Python 3",
   "language": "python",
   "name": "python3"
  },
  "language_info": {
   "codemirror_mode": {
    "name": "ipython",
    "version": 3
   },
   "file_extension": ".py",
   "mimetype": "text/x-python",
   "name": "python",
   "nbconvert_exporter": "python",
   "pygments_lexer": "ipython3",
   "version": "3.7.3"
  }
 },
 "nbformat": 4,
 "nbformat_minor": 2
}
