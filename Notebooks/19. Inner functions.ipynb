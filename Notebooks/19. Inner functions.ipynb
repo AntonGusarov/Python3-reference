{
 "cells": [
  {
   "cell_type": "markdown",
   "metadata": {},
   "source": [
    "# <span style=\"color:green\"> Python Inner Functions </span>\n",
    "Let’s look at three common reasons for writing inner (nested) functions.\n",
    "\n",
    "## <span style=\"color:green\"> 1. Encapsulation </span>\n",
    "\n",
    "You use inner functions to protect them from everything happening outside of the function, meaning that they are **hidden from the global scope**.\n",
    "\n",
    "*Illustartive example:*"
   ]
  },
  {
   "cell_type": "code",
   "execution_count": 2,
   "metadata": {},
   "outputs": [
    {
     "name": "stdout",
     "output_type": "stream",
     "text": [
      "24\n"
     ]
    }
   ],
   "source": [
    "def factorial(number):\n",
    "\n",
    "    # Error handling\n",
    "    if not isinstance(number, int):\n",
    "        raise TypeError(\"Sorry. 'number' must be an integer.\")\n",
    "    if not number >= 0:\n",
    "        raise ValueError(\"Sorry. 'number' must be zero or positive.\")\n",
    "\n",
    "    def inner_factorial(number):\n",
    "        if number <= 1:\n",
    "            return 1\n",
    "        return number*inner_factorial(number-1)\n",
    "    \n",
    "    return inner_factorial(number)\n",
    "\n",
    "# Call the outer function.\n",
    "print(factorial(4))"
   ]
  },
  {
   "cell_type": "markdown",
   "metadata": {},
   "source": [
    "An advantage of using this design pattern is that by performing all argument checking in the outer function, you can safely skip error checking altogether in the inner function."
   ]
  },
  {
   "cell_type": "markdown",
   "metadata": {},
   "source": [
    "## <span style=\"color:green\"> 2. Keeping it DRY </span>\n",
    "**DRY**: Do Not Repeat Yourself.\n",
    "\n",
    "Perhaps you have **a giant function that performs the same chunk of code in numerous places.**\n",
    "\n",
    "For example, you might write a function that processes a file, and you want to accept either an open file object or a file name:"
   ]
  },
  {
   "cell_type": "code",
   "execution_count": 4,
   "metadata": {},
   "outputs": [],
   "source": [
    "def process(file_name):\n",
    "    def do_stuff(file_process):\n",
    "        for line in file_process:\n",
    "            print(line)\n",
    "            \n",
    "    if isinstance(file_name, str):\n",
    "        with open(file_name, 'r') as f:\n",
    "            do_stuff(f)\n",
    "    else:\n",
    "        do_stuff(file_name)"
   ]
  },
  {
   "cell_type": "markdown",
   "metadata": {},
   "source": [
    "More practical example:\n",
    "\n",
    "Let’s say you want to know the number of WiFi hotspots in New York City from a CSV:"
   ]
  },
  {
   "cell_type": "code",
   "execution_count": 1,
   "metadata": {},
   "outputs": [],
   "source": [
    "import itertools\n",
    "def process(file_name):\n",
    "\n",
    "    def do_stuff(file_process):\n",
    "        wifi_locations = {}\n",
    "        for line in file_process:\n",
    "            values = line.split(',')\n",
    "            \n",
    "            # Build the dict and increment values.     \n",
    "            try:\n",
    "                wifi_locations[values[4]] = wifi_locations.get(values[4], 0) + 1\n",
    "            except IndexError as name:\n",
    "                print(name, values)\n",
    "             \n",
    "        max_key = 0\n",
    "        for name, key in wifi_locations.items():\n",
    "            all_locations = sum(wifi_locations.values())\n",
    "            if key > max_key:\n",
    "                max_key = key\n",
    "                business = name\n",
    "\n",
    "        print(f'There are {all_locations} Wi-Fi hotspots in NYC, '\n",
    "              f'and {business} has the most with {max_key}.')\n",
    "        \n",
    "\n",
    "    if isinstance(file_name, str):\n",
    "        with open(file_name, 'r') as f:\n",
    "            do_stuff(f)\n",
    "    else:\n",
    "        do_stuff(file_name)"
   ]
  },
  {
   "cell_type": "code",
   "execution_count": 2,
   "metadata": {},
   "outputs": [
    {
     "name": "stdout",
     "output_type": "stream",
     "text": [
      "list index out of range ['qu-01-146067\\n']\n",
      "There are 3348 Wi-Fi hotspots in NYC, and  has the most with 257.\n"
     ]
    }
   ],
   "source": [
    "process('NYC.csv')"
   ]
  },
  {
   "cell_type": "markdown",
   "metadata": {},
   "source": [
    "## <span style=\"color:green\"> 3. Closures and factory functions </span>\n",
    "\n",
    "Now we come to the most important reason of using inner fucntions. All considered above were ordinary functions nested inside another one.\n",
    "\n",
    "### <span style=\"color:green\"> 3.1. What is a closure </span>\n",
    "A **closure causes the inner function to remember the state of its environment when called.** The closure **“closes” the local variable on the stack, and this stays after the stack creation has finished.**\n",
    "\n",
    "*Example:*"
   ]
  },
  {
   "cell_type": "code",
   "execution_count": 24,
   "metadata": {},
   "outputs": [],
   "source": [
    "# Factory function:\n",
    "def generate_power(power):\n",
    "\n",
    "    def nth_power(number):\n",
    "        return number ** power  # ... that is returned by the factory function.\n",
    "\n",
    "    return nth_power # returning a function\n",
    "\n",
    "\n",
    "raise_two   = generate_power(2)  # create one function\n",
    "raise_three = generate_power(3)  # create another function "
   ]
  },
  {
   "cell_type": "code",
   "execution_count": 29,
   "metadata": {},
   "outputs": [
    {
     "name": "stdout",
     "output_type": "stream",
     "text": [
      "4\n",
      "8\n"
     ]
    }
   ],
   "source": [
    "print(raise_two(2))\n",
    "print(raise_three(2))"
   ]
  },
  {
   "cell_type": "markdown",
   "metadata": {},
   "source": [
    "## <span style=\"color:green\"> Conclusion </span>\n",
    "The use of closures and factory functions is the most common and powerful use for inner functions. **In most cases, when you see a decorated function, the decorator is a factory function that takes a function as argument and returns a new function that includes the old function inside the closure.**\n",
    "\n",
    "To put it another way, a **decorator is just syntactic sugar for implementing the process outlined in the `generate_power()` example.**\n",
    "\n",
    "*Example*"
   ]
  },
  {
   "cell_type": "code",
   "execution_count": 31,
   "metadata": {},
   "outputs": [
    {
     "name": "stdout",
     "output_type": "stream",
     "text": [
      "128\n",
      "32\n"
     ]
    }
   ],
   "source": [
    "def generate_power(exponent):\n",
    "    def decorator(f):\n",
    "        def inner(*args):\n",
    "            result = f(*args)\n",
    "            return exponent**result\n",
    "        return inner\n",
    "    return decorator\n",
    "\n",
    "\n",
    "@generate_power(2)\n",
    "def raise_two(n):\n",
    "    return n\n",
    "\n",
    "print(raise_two(7))\n",
    "\n",
    "\n",
    "@generate_power(3)\n",
    "def raise_three(n):\n",
    "    return n\n",
    "\n",
    "print(raise_two(5))"
   ]
  }
 ],
 "metadata": {
  "kernelspec": {
   "display_name": "Python 3",
   "language": "python",
   "name": "python3"
  },
  "language_info": {
   "codemirror_mode": {
    "name": "ipython",
    "version": 3
   },
   "file_extension": ".py",
   "mimetype": "text/x-python",
   "name": "python",
   "nbconvert_exporter": "python",
   "pygments_lexer": "ipython3",
   "version": "3.7.3"
  }
 },
 "nbformat": 4,
 "nbformat_minor": 2
}
