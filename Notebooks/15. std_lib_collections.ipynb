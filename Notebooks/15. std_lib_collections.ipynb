{
 "cells": [
  {
   "cell_type": "markdown",
   "metadata": {},
   "source": [
    "# <span style=\"color:green\"> Module `collections` of std. lib. — container datatypes¶ </span>\n",
    "\n",
    "This module implements specialized container datatypes providing alternatives to Python’s general purpose built-in containers (dict, list, set, and tuple).\n",
    "\n",
    "## Functions and classes:\n",
    "\n",
    "> `namedtuple(name, field_names, ...)` - factory function for creating tuple subclasses with named fields;\n",
    "> > methods:    \n",
    "> > `._make(iterable)` - make a new instance from an existing sequence or iterable.         \n",
    "> > `._asdict()` - return a dict mapping field names to their corresponding values. Returns an OrderedDict instead of a regular dict.     \n",
    "> > `._replace(**kwargs)` - return a new instance of the named tuple with replaced specified fields with new values.          \n",
    "> > `._fields` - tuple of strings listing the field names. Useful for introspection and for creating new named tuple.    \n",
    "> > `<name>(**dict)` - to converts dict to tuple \n",
    "\n",
    "> `deque([iterable[, maxlen])` - “double-ended queue” a list-like container with fast appends and pops in either end;    \n",
    "> > methods:   \n",
    "> > `.append(x)`     \n",
    "> > `.appendleft(x)`        \n",
    "> > `.pop()`     \n",
    "> > `.popleft()`     \n",
    "> > `.extend(iterable)`    \n",
    "> > `.extendleft(iterable)`    \n",
    "> > `.insert(i,x)`     \n",
    "> > `.remove(x)`     \n",
    "> > `.clear()`     \n",
    "> > `.reverse()`     \n",
    "> > `.rotate(n=1)` - rotate the deque n steps to the right. If n is negative, rotate to the left.\n",
    "\n",
    "> `ChainMap` dict-like class for creating a single view of multiple mappings;     \n",
    "\n",
    "> `Counter([iterable-or-mapping])` - dict subclass for counting hashable objects: *Counter(\\[1, 1, 2, 3, 4, 4, 4\\])* --> *Counter({1: 2, 2: 1, 3: 1, 4: 3})*;\n",
    "> > methods:      \n",
    "> > `.elements()` - return an iterator over elements repeating each as many times as its count.       \n",
    "> > `.most_common([N])` - return a list of dual tuples *\\[(val_1,n), (val_2,n), ...\\]* for the N most common elements and their counts, from the most common to the least.    \n",
    "> > `.subtract([iterable-or-mapping])` - elements are subtracted from counter.       \n",
    "> > `usual dictionary methods` are available for `Counter` objects except for (`.fromkeys()` and `.update()`) which work differently for counters.    \n",
    "\n",
    "> `OrderedDict` - return an instance of a dict subclass that has methods specialized for rearranging dictionary order;  \n",
    "> > `.popitem(last=True)` - returns and removes a (key, value) pair.   \n",
    "> > `.move_to_end(key, last=True)` - move an existing key to either end of an ordered dictionary.     \n",
    "> > `.fromkeys(iter)` - create a dict with keys taken from iterable argument\n",
    "\n",
    "> `defaultdict` dict subclass that calls a factory functon to supply missing values."
   ]
  },
  {
   "cell_type": "markdown",
   "metadata": {},
   "source": [
    "## <span style=\"color:green\"> `namedtuple(name, field_names, ...)` factory function\n",
    "**Assigns meaning to each position in a tuple for more readable, self-documenting code.**     \n",
    "They can be used wherever regular tuples are used, and they **add the ability to access fields by name instead of position index**.\n",
    "    \n",
    "Returns a new tuple subclass named `typename`. The new subclass is used to create tuple-like objects that have fields accessible by attribute lookup as well as being indexable and iterable.   \n",
    "The field_names are a sequence of strings such as `['x', 'y']`. Alternatively, field_names can be a single string with each fieldname separated by whitespace and/or commas, for example `'x y'` or `'x, y'`."
   ]
  },
  {
   "cell_type": "code",
   "execution_count": 2,
   "metadata": {},
   "outputs": [],
   "source": [
    "from collections import namedtuple"
   ]
  },
  {
   "cell_type": "markdown",
   "metadata": {},
   "source": [
    "<span style=\"color:blue\">**Define**</span> `namedtuple`"
   ]
  },
  {
   "cell_type": "code",
   "execution_count": 2,
   "metadata": {},
   "outputs": [],
   "source": [
    "Student = namedtuple('Student', 'fname, lname, age')\n",
    "s1 = Student('John', 'Clarke', '13')\n",
    "s2 = Student('Ann', 'Bohn', '17')"
   ]
  },
  {
   "cell_type": "markdown",
   "metadata": {},
   "source": [
    "<span style=\"color:blue\">**Access the field**</span> in named tuple by its name:"
   ]
  },
  {
   "cell_type": "code",
   "execution_count": 3,
   "metadata": {},
   "outputs": [
    {
     "data": {
      "text/plain": [
       "'John'"
      ]
     },
     "execution_count": 3,
     "metadata": {},
     "output_type": "execute_result"
    }
   ],
   "source": [
    "s1.fname"
   ]
  },
  {
   "cell_type": "markdown",
   "metadata": {},
   "source": [
    "**`getattr(name, field)`** function over the object's named attribute (can be needee e.g. for lambda functions):"
   ]
  },
  {
   "cell_type": "code",
   "execution_count": 4,
   "metadata": {},
   "outputs": [
    {
     "data": {
      "text/plain": [
       "'John'"
      ]
     },
     "execution_count": 4,
     "metadata": {},
     "output_type": "execute_result"
    }
   ],
   "source": [
    "getattr(s1, 'fname')"
   ]
  },
  {
   "cell_type": "markdown",
   "metadata": {},
   "source": [
    "**Indexable** as a plain tuple:"
   ]
  },
  {
   "cell_type": "code",
   "execution_count": 5,
   "metadata": {},
   "outputs": [
    {
     "data": {
      "text/plain": [
       "'John'"
      ]
     },
     "execution_count": 5,
     "metadata": {},
     "output_type": "execute_result"
    }
   ],
   "source": [
    "s1[0]"
   ]
  },
  {
   "cell_type": "markdown",
   "metadata": {},
   "source": [
    "**Unpackable** as a plane tuple:"
   ]
  },
  {
   "cell_type": "code",
   "execution_count": 6,
   "metadata": {},
   "outputs": [
    {
     "name": "stdout",
     "output_type": "stream",
     "text": [
      "John Clarke 13\n"
     ]
    }
   ],
   "source": [
    "a,b,c = s1\n",
    "\n",
    "print(a,b,c)"
   ]
  },
  {
   "cell_type": "markdown",
   "metadata": {},
   "source": [
    "In addition to the methods inherited from tuples, **named tuples support three additional methods and two attributes.***       \n",
    "To prevent conflicts with field names, the method and attribute names start with an underscore. \n",
    "\n",
    "**<span style=\"color:blue\">(1) </span>` ._make(iterable)`** - <span style=\"color:blue\">transform iterable e.g. usual tuple into the named tuple (defined in advance) </span>"
   ]
  },
  {
   "cell_type": "code",
   "execution_count": 27,
   "metadata": {},
   "outputs": [
    {
     "data": {
      "text/plain": [
       "Point(x=11, y=22)"
      ]
     },
     "execution_count": 27,
     "metadata": {},
     "output_type": "execute_result"
    }
   ],
   "source": [
    "Point = namedtuple('Point', ['x', 'y'])\n",
    "\n",
    "t = (11, 22)\n",
    "Point._make(t)"
   ]
  },
  {
   "cell_type": "code",
   "execution_count": 26,
   "metadata": {},
   "outputs": [
    {
     "data": {
      "text/plain": [
       "Point(x=12, y=234)"
      ]
     },
     "execution_count": 26,
     "metadata": {},
     "output_type": "execute_result"
    }
   ],
   "source": [
    "d = {'a':12, 'c':234} # will take keys by default\n",
    "Point._make(d.values())"
   ]
  },
  {
   "cell_type": "markdown",
   "metadata": {},
   "source": [
    "**<span style=\"color:blue\">(2) </span>`._asdict()`** - <span style=\"color:blue\">transform named tuple into the ordered dict</span>"
   ]
  },
  {
   "cell_type": "code",
   "execution_count": 8,
   "metadata": {},
   "outputs": [
    {
     "data": {
      "text/plain": [
       "OrderedDict([('x', 11), ('y', 22)])"
      ]
     },
     "execution_count": 8,
     "metadata": {},
     "output_type": "execute_result"
    }
   ],
   "source": [
    "p = Point(x=11, y=22)\n",
    "p._asdict()"
   ]
  },
  {
   "cell_type": "markdown",
   "metadata": {},
   "source": [
    "**<span style=\"color:blue\">(3)</span>`._replace(kwargs)`** - <span style=\"color:blue\"> replace field with a new value in existing field </span>"
   ]
  },
  {
   "cell_type": "code",
   "execution_count": 9,
   "metadata": {},
   "outputs": [
    {
     "data": {
      "text/plain": [
       "Point(x=11, y=33)"
      ]
     },
     "execution_count": 9,
     "metadata": {},
     "output_type": "execute_result"
    }
   ],
   "source": [
    "p = Point(x=11, y=22)\n",
    "p._replace(y=33)"
   ]
  },
  {
   "cell_type": "markdown",
   "metadata": {},
   "source": [
    "**<span style=\"color:blue\">(4)</span>`._fields`** - <span style=\"color:blue\">return a list of fields in the named tuple</span>"
   ]
  },
  {
   "cell_type": "code",
   "execution_count": 10,
   "metadata": {},
   "outputs": [
    {
     "data": {
      "text/plain": [
       "('x', 'y')"
      ]
     },
     "execution_count": 10,
     "metadata": {},
     "output_type": "execute_result"
    }
   ],
   "source": [
    "p._fields"
   ]
  },
  {
   "cell_type": "markdown",
   "metadata": {},
   "source": [
    "**<span style=\"color:blue\"> To convert a dictionary to a named tuple </span>**, use the ** operator (as described in Unpacking Argument Lists):"
   ]
  },
  {
   "cell_type": "code",
   "execution_count": 11,
   "metadata": {},
   "outputs": [
    {
     "data": {
      "text/plain": [
       "Point(x=11, y=22)"
      ]
     },
     "execution_count": 11,
     "metadata": {},
     "output_type": "execute_result"
    }
   ],
   "source": [
    "d = {'x': 11, 'y': 22}\n",
    "Point(**d)"
   ]
  },
  {
   "cell_type": "markdown",
   "metadata": {},
   "source": [
    "## <span style=\"color:green\">`deque([iterable[, maxlen])` - double-ended queue </span>\n",
    "Provides with a double-ended queue which means that **you can append and delete elements from either side of the queue**. \n",
    "\n",
    "First of all you have to import the deque module from the collections library:"
   ]
  },
  {
   "cell_type": "code",
   "execution_count": 12,
   "metadata": {},
   "outputs": [],
   "source": [
    "from collections import deque"
   ]
  },
  {
   "cell_type": "markdown",
   "metadata": {},
   "source": [
    "Now we can instantiate a deque object and append with values:"
   ]
  },
  {
   "cell_type": "code",
   "execution_count": 13,
   "metadata": {},
   "outputs": [
    {
     "data": {
      "text/plain": [
       "deque([1, 3, 4])"
      ]
     },
     "execution_count": 13,
     "metadata": {},
     "output_type": "execute_result"
    }
   ],
   "source": [
    "d = deque()\n",
    "\n",
    "d.append(1)\n",
    "d.append(3)\n",
    "d.append(4)\n",
    "d"
   ]
  },
  {
   "cell_type": "markdown",
   "metadata": {},
   "source": [
    "Then **work similarly to usual lists**. In addition to the class methods, deques **support iteration, pickling, `len(d)`, `reversed(d)`, `copy.copy(d)`, `copy.deepcopy(d)`, membership testing with the `in` operator**, and subscript references such as `d[-1]`. \n",
    "\n",
    "`deques` **support thread-safe, memory efficient appends and pops** from either side of the deque with approximately the same **O(1) performance** in either direction.\n",
    "\n",
    "Though `list` **objects support similar operations, they are optimized for fast fixed-length operations and incur O(n)** memory movement costs for pop(0) and insert(0, v) operations which change both the size and position of the underlying data representation.\n",
    "\n",
    "If `maxlen` is not specified or is None, **deques may grow to an arbitrary length**."
   ]
  },
  {
   "cell_type": "markdown",
   "metadata": {},
   "source": [
    "## <span style=\"color:green\">`OrderedDict([items])` - dict with order memory </span>\n",
    "A dict subclass that **remembers the order entries were added**.     \n",
    "Ordered dictionaries are just like regular dictionaries but have some extra capabilities relating to ordering operations. They have become less important now that the built-in dict class gained the ability to remember insertion order (this new behavior became guaranteed in Python 3.7).\n",
    "\n",
    "Some **differences from `dict` still remain**:\n",
    "\n",
    "* The regular **`dict` was designed to be very good at mapping operations**. Tracking insertion order was secondary.\n",
    "* The **`OrderedDict` was designed to be good at reordering operations**. Space efficiency, iteration speed, and the performance of update operations were secondary.\n",
    "* Algorithmically, **`OrderedDict` can handle frequent reordering operations better than `dict`**. This makes it suitable for tracking recent accesses (for example in an LRU cache).\n",
    "* The **equality operation for `OrderedDict` checks for matching order**.\n",
    "* The `popitem()` method of `OrderedDict` has a different signature. It accepts an optional argument to specify which item is popped.\n",
    "* `OrderedDict` has a `move_to_end()` method to efficiently reposition an element to an endpoint.\n",
    "* Until Python 3.8, `dict` lacked a `__reversed__()` method.\n"
   ]
  },
  {
   "cell_type": "code",
   "execution_count": 14,
   "metadata": {},
   "outputs": [
    {
     "data": {
      "text/plain": [
       "OrderedDict([('Red', 198), ('Green', 170), ('Blue', 160)])"
      ]
     },
     "execution_count": 14,
     "metadata": {},
     "output_type": "execute_result"
    }
   ],
   "source": [
    "from collections import OrderedDict\n",
    "\n",
    "colours = OrderedDict([(\"Red\", 198), (\"Green\", 170), (\"Blue\", 160)])\n",
    "colours"
   ]
  },
  {
   "cell_type": "code",
   "execution_count": 15,
   "metadata": {},
   "outputs": [
    {
     "data": {
      "text/plain": [
       "OrderedDict([('a', None), ('s', None)])"
      ]
     },
     "execution_count": 15,
     "metadata": {},
     "output_type": "execute_result"
    }
   ],
   "source": [
    "d = OrderedDict.fromkeys('assa')\n",
    "d"
   ]
  },
  {
   "cell_type": "markdown",
   "metadata": {},
   "source": [
    "## <span style=\"color:green\">`Counter([iterable-or-mapping])` - counts hashable (immutable) objects </span>\n",
    "It is **a dict-like collection** where **elements are stored as dictionary keys and their counts are stored as dictionary values**.\n",
    "\n",
    "<span style=\"color:blue\"> **Define** </span> the `Counter`:"
   ]
  },
  {
   "cell_type": "code",
   "execution_count": 16,
   "metadata": {},
   "outputs": [
    {
     "data": {
      "text/plain": [
       "Counter({'cats': 4, 'dogs': 8})"
      ]
     },
     "execution_count": 16,
     "metadata": {},
     "output_type": "execute_result"
    }
   ],
   "source": [
    "from collections import Counter\n",
    "\n",
    "c = Counter(cats=4, dogs=8) # a new counter from keyword args\n",
    "c"
   ]
  },
  {
   "cell_type": "code",
   "execution_count": 17,
   "metadata": {},
   "outputs": [
    {
     "data": {
      "text/plain": [
       "Counter()"
      ]
     },
     "execution_count": 17,
     "metadata": {},
     "output_type": "execute_result"
    }
   ],
   "source": [
    "c = Counter() # new empty counter\n",
    "c"
   ]
  },
  {
   "cell_type": "code",
   "execution_count": 18,
   "metadata": {},
   "outputs": [
    {
     "data": {
      "text/plain": [
       "Counter({'red': 4, 'blue': 2})"
      ]
     },
     "execution_count": 18,
     "metadata": {},
     "output_type": "execute_result"
    }
   ],
   "source": [
    "c = Counter({'red': 4, 'blue': 2}) # a new counter from a mapping\n",
    "c"
   ]
  },
  {
   "cell_type": "code",
   "execution_count": 23,
   "metadata": {},
   "outputs": [
    {
     "data": {
      "text/plain": [
       "Counter({'g': 1, 'a': 3, 'l': 2, 'h': 1, 'd': 1})"
      ]
     },
     "execution_count": 23,
     "metadata": {},
     "output_type": "execute_result"
    }
   ],
   "source": [
    "c = Counter('gallahad')  # a new counter from an iterable\n",
    "c"
   ]
  },
  {
   "cell_type": "code",
   "execution_count": 24,
   "metadata": {},
   "outputs": [
    {
     "data": {
      "text/plain": [
       "Counter({1: 2, 2: 1, 3: 1, 4: 3})"
      ]
     },
     "execution_count": 24,
     "metadata": {},
     "output_type": "execute_result"
    }
   ],
   "source": [
    "Counter([1,1,2,3,4,4,4])"
   ]
  },
  {
   "cell_type": "markdown",
   "metadata": {},
   "source": [
    "**<span style=\"color:blue\">(1)</span> `.elements()`** -  returns an iterator over elements repeating each element as many times as its count."
   ]
  },
  {
   "cell_type": "code",
   "execution_count": 20,
   "metadata": {},
   "outputs": [
    {
     "data": {
      "text/plain": [
       "['a', 'a', 'a', 'a', 'b', 'b', 'd', 'd', 'd']"
      ]
     },
     "execution_count": 20,
     "metadata": {},
     "output_type": "execute_result"
    }
   ],
   "source": [
    "c = Counter(a=4, b=2, c=0, d=3)\n",
    "el = c.elements()\n",
    "list(el)"
   ]
  },
  {
   "cell_type": "markdown",
   "metadata": {},
   "source": [
    "**<span style=\"color:blue\">(2)</span> `.most_common(N)`** - return a list of dual tuples `[('val_1', n_1), ('val_2', n_2), ...]` for the N most common elements and their counts, from the most common to the least"
   ]
  },
  {
   "cell_type": "code",
   "execution_count": 21,
   "metadata": {},
   "outputs": [
    {
     "data": {
      "text/plain": [
       "[('a', 4), ('d', 3)]"
      ]
     },
     "execution_count": 21,
     "metadata": {},
     "output_type": "execute_result"
    }
   ],
   "source": [
    "c = Counter(a=4, b=2, c=0, d=3)\n",
    "c.most_common(2)"
   ]
  },
  {
   "cell_type": "markdown",
   "metadata": {},
   "source": [
    "<span style=\"color:blue\">**(3)** </span> **`.subtract([iterable-or-mapping])`** - elements are subtracted from counter"
   ]
  },
  {
   "cell_type": "code",
   "execution_count": 28,
   "metadata": {},
   "outputs": [
    {
     "data": {
      "text/plain": [
       "Counter({'a': 3, 'b': 0, 'c': -3, 'd': -6})"
      ]
     },
     "execution_count": 28,
     "metadata": {},
     "output_type": "execute_result"
    }
   ],
   "source": [
    "c = Counter(a=4, b=2, c=0, d=-2)\n",
    "d = Counter(a=1, b=2, c=3, d=4)\n",
    "c.subtract(d)\n",
    "c"
   ]
  },
  {
   "cell_type": "markdown",
   "metadata": {},
   "source": [
    "## <span style=\"color:green\">`defaultdict([default_factory[,...]])` - dict like object, to create fields on the go </span>\n",
    "\n",
    "Remaining functionality is the same as for the `dict` class.       \n",
    "`default_factory` ~ type of values followed by keys in a constructing default dictionary --> methods to use in for loops.\n",
    "\n",
    "<span style=\"color:blue\">Recipies:</span>      \n",
    "* Using **`list`** as a **`default_factory`**, it is easy <span style=\"color:blue\"> to group a sequence of key-value pairs into a dictionary of lists</span>:"
   ]
  },
  {
   "cell_type": "code",
   "execution_count": 40,
   "metadata": {},
   "outputs": [
    {
     "name": "stdout",
     "output_type": "stream",
     "text": [
      "defaultdict(<class 'list'>, {})\n"
     ]
    },
    {
     "data": {
      "text/plain": [
       "dict_items([('yellow', [1, 3]), ('blue', [2, 4]), ('red', [1])])"
      ]
     },
     "execution_count": 40,
     "metadata": {},
     "output_type": "execute_result"
    }
   ],
   "source": [
    "from collections import defaultdict\n",
    "\n",
    "s = [('yellow', 1), ('blue', 2), ('yellow', 3), ('blue', 4), ('red', 1)]\n",
    "d = defaultdict(list) # list as as a default_factory\n",
    "print(d)\n",
    "for k, v in s: d[k].append(v) # using the no-keys-repetition rule of dict\n",
    "    \n",
    "d.items()"
   ]
  },
  {
   "cell_type": "markdown",
   "metadata": {},
   "source": [
    "* Setting the **`default_factory`** to **`set`** makes the defaultdict useful <span style=\"color:blue\">for building a dictionary of sets</span>:"
   ]
  },
  {
   "cell_type": "code",
   "execution_count": 46,
   "metadata": {},
   "outputs": [
    {
     "data": {
      "text/plain": [
       "dict_items([('red', {1, 3}), ('blue', {2, 4})])"
      ]
     },
     "execution_count": 46,
     "metadata": {},
     "output_type": "execute_result"
    }
   ],
   "source": [
    "s = [('red', 1), ('blue', 2), ('red', 3), ('blue', 4), ('red', 1), ('blue', 4)]\n",
    "d = defaultdict(set)\n",
    "for k, v in s:\n",
    "    d[k].add(v)\n",
    "\n",
    "d.items()"
   ]
  },
  {
   "cell_type": "markdown",
   "metadata": {},
   "source": [
    "* Setting the **`default_factory`** to **`int`** makes the defaultdict useful <span style=\"color:blue\">for counting</span>:"
   ]
  },
  {
   "cell_type": "code",
   "execution_count": 50,
   "metadata": {},
   "outputs": [
    {
     "name": "stdout",
     "output_type": "stream",
     "text": [
      "defaultdict(<class 'int'>, {})\n"
     ]
    },
    {
     "data": {
      "text/plain": [
       "dict_items([('m', 1), ('i', 4), ('s', 3), ('p', 2)])"
      ]
     },
     "execution_count": 50,
     "metadata": {},
     "output_type": "execute_result"
    }
   ],
   "source": [
    "s = 'missisippi'\n",
    "#s = [1, 2, 3, 4, 4]\n",
    "d = defaultdict(int) # int as a default_factory\n",
    "print(d)\n",
    "for k in s:\n",
    "    d[k] += 1 # using the no-keys-repetition rule of dict\n",
    "    \n",
    "d.items()"
   ]
  }
 ],
 "metadata": {
  "kernelspec": {
   "display_name": "Python 3",
   "language": "python",
   "name": "python3"
  },
  "language_info": {
   "codemirror_mode": {
    "name": "ipython",
    "version": 3
   },
   "file_extension": ".py",
   "mimetype": "text/x-python",
   "name": "python",
   "nbconvert_exporter": "python",
   "pygments_lexer": "ipython3",
   "version": "3.7.3"
  }
 },
 "nbformat": 4,
 "nbformat_minor": 2
}
