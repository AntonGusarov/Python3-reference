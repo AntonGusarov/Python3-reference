{
 "cells": [
  {
   "cell_type": "markdown",
   "metadata": {},
   "source": [
    "# Module `random` of std. lib. — pseudo-random number generators for various distributions.\n",
    "**Warning:** The pseudo-random generators of this module should not be used for security purposes. For security or cryptographic uses, see the `secrets` module.\n",
    "\n",
    "## List of functions:\n",
    "\n",
    "**1. Bookkeeping functions:**\n",
    "> `seed(a=None, version=2)` Initialize the random number generator. If `a` is omitted or `None`, the current system time is used.     \n",
    "> `getstate()` Returns an object `state` capturing the current state of the random generator. This object can be passed to `setstate()`to restore the state.     \n",
    "> `setstate(state)` Object `state` is from a previous call to `getstate()`, and it restores the state of the generator to what it was at the time `getstate()` was called.\n",
    "\n",
    "**2. Fuctions for integers**\n",
    "> `randint(a,b)` Return a random integer $X$: $a \\leq X \\leq b$.      \n",
    "> `randrange(start, stop[,step])` Return a randomly selected element from `range(start, stop, step)`.    \n",
    "> `randrange(stop)`     \n",
    "\n",
    "**3. Fuctions for sequences**\n",
    "> `sample(population,k)` Return a k length list of unique elements chosen from the population sequence or set. Used for random sampling without replacement.     \n",
    "> `choice(seq)` Return a random element from the non-empty sequence. If `seq` is empty, raises <span style=\"color:red\"> IndexError</span>.     \n",
    "> `choices(population, weights=None, *, cum_weights=None, k=1)` Return a k sized list of elements chosen from the population with replacement;      \n",
    "If neither *weights* nor *cum_weights* are specified, selections are made with equal probability;     \n",
    "If a *weights* sequence is supplied, it must be the same length as the population sequence.     \n",
    "> `shuffle(seq[, random])` Shuffle the sequence seq in place.     \n",
    "\n",
    "**4. Real-valued distributions**\n",
    "> `random()` Return the next random floating point number in the range $[0.0, 1.0)$.     \n",
    "> `uniform(a, b)` Return a random floating point number X such that `a <= X <= b`.    \n",
    "> `triangular(low, high, mode)` Return a random floating point number N such that `low <= N <= high` and with the specified mode between those bounds.    \n",
    "> `gauss(mu, sigma)` Gaussian distribution. `mu` is the mean, and `sigma` is the standard deviation. This is slightly faster than the normalvariate() function defined below.    \n",
    "> `normalvariate(mu, sigma)` Normal distribution. mu is the mean, and sigma is the standard deviation.   \n",
    "> `lognormvariate(mu, sigma)` Log normal distribution - natural logarithm of this distribution get a normal distribution with mean mu and standard deviation sigma.      \n",
    "> `expovariate(lambd)` Exponential distribution. `lambd` is 1.0 divided by the desired mean.          \n",
    "> `gammavariate(alpha, beta)` Gamma distribution.     \n",
    "> `betavariate(alpha, beta)` Beta distribution.     \n",
    "> `vonmisesvariate(mu, kappa)` *mu* is the mean angle, expressed in radians between 0 and 2pi, and *kappa* is the concentration parameter, which must be greater than or equal to zero. If *kappa* is equal to zero, this distribution reduces to a uniform random angle over the range 0 to 2*pi.      \n",
    "> `paretovariate(alpha)` Pareto distribution.      \n",
    "> `weibullvariate(alpha, beta)` Weibull distribution.\n"
   ]
  },
  {
   "cell_type": "markdown",
   "metadata": {},
   "source": [
    "## Demonstration"
   ]
  },
  {
   "cell_type": "code",
   "execution_count": 1,
   "metadata": {},
   "outputs": [],
   "source": [
    "import random"
   ]
  },
  {
   "cell_type": "code",
   "execution_count": 14,
   "metadata": {},
   "outputs": [
    {
     "name": "stdout",
     "output_type": "stream",
     "text": [
      "2690896245704 [1, 2, 3, 4, 5, 6]\n",
      "2690896702984 [1, 5, 1]\n"
     ]
    }
   ],
   "source": [
    "a = [1,2,3,4,5,6]\n",
    "b = random.choices(a, k=3)\n",
    "print(id(a), a)\n",
    "print(id(b), b)"
   ]
  },
  {
   "cell_type": "code",
   "execution_count": 16,
   "metadata": {},
   "outputs": [
    {
     "name": "stdout",
     "output_type": "stream",
     "text": [
      "2690897677512 [1, 2, 3, 4, 5, 6]\n",
      "2690897677320 [5, 6, 1]\n"
     ]
    }
   ],
   "source": [
    "a = [1,2,3,4,5,6]\n",
    "b = random.sample(a, k=3)\n",
    "print(id(a), a)\n",
    "print(id(b), b)"
   ]
  },
  {
   "cell_type": "code",
   "execution_count": 19,
   "metadata": {},
   "outputs": [
    {
     "data": {
      "text/plain": [
       "0.19018003877730438"
      ]
     },
     "execution_count": 19,
     "metadata": {},
     "output_type": "execute_result"
    }
   ],
   "source": [
    "random.random()"
   ]
  },
  {
   "cell_type": "code",
   "execution_count": 32,
   "metadata": {},
   "outputs": [
    {
     "name": "stdout",
     "output_type": "stream",
     "text": [
      "[2, 2.4, 3, 3, 3, 3.2, 3.2, 4, 4.4, 4.4, 4.4, 4.6, 4.6, 4.6, 4.8, 4.8, 5.2, 6.6, 7.2, 7.6]\n",
      "The sample mean of 4.2 has a 90% confidence interval from 2.4 to 7.2\n"
     ]
    }
   ],
   "source": [
    "# http://statistics.about.com/od/Applications/a/Example-Of-Bootstrapping.htm\n",
    "from statistics import mean\n",
    "from random import choices\n",
    "\n",
    "data = 1, 2, 4, 4, 10\n",
    "means = sorted(mean(choices(data, k=5)) for i in range(20)) # list comprehension?\n",
    "\n",
    "print(means)\n",
    "\n",
    "print(f'The sample mean of {mean(data):.1f} has a 90% confidence '\n",
    "      f'interval from {means[1]:.1f} to {means[-2]:.1f}')"
   ]
  }
 ],
 "metadata": {
  "kernelspec": {
   "display_name": "Python 3",
   "language": "python",
   "name": "python3"
  },
  "language_info": {
   "codemirror_mode": {
    "name": "ipython",
    "version": 3
   },
   "file_extension": ".py",
   "mimetype": "text/x-python",
   "name": "python",
   "nbconvert_exporter": "python",
   "pygments_lexer": "ipython3",
   "version": "3.7.3"
  }
 },
 "nbformat": 4,
 "nbformat_minor": 2
}
