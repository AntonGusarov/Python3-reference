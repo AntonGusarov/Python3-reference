{
 "cells": [
  {
   "cell_type": "markdown",
   "metadata": {},
   "source": [
    "# `statistics` — Mathematical statistics functions\n",
    "\n",
    "This module provides functions for calculating mathematical statistics of numeric (Real-valued) data.\n",
    "\n",
    "**1. Measures of central location**\n",
    "> `mean(data)` Return the sample arithmetic mean (average) of data which can be a sequence or iterator.     \n",
    "> `harmonic_mean(data)` Return the harmonic mean of data, a sequence or iterator of real-valued numbers.     \n",
    "Reciprocal of the arithmetic mean of the reciprocals of the data. For example, the harmonic mean of three values `a`, `b` and `c` is `3/(1/a + 1/b + 1/c)`.    \n",
    "> `median(data)` Median **(middle value)** of data. Uses the common “mean of middle two” method. When the number of data points is odd, the middle data point is returned. *data* can be a sequence or iterator. The median is a robust measure of central location, and is less affected by the presence of outliers in your data.  If data is empty, StatisticsError is raised.         \n",
    "> `median_low(data)` median_low(\\[1, 3, 5, 7\\]) --> 3     \n",
    "> `median_high(data)` median_low(\\[1, 3, 5, 7\\]) --> 5     \n",
    "> `median_grouped(data, interval=1)` Return the median of grouped continuous data, calculated as the 50th percentile, using interpolation. If data is empty, StatisticsError is raised. *data* can be a sequence or iterator. Changing the class *interval* will change the interpolation.     \n",
    "> `mode(data)` Mode **(most common value)** of discrete data. If no number in the set is repeated, **then there is no mode for the list**. If data is empty, or if there is not exactly one most common value, StatisticsError is raised.    \n",
    "\n",
    "**2. Measures of spread**\n",
    "> `pvariance(data, mu=None)` Return the population variance of data, a non-empty iterable of real-valued numbers. If the optional second argument mu is given, it should be the mean of data.     \n",
    "> `pstdev(data, mu=None)` Return the population standard deviation (the square root of the population variance).             \n",
    "> `variance(data, xbar=None)` Return the sample variance of data, an iterable of at least two real-valued numbers.  Use this function when your data is a sample from a population. To calculate the variance from the entire population, see *pvariance()*. If the optional second argument *xbar* is given, it should be the mean of data. If it is missing or None (the default), the mean is automatically calculated.       \n",
    "> `stdev(data, xbar=None)` Return the sample standard deviation (the square root of the sample variance).\n",
    "\n"
   ]
  },
  {
   "cell_type": "markdown",
   "metadata": {},
   "source": [
    "## Demonstration"
   ]
  },
  {
   "cell_type": "code",
   "execution_count": 9,
   "metadata": {},
   "outputs": [
    {
     "data": {
      "text/plain": [
       "1.3720238095238095"
      ]
     },
     "execution_count": 9,
     "metadata": {},
     "output_type": "execute_result"
    }
   ],
   "source": [
    "import statistics\n",
    "\n",
    "data = [2.75, 1.75, 1.25, 0.25, 0.5, 1.25, 3.5]\n",
    "statistics.variance(data, -10)\n",
    "1.3720238095238095"
   ]
  }
 ],
 "metadata": {
  "kernelspec": {
   "display_name": "Python 3",
   "language": "python",
   "name": "python3"
  },
  "language_info": {
   "codemirror_mode": {
    "name": "ipython",
    "version": 3
   },
   "file_extension": ".py",
   "mimetype": "text/x-python",
   "name": "python",
   "nbconvert_exporter": "python",
   "pygments_lexer": "ipython3",
   "version": "3.7.3"
  }
 },
 "nbformat": 4,
 "nbformat_minor": 2
}
