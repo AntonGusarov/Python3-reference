{
 "cells": [
  {
   "cell_type": "markdown",
   "metadata": {},
   "source": [
    "# <span style=\"color:green\"> Functions <span/>\n",
    "\n",
    "Summary:\n",
    "\n",
    "> * Defining functions\n",
    "> * Passing function parameters\n",
    "> * Passing mutable objects as parameters\n",
    "> * Global and local variables\n",
    "> * Lambda expressions \n",
    "> * Generators\n"
   ]
  },
  {
   "cell_type": "markdown",
   "metadata": {},
   "source": [
    "# <span style=\"color:green\"> 1. Basic function definitions <span/>\n",
    "basic syntax:    \n",
    ">```Python\n",
    "    def name(arg_1, arg_2, ...):\n",
    "        body\n",
    "        return ...\n",
    "```\n",
    "    \n",
    "*Example:* factorial calculation"
   ]
  },
  {
   "cell_type": "code",
   "execution_count": 2,
   "metadata": {},
   "outputs": [],
   "source": [
    "def fact(n):\n",
    "    '''Return the factorial of the given number n''' # docstring\n",
    "    r = 1\n",
    "    while n > 0: \n",
    "        r *= n\n",
    "        n -= 1\n",
    "    return r"
   ]
  },
  {
   "cell_type": "code",
   "execution_count": 4,
   "metadata": {},
   "outputs": [
    {
     "data": {
      "text/plain": [
       "24"
      ]
     },
     "execution_count": 4,
     "metadata": {},
     "output_type": "execute_result"
    }
   ],
   "source": [
    "fact(4)"
   ]
  },
  {
   "cell_type": "markdown",
   "metadata": {},
   "source": [
    "The `docstring` can be accessed by `fact.__doc__`:"
   ]
  },
  {
   "cell_type": "code",
   "execution_count": 5,
   "metadata": {},
   "outputs": [
    {
     "data": {
      "text/plain": [
       "'Return the factorial of the given number n'"
      ]
     },
     "execution_count": 5,
     "metadata": {},
     "output_type": "execute_result"
    }
   ],
   "source": [
    "fact.__doc__"
   ]
  },
  {
   "cell_type": "markdown",
   "metadata": {},
   "source": [
    "* In some languages, a *function that does not return a value is called a procedure*. Although\n",
    "you can in Python write functions that do not have a return statement, they\n",
    "are not really procedures. **All Python procedures are functions: if no explicit return is\n",
    "executed in the procedure body, then the value `None` is returned**. This is advized by PEP8 to return `None` explicitly in such cases."
   ]
  },
  {
   "cell_type": "markdown",
   "metadata": {},
   "source": [
    "## <span style=\"color:green\"> 2. Function arguments passing</span>\n",
    "> * Positional arguments     \n",
    "> * Keyword-passed arguments     \n",
    "> * Indefinite number of positional arguments     \n",
    "> * Indefinite number of keyword-passed arguments\n",
    "\n",
    "It is possible to use all of the argument-passing features of Python functions at the same time, although can be confusing if not done with care.\n",
    "\n",
    "### <span style=\"color:green\"> 2.1. Positional arguments </span>\n",
    "The simplest way to pass arguments is by position.     \n",
    "1. In the first line of the function definition, you specify variable names for each argument.\n",
    "2. When the function is called, **arguments used in the calling are matched to the function's parameters by their order**.\n",
    "\n",
    "*Example:* `x` to the power of `y` "
   ]
  },
  {
   "cell_type": "code",
   "execution_count": 8,
   "metadata": {},
   "outputs": [],
   "source": [
    "def power(x, y):\n",
    "    r = 1 # local argument\n",
    "    while y > 0:\n",
    "        r *= x\n",
    "        y -= 1\n",
    "    return r"
   ]
  },
  {
   "cell_type": "code",
   "execution_count": 11,
   "metadata": {},
   "outputs": [
    {
     "data": {
      "text/plain": [
       "81"
      ]
     },
     "execution_count": 11,
     "metadata": {},
     "output_type": "execute_result"
    }
   ],
   "source": [
    "power(9,2)"
   ]
  },
  {
   "cell_type": "code",
   "execution_count": 13,
   "metadata": {},
   "outputs": [
    {
     "data": {
      "text/plain": [
       "512"
      ]
     },
     "execution_count": 13,
     "metadata": {},
     "output_type": "execute_result"
    }
   ],
   "source": [
    "power(2,9)"
   ]
  },
  {
   "cell_type": "markdown",
   "metadata": {},
   "source": [
    "### <span style=\"color:green\"> Default arguments </span>\n",
    "We can assigning a default value in the first line **of the function definition**:\n",
    "\n",
    "> ```Python\n",
    "def fun(arg_1, arg_2=default_2, arg_3=default_3, . . .)\n",
    "    ...\n",
    "```\n",
    "\n",
    "By this, the **default arguments can be ignored in function call** --> **readability**:"
   ]
  },
  {
   "cell_type": "code",
   "execution_count": 16,
   "metadata": {},
   "outputs": [],
   "source": [
    "def power(x, y=2): # default argument - power\n",
    "    r = 1\n",
    "    while y > 0:\n",
    "        r = r * x\n",
    "        y = y - 1\n",
    "    return r"
   ]
  },
  {
   "cell_type": "code",
   "execution_count": 19,
   "metadata": {},
   "outputs": [
    {
     "data": {
      "text/plain": [
       "9"
      ]
     },
     "execution_count": 19,
     "metadata": {},
     "output_type": "execute_result"
    }
   ],
   "source": [
    "power(3)"
   ]
  },
  {
   "cell_type": "code",
   "execution_count": 21,
   "metadata": {},
   "outputs": [
    {
     "data": {
      "text/plain": [
       "27"
      ]
     },
     "execution_count": 21,
     "metadata": {},
     "output_type": "execute_result"
    }
   ],
   "source": [
    "power(3,3)"
   ]
  },
  {
   "cell_type": "markdown",
   "metadata": {},
   "source": [
    "### <span style=\"color:green\"> 2.2. Keyword-passed arguments </span>\n",
    "You can also pass arguments into a function using the name of the corresponding function parameter, rather than its position. **Because the arguments passed to fucntion in its call are named, their order is irrelevant.**      \n",
    "This type of argument passing is called **keyword passing.**\n",
    "\n",
    "*Example* from the previous section:"
   ]
  },
  {
   "cell_type": "code",
   "execution_count": 23,
   "metadata": {},
   "outputs": [
    {
     "data": {
      "text/plain": [
       "9"
      ]
     },
     "execution_count": 23,
     "metadata": {},
     "output_type": "execute_result"
    }
   ],
   "source": [
    "power(y=2, x=3)"
   ]
  },
  {
   "cell_type": "code",
   "execution_count": 25,
   "metadata": {},
   "outputs": [
    {
     "data": {
      "text/plain": [
       "9"
      ]
     },
     "execution_count": 25,
     "metadata": {},
     "output_type": "execute_result"
    }
   ],
   "source": [
    "power(x=3, y=2) # no difference"
   ]
  },
  {
   "cell_type": "markdown",
   "metadata": {},
   "source": [
    "Keyword passing combined with the default argumenting, can be highly **useful when defining functions with large numbers of possible arguments, most of which have common defaults.**\n",
    "\n",
    "Example:\n",
    "\n",
    "A function producing a list with information about files in the current directory. It uses Boolean arguments to indicate whether that list should include information e.g. as file size, last modified date, etc. for each file.\n",
    "\n",
    "```Python\n",
    "def list_file_info(size=False, create_date=False, mod_date=False, ...):\n",
    "    ...get file names...\n",
    "    if size:\n",
    "        # code to get file sizes goes here\n",
    "    if create_date:\n",
    "        # code to get create dates goes here\n",
    ".\n",
    ".\n",
    ".\n",
    "return fileinfostructure\n",
    "```\n",
    "\n",
    "Then call it using keyword argument passing to indicate that we want only certain information:\n",
    "\n",
    "```Python\n",
    "fileinfo = list_file_info(size=True, mod_date=True)\n",
    "```"
   ]
  },
  {
   "cell_type": "markdown",
   "metadata": {},
   "source": [
    "### <span style=\"color:green\"> 2.3. Indefinite number of positional arguments </span>\n",
    "\n",
    "` * ` prefix before a named argument makes all excessing non-keyword arguments to be **collected in a tuple with the corresponding name.**\n",
    "\n",
    "*Example:*"
   ]
  },
  {
   "cell_type": "code",
   "execution_count": 30,
   "metadata": {},
   "outputs": [],
   "source": [
    "def maximum(*numbers):\n",
    "    if len(numbers) == 0:\n",
    "        return None\n",
    "    else:\n",
    "        maxnum = numbers[0]\n",
    "        for n in numbers[1:]:\n",
    "            if n > maxnum: \n",
    "                maxnum = n\n",
    "    return maxnum"
   ]
  },
  {
   "cell_type": "code",
   "execution_count": 33,
   "metadata": {},
   "outputs": [
    {
     "data": {
      "text/plain": [
       "2"
      ]
     },
     "execution_count": 33,
     "metadata": {},
     "output_type": "execute_result"
    }
   ],
   "source": [
    "maximum(1,2)"
   ]
  },
  {
   "cell_type": "code",
   "execution_count": 36,
   "metadata": {},
   "outputs": [
    {
     "data": {
      "text/plain": [
       "76"
      ]
     },
     "execution_count": 36,
     "metadata": {},
     "output_type": "execute_result"
    }
   ],
   "source": [
    "maximum(1, 2, 76, 2, 3, 4, 8, 8, 9)"
   ]
  },
  {
   "cell_type": "markdown",
   "metadata": {},
   "source": [
    "### <span style=\"color:green\"> 2.4. Indefinite number of keyworded arguments </span>\n",
    "\n",
    "` ** ` prefix before a named argument will **collect excessing keyword-passing arguments into a dictionary with a corresponding name.**     \n",
    "\n",
    "*Example*"
   ]
  },
  {
   "cell_type": "code",
   "execution_count": 52,
   "metadata": {},
   "outputs": [],
   "source": [
    "def example_fun(x, y, **other):\n",
    "    print(f'x: {x}, y: {y}, keys in \"other\": {list(other.keys())}')"
   ]
  },
  {
   "cell_type": "code",
   "execution_count": 54,
   "metadata": {},
   "outputs": [
    {
     "name": "stdout",
     "output_type": "stream",
     "text": [
      "x: 2, y: 3, keys in \"other\": ['foo', 'bee']\n"
     ]
    }
   ],
   "source": [
    "example_fun(2, 3, foo=3, bee=5)"
   ]
  },
  {
   "cell_type": "markdown",
   "metadata": {},
   "source": [
    "## <span style=\"color:green\"> 3. Mutable objects as arguments </span>\n",
    "\n",
    "Arguments are passed in by object reference. The parameter name becomes a new reference to the passed object. \n",
    "\n",
    "For immutable objects (e.g. tuples, strings, and numbers), what is done with an argumen has no effect outside the function. But **any change made to the object mutable object will change what the argument is referencing outside the function.**\n",
    "\n",
    "*Example:*\n",
    "\n"
   ]
  },
  {
   "cell_type": "code",
   "execution_count": 59,
   "metadata": {},
   "outputs": [],
   "source": [
    "def f(n, list1, list2):\n",
    "    n = n + 1 # set to refer to new local object\n",
    "    list1.append(3)\n",
    "    list2 = [4, 5, 6] # another object with the same name but in the local namespace\n",
    "    return None"
   ]
  },
  {
   "cell_type": "code",
   "execution_count": 61,
   "metadata": {},
   "outputs": [
    {
     "name": "stdout",
     "output_type": "stream",
     "text": [
      "5 [1, 2, 3] [4, 5]\n"
     ]
    }
   ],
   "source": [
    "x = 5      # isn't changed outside function because immutable \n",
    "y = [1, 2] # actual list was cahnged\n",
    "z = [4, 5] # was not changed\n",
    "\n",
    "f(x, y, z)\n",
    "print(x, y, z)"
   ]
  },
  {
   "cell_type": "markdown",
   "metadata": {},
   "source": [
    "## <span style=\"color:green\"> 4. Local, nonlocal and global variables </span>\n",
    "\n",
    "Consider the factorial function from the previous sections:"
   ]
  },
  {
   "cell_type": "code",
   "execution_count": 62,
   "metadata": {},
   "outputs": [],
   "source": [
    "def fact(n):\n",
    "    '''Return the factorial of the given number n'''\n",
    "    r = 1         # local variable\n",
    "    while n > 0: \n",
    "        r *= n\n",
    "        n -= 1    # local variable\n",
    "    return r "
   ]
  },
  {
   "cell_type": "markdown",
   "metadata": {},
   "source": [
    "Variables `r` and `n` are **local** to any particular call of the function;     \n",
    "**Changes to them made when the function is executing have no effect on any variables\n",
    "outside the function**\n",
    "\n",
    "> `global <var>` statement\n",
    "\n",
    "You can **explicitly make a variable global by declaring it so** before the variable is used, using the `global` statement. Global variables can be accessed and changed by the function since exist outside the function."
   ]
  },
  {
   "cell_type": "code",
   "execution_count": 67,
   "metadata": {},
   "outputs": [],
   "source": [
    "def fun():\n",
    "    global a\n",
    "    a = 1\n",
    "    b = 2"
   ]
  },
  {
   "cell_type": "code",
   "execution_count": 69,
   "metadata": {},
   "outputs": [
    {
     "name": "stdout",
     "output_type": "stream",
     "text": [
      "1 two\n"
     ]
    }
   ],
   "source": [
    "a = 'one'\n",
    "b = 'two'\n",
    "\n",
    "fun()\n",
    "\n",
    "print(a, b)"
   ]
  },
  {
   "cell_type": "markdown",
   "metadata": {},
   "source": [
    "Because `a` is designated global in `fun()`, the assignment modifies that global variable to hold the value 1 instead of the value 'one'.\n",
    "\n",
    ">`nonlocal <var>` statement \n",
    "\n",
    "Nonlocal variable are **used in nested function** whose local scope is not defined. This means, the variable can be neither in the local nor the global scope.\n",
    "\n",
    "Compare this without `nonlocal`: "
   ]
  },
  {
   "cell_type": "code",
   "execution_count": 81,
   "metadata": {},
   "outputs": [
    {
     "name": "stdout",
     "output_type": "stream",
     "text": [
      "global: 0\n",
      "inner: 2\n",
      "outer: 1\n"
     ]
    }
   ],
   "source": [
    "x = 0    \n",
    "\n",
    "def outer():\n",
    "    x = 1\n",
    "    def inner():\n",
    "        x = 2\n",
    "        print(\"inner:\", x)\n",
    "\n",
    "    inner()\n",
    "    print(\"outer:\", x)\n",
    "\n",
    "\n",
    "print(\"global:\", x)\n",
    "outer()"
   ]
  },
  {
   "cell_type": "markdown",
   "metadata": {},
   "source": [
    "Now use `nonlocal` statement for inner `x`:"
   ]
  },
  {
   "cell_type": "code",
   "execution_count": 82,
   "metadata": {},
   "outputs": [
    {
     "name": "stdout",
     "output_type": "stream",
     "text": [
      "inner: 2\n",
      "outer: 2\n",
      "global: 0\n"
     ]
    }
   ],
   "source": [
    "x = 0 \n",
    "\n",
    "def outer():\n",
    "    x = 1\n",
    "    def inner():\n",
    "        nonlocal x\n",
    "        x = 2\n",
    "        print(\"inner:\", x)\n",
    "\n",
    "    inner()\n",
    "    print(\"outer:\", x)\n",
    "    \n",
    "    \n",
    "outer()\n",
    "print(\"global:\", x)"
   ]
  },
  {
   "cell_type": "markdown",
   "metadata": {},
   "source": [
    "Also use `global` statement for inner `x`:"
   ]
  },
  {
   "cell_type": "code",
   "execution_count": 85,
   "metadata": {},
   "outputs": [
    {
     "name": "stdout",
     "output_type": "stream",
     "text": [
      "inner: 2\n",
      "outer: 1\n",
      "global: 2\n"
     ]
    }
   ],
   "source": [
    "x = 0    \n",
    "\n",
    "def outer():\n",
    "    x = 1\n",
    "    def inner():\n",
    "        global x\n",
    "        x = 2\n",
    "        print(\"inner:\", x)\n",
    "\n",
    "    inner()\n",
    "    print(\"outer:\", x)\n",
    "\n",
    "\n",
    "outer()\n",
    "print(\"global:\", x)"
   ]
  },
  {
   "cell_type": "markdown",
   "metadata": {},
   "source": [
    "Also, if you are accessing a variable that exists outside the function, you don’t need to declare it\n",
    "nonlocal or global. If Python cannot find a variable name in the local function scope, it\n",
    "will attempt to look up the name in the global scope."
   ]
  },
  {
   "cell_type": "markdown",
   "metadata": {},
   "source": [
    "## <span style=\"color:green\"> 5. Assigning functions to variables: replacing switch-case </span>\n",
    "\n",
    "Functions can be assigned, like other Python objects, to variables. \n",
    "\n",
    "**Placing function names in list is a common pattern in situations where different functions need to be selected based on a string value**, and in many cases it **takes the place of the `switch` structure.**\n",
    "\n",
    "*Example:*"
   ]
  },
  {
   "cell_type": "code",
   "execution_count": 86,
   "metadata": {},
   "outputs": [],
   "source": [
    "def f_to_kelvin(degrees_f):\n",
    "    return 273.15 + (degrees_f - 32) * 5 / 9\n",
    "\n",
    "def c_to_kelvin(degrees_c):\n",
    "    return 273.15 + degrees_c\n",
    "\n",
    "t = {'FtoK': f_to_kelvin, 'CtoK': c_to_kelvin}"
   ]
  },
  {
   "cell_type": "code",
   "execution_count": 88,
   "metadata": {},
   "outputs": [
    {
     "data": {
      "text/plain": [
       "310.92777777777775"
      ]
     },
     "execution_count": 88,
     "metadata": {},
     "output_type": "execute_result"
    }
   ],
   "source": [
    "t['FtoK'](100)"
   ]
  },
  {
   "cell_type": "code",
   "execution_count": 92,
   "metadata": {},
   "outputs": [
    {
     "data": {
      "text/plain": [
       "273.15"
      ]
     },
     "execution_count": 92,
     "metadata": {},
     "output_type": "execute_result"
    }
   ],
   "source": [
    "t['CtoK'](0)"
   ]
  },
  {
   "cell_type": "markdown",
   "metadata": {},
   "source": [
    "## <span style=\"color:green\"> 6. Lambda expressions </span>\n",
    "lambda expressions are anonymous little functions that you can quickly define inline.\n",
    "\n",
    ">```Python\n",
    "lambda arg_1, arg_2, . . .: expression\n",
    "```\n",
    "\n",
    "*Example:*"
   ]
  },
  {
   "cell_type": "code",
   "execution_count": 102,
   "metadata": {},
   "outputs": [
    {
     "data": {
      "text/plain": [
       "273.15"
      ]
     },
     "execution_count": 102,
     "metadata": {},
     "output_type": "execute_result"
    }
   ],
   "source": [
    "t2 = {'FtoK': lambda deg_f: 273.15 + (deg_f - 32) * 5 / 9,\n",
    "      'CtoK': lambda deg_c: 273.15 + deg_c}\n",
    "\n",
    "t2['FtoK'](32)"
   ]
  },
  {
   "cell_type": "markdown",
   "metadata": {},
   "source": [
    "## <span style=\"color:green\"> 7. Generators </span>\n",
    "\n",
    "Generator functions allow you to **declare a function that behaves like an iterator.**\n",
    "\n",
    "An **iterator** is an object that can be iterated (looped) upon. It is used to abstract a container of data to make it behave like an iterable object. **Iterators don’t compute the value of each item when instantiated.**\n",
    "\n",
    "Generators are **functions that can be paused and resumed on the fly, returning an object that can be iterated over**. Unlike lists, they are **lazy** and thus **produce items one at a time and only when asked**. So they are much more **memory efficient** when dealing with large datasets. \n",
    "\n",
    "The difference from conventional function is that it saves the state of the function. The next time the function is called, execution continues from where it left off, with the same variable values it had before yielding.\n",
    "\n",
    "\n",
    "### <span style=\"color:green\"> 7.1. Generator functions </span>\n",
    ">```Python\n",
    "yield <var>\n",
    "```\n",
    "\n",
    "Define a function as you normally would but use the `yield` statement instead of `return`, **indicating to the interpreter that this function should be treated as an iterator**.\n",
    "\n",
    "The `yield` statement **pauses the function and saves the local state so that it can be resumed right where it left off.**"
   ]
  },
  {
   "cell_type": "code",
   "execution_count": 1,
   "metadata": {},
   "outputs": [],
   "source": [
    "def countdown(num):\n",
    "    print('Starting')\n",
    "    while num > 0:\n",
    "        yield num\n",
    "        num -= 1"
   ]
  },
  {
   "cell_type": "markdown",
   "metadata": {},
   "source": [
    "When called, this function will return a `generator object` - **calling the function does not execute it!**"
   ]
  },
  {
   "cell_type": "code",
   "execution_count": 122,
   "metadata": {},
   "outputs": [
    {
     "data": {
      "text/plain": [
       "<generator object countdown at 0x00000252715047C8>"
      ]
     },
     "execution_count": 122,
     "metadata": {},
     "output_type": "execute_result"
    }
   ],
   "source": [
    "val = countdown(2)\n",
    "val"
   ]
  },
  {
   "cell_type": "markdown",
   "metadata": {},
   "source": [
    ">```Python\n",
    "next(gen_func)\n",
    "```\n",
    "\n",
    "Generator objects execute when `next()` is called:"
   ]
  },
  {
   "cell_type": "code",
   "execution_count": 123,
   "metadata": {},
   "outputs": [
    {
     "name": "stdout",
     "output_type": "stream",
     "text": [
      "Starting\n"
     ]
    },
    {
     "data": {
      "text/plain": [
       "2"
      ]
     },
     "execution_count": 123,
     "metadata": {},
     "output_type": "execute_result"
    }
   ],
   "source": [
    "next(val)"
   ]
  },
  {
   "cell_type": "code",
   "execution_count": 124,
   "metadata": {},
   "outputs": [
    {
     "data": {
      "text/plain": [
       "1"
      ]
     },
     "execution_count": 124,
     "metadata": {},
     "output_type": "execute_result"
    }
   ],
   "source": [
    "next(val)"
   ]
  },
  {
   "cell_type": "code",
   "execution_count": 116,
   "metadata": {},
   "outputs": [
    {
     "ename": "StopIteration",
     "evalue": "",
     "output_type": "error",
     "traceback": [
      "\u001b[1;31m---------------------------------------------------------------------------\u001b[0m",
      "\u001b[1;31mStopIteration\u001b[0m                             Traceback (most recent call last)",
      "\u001b[1;32m<ipython-input-116-a2a2bf9708c5>\u001b[0m in \u001b[0;36m<module>\u001b[1;34m\u001b[0m\n\u001b[1;32m----> 1\u001b[1;33m \u001b[0mnext\u001b[0m\u001b[1;33m(\u001b[0m\u001b[0mval\u001b[0m\u001b[1;33m)\u001b[0m\u001b[1;33m\u001b[0m\u001b[1;33m\u001b[0m\u001b[0m\n\u001b[0m",
      "\u001b[1;31mStopIteration\u001b[0m: "
     ]
    }
   ],
   "source": [
    "next(val)"
   ]
  },
  {
   "cell_type": "markdown",
   "metadata": {},
   "source": [
    ">```Python\n",
    "in\n",
    "```\n",
    "\n",
    "You can also use generator functions with `in` **to check if a particular value is in the series that the\n",
    "generator produces:**"
   ]
  },
  {
   "cell_type": "code",
   "execution_count": 4,
   "metadata": {},
   "outputs": [
    {
     "name": "stdout",
     "output_type": "stream",
     "text": [
      "Starting\n"
     ]
    },
    {
     "data": {
      "text/plain": [
       "True"
      ]
     },
     "execution_count": 4,
     "metadata": {},
     "output_type": "execute_result"
    }
   ],
   "source": [
    "2 in countdown(3)"
   ]
  },
  {
   "cell_type": "markdown",
   "metadata": {},
   "source": [
    "### <span style=\"color:green\"> 7.2. Generator expressions </span>\n",
    "\n",
    "**Generator expressions** are drastically faster when the size of your data is larger than the available memory.     \n",
    "**Generator expressions can run slower than list comprehensions (unless you run out of memory, of course)**\n",
    "I.e. they are **memory efficient**.\n",
    "\n",
    "Similar to list comprehensions, generator expressions can also be written in the same manner except they return a generator object rather than a list:\n",
    ">```Python\n",
    "(<expression> for i in <iterable>)\n",
    "```"
   ]
  },
  {
   "cell_type": "code",
   "execution_count": 134,
   "metadata": {},
   "outputs": [
    {
     "name": "stdout",
     "output_type": "stream",
     "text": [
      "<generator object <genexpr> at 0x0000025271504840>\n",
      "0.0\n",
      "0.5\n",
      "1.0\n",
      "Wall time: 0 ns\n"
     ]
    }
   ],
   "source": [
    "gen_obj = (x/2 for x in range(3))\n",
    "print(gen_obj)\n",
    "\n",
    "for val in gen_obj: print(val)"
   ]
  },
  {
   "cell_type": "markdown",
   "metadata": {},
   "source": [
    "Be careful not to mix up the syntax of a list comprehension with a generator expression - `[]` vs `()` - since generator expressions can run slower than list comprehensions (unless you run out of memory, of course)"
   ]
  },
  {
   "cell_type": "markdown",
   "metadata": {},
   "source": [
    "### <span style=\"color:green\"> 7.3. Generators use case - creating a pipeline </span>\n",
    "\n",
    "Generators are **perfect for reading a large number of large files since they yield out data a single chunk at a time irrespective of the size of the input stream.** They can also result in cleaner code by decoupling the iteration process into smaller components.\n",
    "\n",
    "*Example:*      \n",
    "This function loops through a set of files in the specified directory. It opens each file and then loops through each line to test for the pattern match."
   ]
  },
  {
   "cell_type": "code",
   "execution_count": null,
   "metadata": {},
   "outputs": [],
   "source": [
    "def emit_lines(pattern=None):                                 # find pattern in source files\n",
    "    lines = []                                                # pre-allocate space for lines to be found\n",
    "    for dir_path, dir_names, file_names in os.walk('test/'):  # go through the files\n",
    "        for file_name in file_names:                          # for each file in the folder...\n",
    "            if file_name.endswith('.py'):                     # if this is .py file\n",
    "                for line in open(os.path.join(dir_path, file_name)): # for each line in opened file\n",
    "                    if pattern in line:                              # if pattern found\n",
    "                        lines.append(line)                           # append the line into pre-allocated list\n",
    "    return lines"
   ]
  },
  {
   "cell_type": "markdown",
   "metadata": {},
   "source": [
    "This works well with the small number of small files. `open()` function is quite efficient but what if we are dealing with quite large files? And what if our matches far exceeds the available memory on our machine?     \n",
    "\n",
    "So, instead of running out of space (large lists) and time (nearly infinite amount of data stream) when processing large amounts of data, generators are the ideal things to use, as they yield out data one time at a time (instead of creating intermediate lists).\n",
    "\n",
    "We divided our whole process into three different components:\n",
    "\n",
    "* Generating set of filenames;\n",
    "* Generating all lines from all files;\n",
    "* Filtering out lines on the basis of pattern matching.\n",
    "\n",
    "Essentially we create nested generators."
   ]
  },
  {
   "cell_type": "code",
   "execution_count": null,
   "metadata": {},
   "outputs": [],
   "source": [
    "def generate_filenames(): # gives generator of opened files\n",
    "    \"\"\"\n",
    "    generates a sequence of opened files matching a specific extension\n",
    "    \"\"\"\n",
    "    for dir_path, dir_names, file_names in os.walk('test/'):\n",
    "        for file_name in file_names:\n",
    "            if file_name.endswith('.py'):\n",
    "                yield open(os.path.join(dir_path, file_name))\n",
    "\n",
    "def cat_files(files): # gives generator of lines\n",
    "    \"\"\"\n",
    "    takes in an iterable of filenames\n",
    "    \"\"\"\n",
    "    for fname in files:\n",
    "        for line in fname:\n",
    "            yield line\n",
    "\n",
    "def grep_files(lines, pattern=None): # gives generator of filtered lines\n",
    "    \"\"\"\n",
    "    takes in an iterable of lines\n",
    "    \"\"\"\n",
    "    for line in lines:\n",
    "        if pattern in line:\n",
    "            yield line\n",
    "            \n",
    "# construct a nested generator:\n",
    "py_files = generate_filenames()\n",
    "py_lines = cat_files(py_files)\n",
    "filtered_lines = grep_files(py_lines, 'pattern_line_example')\n",
    "\n",
    "# then just print the result from the defined above composite generator: \n",
    "for line in filtered_lines:\n",
    "    print(line)"
   ]
  },
  {
   "cell_type": "markdown",
   "metadata": {},
   "source": [
    "We do not use any extra variables to form the list of lines, **instead we create a pipeline which feeds its components via the iteration process one item at a time.**"
   ]
  }
 ],
 "metadata": {
  "kernelspec": {
   "display_name": "Python 3",
   "language": "python",
   "name": "python3"
  },
  "language_info": {
   "codemirror_mode": {
    "name": "ipython",
    "version": 3
   },
   "file_extension": ".py",
   "mimetype": "text/x-python",
   "name": "python",
   "nbconvert_exporter": "python",
   "pygments_lexer": "ipython3",
   "version": "3.7.3"
  }
 },
 "nbformat": 4,
 "nbformat_minor": 2
}
