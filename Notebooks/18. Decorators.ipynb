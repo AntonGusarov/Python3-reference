{
 "cells": [
  {
   "cell_type": "markdown",
   "metadata": {},
   "source": [
    "# <span style=\"color:green\"> Python Decorators </span>\n",
    "\n",
    "**Syntax template:**\n",
    "> ```Python\n",
    "> import functools\n",
    ">\n",
    "> def decorator(func):\n",
    ">    @functools.wraps(func)\n",
    ">     def wrapper_decorator(*args, **kwargs):\n",
    ">         # Do something before\n",
    ">         value = func(*args, **kwargs)\n",
    ">         # Do something after\n",
    ">         return value\n",
    ">     return wrapper_decorator\n",
    ">```\n",
    "\n",
    "## <span style=\"color:green\"> 1. Functions </span>\n",
    "\n",
    "Before understanding decorators, understanding of how functions work is needed. \n",
    "\n",
    "While not a purely functional language, Python supports many of the functional programming concepts, including **functions as first-class objects.**\n",
    "\n",
    "### <span style=\"color:green\"> 1.1. Functions as a first-class objects </span>\n",
    "\n",
    "This means that **functions can be passed around and used as arguments**, just like any other object (string, int, float, list, and so on). "
   ]
  },
  {
   "cell_type": "code",
   "execution_count": 1,
   "metadata": {},
   "outputs": [
    {
     "data": {
      "text/plain": [
       "'Hello, Bob'"
      ]
     },
     "execution_count": 1,
     "metadata": {},
     "output_type": "execute_result"
    }
   ],
   "source": [
    "def say_hello(name):\n",
    "    return f'Hello, {name}'\n",
    "\n",
    "\n",
    "def greet_bob(func): # this function expects another function as argument\n",
    "    return func('Bob')\n",
    "\n",
    "\n",
    "greet_bob(say_hello) # note, say_hello is w/o parentheses, since it is only a referece name"
   ]
  },
  {
   "cell_type": "markdown",
   "metadata": {},
   "source": [
    "### <span style=\"color:green\"> 1.2. Inner functions </span>\n",
    "It is possible to **define functions inside other functions**. Such functions are called **inner functions.**\n",
    "\n",
    "Note that the **order in which the inner functions are defined does not matter**. Actions happen when the inner functions are executed.\n",
    "\n",
    "*Example:*"
   ]
  },
  {
   "cell_type": "code",
   "execution_count": 2,
   "metadata": {},
   "outputs": [
    {
     "name": "stdout",
     "output_type": "stream",
     "text": [
      "Printing from the parent() function\n",
      "Printing from the second_child() function\n",
      "Printing from the first_child() function\n"
     ]
    }
   ],
   "source": [
    "def parent():\n",
    "    print(\"Printing from the parent() function\")\n",
    "\n",
    "    def first_child():\n",
    "        print(\"Printing from the first_child() function\")\n",
    "\n",
    "    def second_child():\n",
    "        print(\"Printing from the second_child() function\")\n",
    "\n",
    "    second_child()\n",
    "    first_child()\n",
    "\n",
    "\n",
    "parent()"
   ]
  },
  {
   "cell_type": "markdown",
   "metadata": {},
   "source": [
    "Furthermore, the **inner functions are not defined until the parent function is called**. Whenever you call parent function, the inner functions are also called. But because of their local scope, they aren’t available outside of the paren function."
   ]
  },
  {
   "cell_type": "markdown",
   "metadata": {},
   "source": [
    "### <span style=\"color:green\"> 1.3. Returning functions from functions </span>\n",
    "\n",
    "*Example:*"
   ]
  },
  {
   "cell_type": "code",
   "execution_count": 3,
   "metadata": {},
   "outputs": [],
   "source": [
    "def parent(num):\n",
    "    def first_child():\n",
    "        return \"Hi, I am Emma\"\n",
    "\n",
    "    def second_child():\n",
    "        return \"Call me Liam\"\n",
    "\n",
    "    if num == 1:\n",
    "        return first_child # note that you return func name w/o parentheses\n",
    "    else:\n",
    "        return second_child"
   ]
  },
  {
   "cell_type": "markdown",
   "metadata": {},
   "source": [
    "Note that **you return function without parentheses** i.e. this means that **you are returning the reference to the function.** In contrast function with **parentheses refers to the result of evaluating the function**."
   ]
  },
  {
   "cell_type": "code",
   "execution_count": 4,
   "metadata": {},
   "outputs": [
    {
     "data": {
      "text/plain": [
       "'Hi, I am Emma'"
      ]
     },
     "execution_count": 4,
     "metadata": {},
     "output_type": "execute_result"
    }
   ],
   "source": [
    "parent(1)()"
   ]
  },
  {
   "cell_type": "code",
   "execution_count": 5,
   "metadata": {},
   "outputs": [
    {
     "data": {
      "text/plain": [
       "<function __main__.parent.<locals>.first_child()>"
      ]
     },
     "execution_count": 5,
     "metadata": {},
     "output_type": "execute_result"
    }
   ],
   "source": [
    "parent(1)"
   ]
  },
  {
   "cell_type": "code",
   "execution_count": 6,
   "metadata": {},
   "outputs": [
    {
     "data": {
      "text/plain": [
       "<function __main__.parent(num)>"
      ]
     },
     "execution_count": 6,
     "metadata": {},
     "output_type": "execute_result"
    }
   ],
   "source": [
    "parent"
   ]
  },
  {
   "cell_type": "markdown",
   "metadata": {},
   "source": [
    "## <span style=\"color:green\"> 2. Simple Decorators </span>\n",
    "\n",
    "### <span style=\"color:green\"> 2.1. Introductory examples </span>\n",
    "\n",
    "#### <span style=\"color:green\"> Example 1 </span>\n",
    "\n",
    "Put simply: **decorators wrap a function, modifying its behavior.**\n",
    "\n",
    "But it modifies not a function call, but a functon's definition!\n",
    "\n",
    "Let’s start with an example:"
   ]
  },
  {
   "cell_type": "code",
   "execution_count": 7,
   "metadata": {},
   "outputs": [],
   "source": [
    "# Decorator definition: \n",
    "def my_decorator(func):  \n",
    "    def wrapper():\n",
    "        print('smth happened before')\n",
    "        func()\n",
    "        print('smth happened after')\n",
    "    return wrapper\n",
    "    \n",
    "# Function to be modified:\n",
    "def say_whee():  \n",
    "    print('   Whee!')\n",
    "    \n",
    "# Wrap, decoration:\n",
    "say_whee = my_decorator(say_whee)"
   ]
  },
  {
   "cell_type": "code",
   "execution_count": 8,
   "metadata": {},
   "outputs": [
    {
     "name": "stdout",
     "output_type": "stream",
     "text": [
      "smth happened before\n",
      "   Whee!\n",
      "smth happened after\n"
     ]
    }
   ],
   "source": [
    "say_whee()"
   ]
  },
  {
   "cell_type": "markdown",
   "metadata": {},
   "source": [
    "In effect when you wrapped and made decoration in the last line, original function **name** `say_whee()` now points to the `wrapper()` inner function:"
   ]
  },
  {
   "cell_type": "code",
   "execution_count": 9,
   "metadata": {},
   "outputs": [
    {
     "data": {
      "text/plain": [
       "<function __main__.my_decorator.<locals>.wrapper()>"
      ]
     },
     "execution_count": 9,
     "metadata": {},
     "output_type": "execute_result"
    }
   ],
   "source": [
    "say_whee"
   ]
  },
  {
   "cell_type": "markdown",
   "metadata": {},
   "source": [
    "i.e. **we can see the chain of functions separated by ` . ` when returning to the fucntion name w/o ` () `.**\n",
    "\n",
    "**Note:** You can name your inner function whatever you want, and a generic name like `wrapper()` is usually okay. Next, we will name the inner function with the same name as the decorator but with a `wrapper_` prefix."
   ]
  },
  {
   "cell_type": "markdown",
   "metadata": {},
   "source": [
    "#### <span style=\"color:green\"> Example 2 </span>\n",
    "\n",
    "Because `wrapper()` is a regular Python function, the way a decorator modifies a function can change dynamically. **I.e. we can replace decorators!**\n",
    "\n",
    "The following example will only run the decorated code during the day:"
   ]
  },
  {
   "cell_type": "code",
   "execution_count": 4,
   "metadata": {},
   "outputs": [],
   "source": [
    "from datetime import datetime\n",
    "\n",
    "def not_at_night(func):\n",
    "    def wrapper():\n",
    "        if 9 <= datetime.now().hour < 23:\n",
    "            func()\n",
    "        else:\n",
    "            pass\n",
    "    return wrapper\n",
    "\n",
    "def say_whee():\n",
    "    print('Whee!')\n",
    "    \n",
    "say_whee = not_at_night(say_whee)"
   ]
  },
  {
   "cell_type": "markdown",
   "metadata": {},
   "source": [
    "### <span style=\"color:green\"> 2.2. \"Pie\" syntax - synctatctic sugar </span>\n",
    "Syntax:\n",
    ">``` Python\n",
    "> def <decorator_name>():\n",
    ">    ...\n",
    ">\n",
    "> @ <decorator_name>\n",
    "> def <original_func>():\n",
    "    ...\n",
    ">```\n",
    "\n",
    "*Example:*"
   ]
  },
  {
   "cell_type": "code",
   "execution_count": 5,
   "metadata": {},
   "outputs": [],
   "source": [
    "def my_decorator(func):  \n",
    "    def wrapper():\n",
    "        print('smth happened before')\n",
    "        func()\n",
    "        print('smth happened after')\n",
    "    return wrapper\n",
    "\n",
    "@my_decorator # BINGO!\n",
    "def say_whee():\n",
    "    print('Whee!')"
   ]
  },
  {
   "cell_type": "code",
   "execution_count": 6,
   "metadata": {},
   "outputs": [
    {
     "name": "stdout",
     "output_type": "stream",
     "text": [
      "smth happened before\n",
      "Whee!\n",
      "smth happened after\n"
     ]
    }
   ],
   "source": [
    "say_whee()"
   ]
  },
  {
   "cell_type": "markdown",
   "metadata": {},
   "source": [
    "### <span style=\"color:green\"> 2.3. Reusing decorators </span>\n",
    "\n",
    "Decorator is just a regular Python function. All the **usual tools for easy reusability are available**. \n",
    "\n",
    "Create a file called `decorators.py` with the following content:\n",
    "\n",
    "```Python\n",
    "def do_twice(func):\n",
    "    def wrapper_do_twice():\n",
    "        func()\n",
    "        func()\n",
    "    return wrapper_do_twice\n",
    "```\n",
    "\n",
    "You can now use this new decorator in other files by doing a **regular import:**"
   ]
  },
  {
   "cell_type": "code",
   "execution_count": 7,
   "metadata": {},
   "outputs": [],
   "source": [
    "from decorators import do_twice\n",
    "\n",
    "@do_twice\n",
    "def say_whee():\n",
    "    print(\"Whee!\")"
   ]
  },
  {
   "cell_type": "code",
   "execution_count": 8,
   "metadata": {},
   "outputs": [
    {
     "name": "stdout",
     "output_type": "stream",
     "text": [
      "Whee!\n",
      "Whee!\n"
     ]
    }
   ],
   "source": [
    "say_whee()"
   ]
  },
  {
   "cell_type": "markdown",
   "metadata": {},
   "source": [
    "### <span style=\"color:green\"> 2.4. Decorating functions with arguments </span>\n",
    "Say, we need to decorate a function that accepts some arguments.\n",
    "\n",
    "Try:\n"
   ]
  },
  {
   "cell_type": "code",
   "execution_count": null,
   "metadata": {},
   "outputs": [],
   "source": [
    "from decorators import do_twice\n",
    "\n",
    "@do_twice\n",
    "def greet(name):\n",
    "    print(f'Hello, {name}')\n",
    "    \n",
    "greet('World')"
   ]
  },
  {
   "cell_type": "markdown",
   "metadata": {},
   "source": [
    "It will raise an error!"
   ]
  },
  {
   "cell_type": "markdown",
   "metadata": {},
   "source": [
    "The **problem is** that the inner function `wrapper_do_twice()` does not take any arguments, but `name=\"World\"` was passed to it. You could fix this by letting `wrapper_do_twice()` accept one argument, but then it would not work for the `say_whee()` function you created earlier.\n",
    "\n",
    "**Solution:** is to **use** `*args` **and** `**kwargs` **in the inner wrapper function**.     \n",
    "Then it will accept an arbitrary number of positional and keyword arguments.  \n",
    "\n",
    "Rewrite `decorators.py` as follows:\n",
    "\n",
    "\n",
    "```Python\n",
    "def do_twice(func):\n",
    "    def wrapper_do_twice(*args, **kwargs):\n",
    "        func(*args, **kwargs)\n",
    "        func(*args, **kwargs)\n",
    "    return wrapper_do_twice\n",
    "```\n",
    "\n",
    "And try again:"
   ]
  },
  {
   "cell_type": "code",
   "execution_count": 27,
   "metadata": {},
   "outputs": [],
   "source": [
    "from decorators import do_twice\n",
    "\n",
    "@do_twice\n",
    "def greet(name):\n",
    "    print(f\"Hello {name}\")"
   ]
  },
  {
   "cell_type": "code",
   "execution_count": 28,
   "metadata": {},
   "outputs": [
    {
     "name": "stdout",
     "output_type": "stream",
     "text": [
      "Hello World\n",
      "Hello World\n"
     ]
    }
   ],
   "source": [
    "greet('World')"
   ]
  },
  {
   "cell_type": "markdown",
   "metadata": {},
   "source": [
    "### <span style=\"color:green\"> 2.5. Returning values from decorated functions </span>\n",
    "What happens to the return value of decorated functions?\n",
    "\n",
    "*Try:*"
   ]
  },
  {
   "cell_type": "code",
   "execution_count": 11,
   "metadata": {},
   "outputs": [
    {
     "name": "stdout",
     "output_type": "stream",
     "text": [
      "Creating greeting\n",
      "Creating greeting\n"
     ]
    }
   ],
   "source": [
    "from decorators import do_twice\n",
    "\n",
    "@do_twice\n",
    "def return_greeting(name):\n",
    "    print(\"Creating greeting\")\n",
    "    return f\"Hi {name}\"\n",
    "\n",
    "return_greeting(\"Adam\")"
   ]
  },
  {
   "cell_type": "markdown",
   "metadata": {},
   "source": [
    "**Decorator ate the return value from the function.**\n",
    "\n",
    "**Because the** `do_twice_wrapper()` **doesn’t explicitly return a value**, the call `return_greeting(\"Adam\")` **ended up returning** `None`.\n",
    "\n",
    "**Solution:** you need to **make wrapper function *returning* the return value of the decorated function.** \n",
    "\n",
    "Change your `decorators.py` file:\n",
    "\n",
    ">```Python\n",
    ">def do_twice(func):\n",
    ">     def wrapper_do_twice(*args, **kwargs): # MODIFIED - Accepts arguments of the wrapped function\n",
    ">         func(*args, **kwargs)\n",
    ">         value =  func(*args, **kwargs)  # REPLACED\n",
    ">         return value                    # REPLACED\n",
    ">      # return [value, value] \n",
    ">   return wrapper_do_twice\n",
    ">```"
   ]
  },
  {
   "cell_type": "code",
   "execution_count": 13,
   "metadata": {},
   "outputs": [
    {
     "name": "stdout",
     "output_type": "stream",
     "text": [
      "Creating greeting\n",
      "Creating greeting\n"
     ]
    },
    {
     "data": {
      "text/plain": [
       "'Hi Adam'"
      ]
     },
     "execution_count": 13,
     "metadata": {},
     "output_type": "execute_result"
    }
   ],
   "source": [
    "from decorators_3 import do_twice\n",
    "\n",
    "@do_twice\n",
    "def return_greeting(name):\n",
    "    print(\"Creating greeting\")\n",
    "    return f\"Hi {name}\"\n",
    "\n",
    "return_greeting(\"Adam\")"
   ]
  },
  {
   "cell_type": "markdown",
   "metadata": {},
   "source": [
    "### <span style=\"color:green\"> 2.6. Who are you, really? </span>\n",
    "\n",
    "A great convenience when working with Python, especially in the interactive shell, is its powerful introspection ability.      \n",
    "**Introspection** is the **ability of an object to know about its own attributes at runtime.** \n",
    "\n",
    "For instance, a *function knows its own name and documentation:*\n"
   ]
  },
  {
   "cell_type": "code",
   "execution_count": 14,
   "metadata": {},
   "outputs": [
    {
     "data": {
      "text/plain": [
       "<function print>"
      ]
     },
     "execution_count": 14,
     "metadata": {},
     "output_type": "execute_result"
    }
   ],
   "source": [
    "print"
   ]
  },
  {
   "cell_type": "code",
   "execution_count": 16,
   "metadata": {},
   "outputs": [
    {
     "data": {
      "text/plain": [
       "'print'"
      ]
     },
     "execution_count": 16,
     "metadata": {},
     "output_type": "execute_result"
    }
   ],
   "source": [
    "print.__name__"
   ]
  },
  {
   "cell_type": "code",
   "execution_count": 18,
   "metadata": {},
   "outputs": [
    {
     "name": "stdout",
     "output_type": "stream",
     "text": [
      "Help on built-in function print in module builtins:\n",
      "\n",
      "print(...)\n",
      "    print(value, ..., sep=' ', end='\\n', file=sys.stdout, flush=False)\n",
      "    \n",
      "    Prints the values to a stream, or to sys.stdout by default.\n",
      "    Optional keyword arguments:\n",
      "    file:  a file-like object (stream); defaults to the current sys.stdout.\n",
      "    sep:   string inserted between values, default a space.\n",
      "    end:   string appended after the last value, default a newline.\n",
      "    flush: whether to forcibly flush the stream.\n",
      "\n"
     ]
    }
   ],
   "source": [
    "help(print)"
   ]
  },
  {
   "cell_type": "code",
   "execution_count": 22,
   "metadata": {},
   "outputs": [
    {
     "name": "stdout",
     "output_type": "stream",
     "text": [
      "Ellipsis\n"
     ]
    }
   ],
   "source": [
    "print(...)"
   ]
  },
  {
   "cell_type": "markdown",
   "metadata": {},
   "source": [
    "Introspection works for functions you define yourself as well:"
   ]
  },
  {
   "cell_type": "code",
   "execution_count": 29,
   "metadata": {},
   "outputs": [
    {
     "data": {
      "text/plain": [
       "<function decorators.do_twice.<locals>.wrapper_do_twice(*args, **kwargs)>"
      ]
     },
     "execution_count": 29,
     "metadata": {},
     "output_type": "execute_result"
    }
   ],
   "source": [
    "greet"
   ]
  },
  {
   "cell_type": "code",
   "execution_count": 31,
   "metadata": {},
   "outputs": [
    {
     "data": {
      "text/plain": [
       "'wrapper_do_twice'"
      ]
     },
     "execution_count": 31,
     "metadata": {},
     "output_type": "execute_result"
    }
   ],
   "source": [
    "greet.__name__"
   ]
  },
  {
   "cell_type": "code",
   "execution_count": 34,
   "metadata": {},
   "outputs": [
    {
     "name": "stdout",
     "output_type": "stream",
     "text": [
      "Help on function wrapper_do_twice in module decorators:\n",
      "\n",
      "wrapper_do_twice(*args, **kwargs)\n",
      "\n"
     ]
    }
   ],
   "source": [
    "help(greet)"
   ]
  },
  {
   "cell_type": "markdown",
   "metadata": {},
   "source": [
    "**After being decorated, the origial function looses its identity and uses that of the wrapper!** \n",
    "\n",
    "**Solution:**  decorators should use the ` @functools.wraps` decorator, which will **preserve information about the original function.**    \n",
    "\n",
    "Update `decorators.py` again:\n",
    "\n",
    ">```Python\n",
    ">import functools  # ADDED\n",
    ">\n",
    ">def do_twice(func):\n",
    ">    @functools.wraps(func)  # ADDED\n",
    ">     def wrapper_do_twice(*args, **kwargs):\n",
    ">         func(*args, **kwargs)\n",
    ">         return func(*args, **kwargs)\n",
    ">     return wrapper_do_twice\n",
    ">```"
   ]
  },
  {
   "cell_type": "code",
   "execution_count": 36,
   "metadata": {},
   "outputs": [],
   "source": [
    "from decorators_4 import do_twice\n",
    "\n",
    "@do_twice\n",
    "def greet(name):\n",
    "    print(f\"Hello {name}\")"
   ]
  },
  {
   "cell_type": "code",
   "execution_count": 38,
   "metadata": {},
   "outputs": [
    {
     "name": "stdout",
     "output_type": "stream",
     "text": [
      "Hello Paul\n",
      "Hello Paul\n"
     ]
    }
   ],
   "source": [
    "greet('Paul')"
   ]
  },
  {
   "cell_type": "code",
   "execution_count": 40,
   "metadata": {},
   "outputs": [
    {
     "data": {
      "text/plain": [
       "<function __main__.greet(name)>"
      ]
     },
     "execution_count": 40,
     "metadata": {},
     "output_type": "execute_result"
    }
   ],
   "source": [
    "greet"
   ]
  },
  {
   "cell_type": "code",
   "execution_count": 42,
   "metadata": {},
   "outputs": [
    {
     "data": {
      "text/plain": [
       "'greet'"
      ]
     },
     "execution_count": 42,
     "metadata": {},
     "output_type": "execute_result"
    }
   ],
   "source": [
    "greet.__name__"
   ]
  },
  {
   "cell_type": "code",
   "execution_count": 45,
   "metadata": {},
   "outputs": [
    {
     "name": "stdout",
     "output_type": "stream",
     "text": [
      "Help on function greet in module __main__:\n",
      "\n",
      "greet(name)\n",
      "\n"
     ]
    }
   ],
   "source": [
    "help(greet)"
   ]
  },
  {
   "cell_type": "markdown",
   "metadata": {},
   "source": [
    "**Technical detail:** The ` @functools.wraps` decorator uses the function `functools.update_wrapper()` to update special attributes like `__name__` and `__doc__` that are used in the introspection."
   ]
  },
  {
   "cell_type": "markdown",
   "metadata": {},
   "source": [
    "## <span style=\"color:green\"> 3. Real-world use-cases </span>\n",
    "### <span style=\"color:green\"> 3.1. Timing functions </span>\n",
    "Create a ` @timer` decorator: measure the **time a function takes to execute** and print the duration to the console. \n",
    "\n",
    "*Code:*\n"
   ]
  },
  {
   "cell_type": "code",
   "execution_count": 73,
   "metadata": {},
   "outputs": [],
   "source": [
    "import functools\n",
    "import time\n",
    "\n",
    "def timer(func):\n",
    "    \"\"\"Print the runtime of the decorated function\"\"\"\n",
    "    @functools.wraps(func)\n",
    "    def wrapper_timer(*args, **kwargs):\n",
    "        start_time = time.perf_counter()    # 1\n",
    "        \n",
    "        value = func(*args, **kwargs)\n",
    "        \n",
    "        end_time = time.perf_counter()      # 2\n",
    "        run_time = end_time - start_time    # 3\n",
    "        print(f\"Finished {func.__name__!r} in {run_time:.4f} s\")\n",
    "        return value\n",
    "    return wrapper_timer\n",
    "\n",
    "@timer\n",
    "def waste_some_time(num_times):\n",
    "    for _ in range(num_times):\n",
    "        sum([i**2 for i in range(10000)])\n",
    "    return \"Done!\""
   ]
  },
  {
   "cell_type": "code",
   "execution_count": 74,
   "metadata": {},
   "outputs": [
    {
     "name": "stdout",
     "output_type": "stream",
     "text": [
      "Finished 'waste_some_time' in 0.4642 s\n"
     ]
    },
    {
     "data": {
      "text/plain": [
       "'Done!'"
      ]
     },
     "execution_count": 74,
     "metadata": {},
     "output_type": "execute_result"
    }
   ],
   "source": [
    "waste_some_time(100)"
   ]
  },
  {
   "cell_type": "markdown",
   "metadata": {},
   "source": [
    "We uses the `time.perf_counter()` function, which does a good job of measuring time intervals.\n",
    "\n",
    "**Note:** The ` @timer` decorator is great if you just want to get an idea about the runtime of your functions.      \n",
    "**If you want to do more precise measurements of code, you should instead consider the** `timeit` **module in the standard library.** It temporarily disables garbage collection and runs multiple trials to strip out noise from quick function calls."
   ]
  },
  {
   "cell_type": "markdown",
   "metadata": {},
   "source": [
    "### <span style=\"color:green\"> 3.2. Debugging code </span>\n",
    "` @debug` decorator will **print the arguments a function is called with as well as its return value** every time the function is called:"
   ]
  },
  {
   "cell_type": "code",
   "execution_count": 78,
   "metadata": {},
   "outputs": [],
   "source": [
    "import functools\n",
    "\n",
    "def debug(func):\n",
    "    \"\"\"Print the function signature and return value\"\"\"\n",
    "    @functools.wraps(func)\n",
    "    def wrapper_debug(*args, **kwargs):\n",
    "        args_repr = [repr(a) for a in args]                      # 1\n",
    "        kwargs_repr = [f\"{k}={v!r}\" for k, v in kwargs.items()]  # 2\n",
    "        signature = \", \".join(args_repr + kwargs_repr)           # 3\n",
    "        print(f\"Calling {func.__name__}({signature})\")\n",
    "        \n",
    "        value = func(*args, **kwargs)\n",
    "        \n",
    "        print(f\"{func.__name__!r} returned {value!r}\")           # 4\n",
    "        return value\n",
    "    return wrapper_debug"
   ]
  },
  {
   "cell_type": "code",
   "execution_count": 79,
   "metadata": {},
   "outputs": [],
   "source": [
    "@debug\n",
    "def make_greeting(name, age=None):\n",
    "    if age is None:\n",
    "        return f\"Howdy {name}!\"\n",
    "    else:\n",
    "        return f\"Whoa {name}! {age} already, you are growing up!\""
   ]
  },
  {
   "cell_type": "code",
   "execution_count": 82,
   "metadata": {},
   "outputs": [
    {
     "name": "stdout",
     "output_type": "stream",
     "text": [
      "Calling make_greeting('Andy', '25')\n",
      "'make_greeting' returned 'Whoa Andy! 25 already, you are growing up!'\n"
     ]
    },
    {
     "data": {
      "text/plain": [
       "'Whoa Andy! 25 already, you are growing up!'"
      ]
     },
     "execution_count": 82,
     "metadata": {},
     "output_type": "execute_result"
    }
   ],
   "source": [
    "make_greeting('Andy', '25')"
   ]
  },
  {
   "cell_type": "markdown",
   "metadata": {},
   "source": [
    "This example might not seem immediately useful since the @debug decorator just repeats what you just wrote. **It’s more powerful when applied to small convenience functions that you don’t call directly yourself.**\n",
    "\n",
    "The following example calculates an approximation to the mathematical constant $e$ based on factorial calculation using a std. lib. function:"
   ]
  },
  {
   "cell_type": "code",
   "execution_count": 90,
   "metadata": {},
   "outputs": [
    {
     "name": "stdout",
     "output_type": "stream",
     "text": [
      "Calling factorial(0)\n",
      "Calling factorial(0)\n",
      "'factorial' returned 1\n",
      "'factorial' returned 1\n",
      "Calling factorial(1)\n",
      "Calling factorial(1)\n",
      "'factorial' returned 1\n",
      "'factorial' returned 1\n",
      "Calling factorial(2)\n",
      "Calling factorial(2)\n",
      "'factorial' returned 2\n",
      "'factorial' returned 2\n",
      "Calling factorial(3)\n",
      "Calling factorial(3)\n",
      "'factorial' returned 6\n",
      "'factorial' returned 6\n",
      "Calling factorial(4)\n",
      "Calling factorial(4)\n",
      "'factorial' returned 24\n",
      "'factorial' returned 24\n",
      "Calling factorial(5)\n",
      "Calling factorial(5)\n",
      "'factorial' returned 120\n",
      "'factorial' returned 120\n",
      "Calling factorial(6)\n",
      "Calling factorial(6)\n",
      "'factorial' returned 720\n",
      "'factorial' returned 720\n",
      "Calling factorial(7)\n",
      "Calling factorial(7)\n",
      "'factorial' returned 5040\n",
      "'factorial' returned 5040\n",
      "Calling factorial(8)\n",
      "Calling factorial(8)\n",
      "'factorial' returned 40320\n",
      "'factorial' returned 40320\n",
      "Calling factorial(9)\n",
      "Calling factorial(9)\n",
      "'factorial' returned 362880\n",
      "'factorial' returned 362880\n",
      "Calling factorial(10)\n",
      "Calling factorial(10)\n",
      "'factorial' returned 3628800\n",
      "'factorial' returned 3628800\n",
      "Calling factorial(11)\n",
      "Calling factorial(11)\n",
      "'factorial' returned 39916800\n",
      "'factorial' returned 39916800\n",
      "Calling factorial(12)\n",
      "Calling factorial(12)\n",
      "'factorial' returned 479001600\n",
      "'factorial' returned 479001600\n",
      "Calling factorial(13)\n",
      "Calling factorial(13)\n",
      "'factorial' returned 6227020800\n",
      "'factorial' returned 6227020800\n",
      "Calling factorial(14)\n",
      "Calling factorial(14)\n",
      "'factorial' returned 87178291200\n",
      "'factorial' returned 87178291200\n",
      "Calling factorial(15)\n",
      "Calling factorial(15)\n",
      "'factorial' returned 1307674368000\n",
      "'factorial' returned 1307674368000\n",
      "Calling factorial(16)\n",
      "Calling factorial(16)\n",
      "'factorial' returned 20922789888000\n",
      "'factorial' returned 20922789888000\n",
      "Calling factorial(17)\n",
      "Calling factorial(17)\n",
      "'factorial' returned 355687428096000\n",
      "'factorial' returned 355687428096000\n"
     ]
    },
    {
     "data": {
      "text/plain": [
       "2.7182818284590455"
      ]
     },
     "execution_count": 90,
     "metadata": {},
     "output_type": "execute_result"
    }
   ],
   "source": [
    "import math\n",
    "from debug import debug\n",
    "\n",
    "# Apply a decorator to a standard library function !!!\n",
    "math.factorial = debug(math.factorial)\n",
    "\n",
    "def approximate_e(terms=18):\n",
    "    return sum(1 / math.factorial(n) for n in range(terms))\n",
    "\n",
    "approximate_e()"
   ]
  },
  {
   "cell_type": "markdown",
   "metadata": {},
   "source": [
    "### <span style=\"color:green\"> 3.3. Registering plugins </span>\n",
    "**Decorators** don’t have to wrap the function they’re decorating. They **can also simply register that a function exists and return it unwrapped.**\n",
    "\n",
    "This can be used, for instance, to create a light-weight plug-in architecture:"
   ]
  },
  {
   "cell_type": "code",
   "execution_count": 93,
   "metadata": {},
   "outputs": [
    {
     "data": {
      "text/plain": [
       "{'say_hello': <function __main__.say_hello(name)>,\n",
       " 'be_awesome': <function __main__.be_awesome(name)>}"
      ]
     },
     "execution_count": 93,
     "metadata": {},
     "output_type": "execute_result"
    }
   ],
   "source": [
    "import random\n",
    "PLUGINS = dict()\n",
    "\n",
    "def register(func):\n",
    "    \"\"\"Register a function as a plug-in\"\"\"\n",
    "    PLUGINS[func.__name__] = func\n",
    "    return func\n",
    "\n",
    "@register\n",
    "def say_hello(name):\n",
    "    return f\"Hello {name}\"\n",
    "\n",
    "@register\n",
    "def be_awesome(name):\n",
    "    return f\"Yo {name}, together we are the awesomest!\"\n",
    "\n",
    "def randomly_greet(name):\n",
    "    greeter, greeter_func = random.choice(list(PLUGINS.items()))\n",
    "    print(f\"Using {greeter!r}\")\n",
    "    return greeter_func(name)"
   ]
  },
  {
   "cell_type": "markdown",
   "metadata": {},
   "source": [
    "The ` @register` decorator simply stores a reference to the decorated function in the **global** `PLUGINS` dict. You do not have to write an inner function or use ` @functools.wraps` in this example because you are returning the original function unmodified.\n",
    "\n",
    "The `randomly_greet()` function randomly chooses one of the registered functions to use.    Note that the `PLUGINS` **dictionary already contains references to each function object that is registered** as a plugin:"
   ]
  },
  {
   "cell_type": "code",
   "execution_count": 94,
   "metadata": {},
   "outputs": [
    {
     "data": {
      "text/plain": [
       "{'say_hello': <function __main__.say_hello(name)>,\n",
       " 'be_awesome': <function __main__.be_awesome(name)>}"
      ]
     },
     "execution_count": 94,
     "metadata": {},
     "output_type": "execute_result"
    }
   ],
   "source": [
    "PLUGINS"
   ]
  },
  {
   "cell_type": "code",
   "execution_count": 96,
   "metadata": {},
   "outputs": [
    {
     "name": "stdout",
     "output_type": "stream",
     "text": [
      "Using 'say_hello'\n"
     ]
    },
    {
     "data": {
      "text/plain": [
       "'Hello Anna'"
      ]
     },
     "execution_count": 96,
     "metadata": {},
     "output_type": "execute_result"
    }
   ],
   "source": [
    "randomly_greet('Anna')"
   ]
  },
  {
   "cell_type": "markdown",
   "metadata": {},
   "source": [
    "The main benefit of this simple plugin architecture is that you do not need to maintain a list of which plugins exist. That list is created when the plugins register themselves. This makes it trivial to add a new plugin: just define the function and decorate it with ` @register`."
   ]
  }
 ],
 "metadata": {
  "kernelspec": {
   "display_name": "Python 3",
   "language": "python",
   "name": "python3"
  },
  "language_info": {
   "codemirror_mode": {
    "name": "ipython",
    "version": 3
   },
   "file_extension": ".py",
   "mimetype": "text/x-python",
   "name": "python",
   "nbconvert_exporter": "python",
   "pygments_lexer": "ipython3",
   "version": "3.7.3"
  }
 },
 "nbformat": 4,
 "nbformat_minor": 2
}
