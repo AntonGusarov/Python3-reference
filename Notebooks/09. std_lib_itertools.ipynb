{
 "cells": [
  {
   "cell_type": "markdown",
   "metadata": {},
   "source": [
    "# Module `itertools` of std. lib. — functions creating iterators for efficient looping\n",
    "This module implements a number of fast, memory efficient **iterator building blocks**.     \n",
    "Together, they form an “iterator algebra” making it possible to construct specialized tools succinctly and efficiently in pure Python.\n",
    "\n",
    "## List of functions:\n",
    "Often use iterators obtained from iterables as arguments:     \n",
    "`iter(iterable)`      \n",
    "or     \n",
    "`range()`\n",
    "\n",
    "**1. Infinite iterators:**\n",
    "> `count(start [,step])` *`count(10) --> 10 11 12 13 14 ...`*     \n",
    "> `cycle(p)`             *`cycle('ABCD') --> A B C D A B C D ...`*    \n",
    "> `repeat(elem [, N])`   *`repeat(10, 3) --> 10 10 10`*\n",
    "\n",
    "**2. Finite iterators**\n",
    "> `accumulate(p [,func of 2 args])` *`accumulate([1,2,3,4,5]) --> 1 3 6 10 15`*         \n",
    "> `chain(p, q)` *`chain('ABC', 'DEF') --> A B C D E F`*         \n",
    "> `chain.from_iterable(iterable)` *`chain.from_iterable(['ABC', 'DEF']) --> A B C D E F`*         \n",
    "> `compress(data, selectors)` *`compress('ABCDEF', [1,0,1,0,1,1]) --> A C E F`*          \n",
    "> `dropwhile(lambda, seq)` *`dropwhile(lambda x: x<5, [1,4,6,4,1]) --> 6 4 1`*       \n",
    "> `takewhile(lambda, seq)` *`takewhile(lambda x: x<5, [1, 4, 6, 4, 1]) --> 1 4`*  \n",
    "> `filter(lambda, seq)` - built-in function    \n",
    "> `filterfalse(lambda, seq)` *`filterfalse(lambda x: x%2, range(10)) --> 0 2 4 6 8`*          \n",
    "> `groupby(iterable [, key])` *`for i in itertools.groupby([6, 6, 8, 8, 11]): print(i[0]) --> 6, 8, 11`*    \n",
    "> `islice(seq, [start,] stop [, step])` *`islice('ABCDEFG', 2, None) --> C D E F G`*    \n",
    "> `starmap(func, seq)`    *`starmap(pow, [(2,5), (3,2), (10,3)]) --> 32 9 1000`*     \n",
    "> `tee(iterable, n)` -  returns n independent iterators from a single iterable, copy iterators       \n",
    "> `zip_longest(p,q,..., fillvalue)`  *`zip_longest('ABCD', 'xy', fillvalue='-') --> Ax By C- D-`*          \n",
    "> `zip(p,q,...)` - built-in function\n",
    "\n",
    "**3. Combinatoric iterators**\n",
    "> `product(p,q,..., [repeat=1])` **Cartesian probuct:** *`product('AB', 2) --> ('A','A'), ('A','B'), ('B','A'), ('B','B')`*       \n",
    "> **`repeat`** is equivalent to the number of nested loops      \n",
    "> `permutations(p [,length])` *`permutations('ABC', 2) --> ('A','B'), ('A','C'), ('B','A'), ('B','C'), ('C','A'), ('C','B')`*   \n",
    "> `combinatios(p, length)` *`combinations('ABC', 2) --> ('A','B'), ('A','C'), ('B','C')`*   \n",
    "> `combinations_with_replacement(p, length)` *`combinations_with_replacement('AB', 2) --> ('A','A'), ('A','B'), ('B','B')`*    "
   ]
  },
  {
   "cell_type": "markdown",
   "metadata": {},
   "source": [
    "## Cartesian product\n",
    "In set theory (and, usually, in other parts of mathematics), a Cartesian product is a mathematical operation that returns a set (or product set or simply product) from multiple sets. That is, for sets A and B, the Cartesian product A × B is the set of all ordered pairs (a, b) where a ∈ A and b ∈ B:\n",
    "\n",
    "<img src='cart.jpg' height=\"200\" width=\"200\"/>"
   ]
  },
  {
   "cell_type": "markdown",
   "metadata": {},
   "source": [
    "## Demonstration"
   ]
  },
  {
   "cell_type": "code",
   "execution_count": 10,
   "metadata": {},
   "outputs": [
    {
     "data": {
      "text/plain": [
       "[('a', 3, 'd'), ('b', 4, 'e'), ('c', 5, 'f')]"
      ]
     },
     "execution_count": 10,
     "metadata": {},
     "output_type": "execute_result"
    }
   ],
   "source": [
    "import itertools\n",
    "\n",
    "x = zip('abc', [3,4,5], 'def')\n",
    "list(x)"
   ]
  },
  {
   "cell_type": "markdown",
   "metadata": {},
   "source": [
    "**1. Infinite iterators**"
   ]
  },
  {
   "cell_type": "code",
   "execution_count": 3,
   "metadata": {},
   "outputs": [
    {
     "name": "stdout",
     "output_type": "stream",
     "text": [
      "wow\n",
      "wow\n"
     ]
    }
   ],
   "source": [
    "list(itertools.repeat('wow', 2))\n",
    "\n",
    "for i in itertools.repeat('wow', 2):\n",
    "    print(i)"
   ]
  },
  {
   "cell_type": "markdown",
   "metadata": {},
   "source": [
    "**2. Finite iterators**"
   ]
  },
  {
   "cell_type": "code",
   "execution_count": 13,
   "metadata": {},
   "outputs": [
    {
     "name": "stdout",
     "output_type": "stream",
     "text": [
      "[0, 1, 2, 3, 4, 5, 6, 7, 8, 9]\n",
      "[0, 1, 3, 6, 10, 15, 21, 28, 36, 45]\n"
     ]
    }
   ],
   "source": [
    "print(list( range(10) ))\n",
    "print(list( itertools.accumulate(range(10)) )) # of the same len as the original iterator"
   ]
  },
  {
   "cell_type": "code",
   "execution_count": 17,
   "metadata": {},
   "outputs": [
    {
     "data": {
      "text/plain": [
       "[1, 1, 1, 2, 2, 2]"
      ]
     },
     "execution_count": 17,
     "metadata": {},
     "output_type": "execute_result"
    }
   ],
   "source": [
    "list( itertools.chain([1,1,1], [2,2,2]) )"
   ]
  },
  {
   "cell_type": "code",
   "execution_count": 21,
   "metadata": {},
   "outputs": [
    {
     "data": {
      "text/plain": [
       "['s', 'a', 'y', 'h', 'i']"
      ]
     },
     "execution_count": 21,
     "metadata": {},
     "output_type": "execute_result"
    }
   ],
   "source": [
    "list( itertools.chain.from_iterable(['say', 'hi']) )"
   ]
  },
  {
   "cell_type": "code",
   "execution_count": 25,
   "metadata": {},
   "outputs": [
    {
     "data": {
      "text/plain": [
       "[1, 2, 3, 4]"
      ]
     },
     "execution_count": 25,
     "metadata": {},
     "output_type": "execute_result"
    }
   ],
   "source": [
    "list( itertools.chain.from_iterable([(1,2), (3,4)]) )"
   ]
  },
  {
   "cell_type": "code",
   "execution_count": 29,
   "metadata": {},
   "outputs": [
    {
     "data": {
      "text/plain": [
       "['k', 'e', 'y', '1', 'k', 'e', 'y', '2']"
      ]
     },
     "execution_count": 29,
     "metadata": {},
     "output_type": "execute_result"
    }
   ],
   "source": [
    "list( itertools.chain.from_iterable({'key1': 10, 'key2' : 20} ) )"
   ]
  },
  {
   "cell_type": "code",
   "execution_count": 31,
   "metadata": {},
   "outputs": [
    {
     "data": {
      "text/plain": [
       "[0, 2]"
      ]
     },
     "execution_count": 31,
     "metadata": {},
     "output_type": "execute_result"
    }
   ],
   "source": [
    "list( itertools.compress(range(5), [1, 0 , 1, 0, 0]) )"
   ]
  },
  {
   "cell_type": "code",
   "execution_count": 37,
   "metadata": {},
   "outputs": [
    {
     "data": {
      "text/plain": [
       "[(6, <itertools._grouper at 0x224d57fa2e8>),\n",
       " (8, <itertools._grouper at 0x224d57fa0b8>),\n",
       " (11, <itertools._grouper at 0x224d57f1908>)]"
      ]
     },
     "execution_count": 37,
     "metadata": {},
     "output_type": "execute_result"
    }
   ],
   "source": [
    "list(itertools.groupby([6, 6, 8, 8, 11]))"
   ]
  },
  {
   "cell_type": "code",
   "execution_count": 40,
   "metadata": {},
   "outputs": [
    {
     "name": "stdout",
     "output_type": "stream",
     "text": [
      "6\n",
      "8\n",
      "11\n"
     ]
    }
   ],
   "source": [
    "for i in itertools.groupby([6, 6, 8, 8, 11]): print(i[0])"
   ]
  },
  {
   "cell_type": "code",
   "execution_count": 47,
   "metadata": {},
   "outputs": [
    {
     "name": "stdout",
     "output_type": "stream",
     "text": [
      "[6, 6, 8, 8, 11]\n",
      "[6, 6, 8, 8, 11]\n",
      "[6, 6, 8, 8, 11]\n"
     ]
    }
   ],
   "source": [
    "for i in itertools.tee([6, 6, 8, 8, 11], 3): print(list(i))"
   ]
  },
  {
   "cell_type": "code",
   "execution_count": 78,
   "metadata": {},
   "outputs": [
    {
     "data": {
      "text/plain": [
       "[(1, 1, 1, 1),\n",
       " (1, 1, 1, 2),\n",
       " (1, 1, 2, 1),\n",
       " (1, 1, 2, 2),\n",
       " (1, 2, 1, 1),\n",
       " (1, 2, 1, 2),\n",
       " (1, 2, 2, 1),\n",
       " (1, 2, 2, 2),\n",
       " (2, 1, 1, 1),\n",
       " (2, 1, 1, 2),\n",
       " (2, 1, 2, 1),\n",
       " (2, 1, 2, 2),\n",
       " (2, 2, 1, 1),\n",
       " (2, 2, 1, 2),\n",
       " (2, 2, 2, 1),\n",
       " (2, 2, 2, 2)]"
      ]
     },
     "execution_count": 78,
     "metadata": {},
     "output_type": "execute_result"
    }
   ],
   "source": [
    "list( itertools.product([1,2], [1,2], repeat = 2))"
   ]
  },
  {
   "cell_type": "code",
   "execution_count": 54,
   "metadata": {},
   "outputs": [
    {
     "data": {
      "text/plain": [
       "[('A', 'B'), ('A', 'C'), ('B', 'A'), ('B', 'C'), ('C', 'A'), ('C', 'B')]"
      ]
     },
     "execution_count": 54,
     "metadata": {},
     "output_type": "execute_result"
    }
   ],
   "source": [
    "list(itertools.permutations('ABC', 2))"
   ]
  },
  {
   "cell_type": "code",
   "execution_count": 70,
   "metadata": {},
   "outputs": [
    {
     "data": {
      "text/plain": [
       "[(1, 2), (1, 3), (2, 3)]"
      ]
     },
     "execution_count": 70,
     "metadata": {},
     "output_type": "execute_result"
    }
   ],
   "source": [
    "list(itertools.combinations([1,2,3], 2))"
   ]
  },
  {
   "cell_type": "code",
   "execution_count": 58,
   "metadata": {},
   "outputs": [
    {
     "data": {
      "text/plain": [
       "[('A', 'A'), ('A', 'B'), ('B', 'B')]"
      ]
     },
     "execution_count": 58,
     "metadata": {},
     "output_type": "execute_result"
    }
   ],
   "source": [
    "list(itertools.combinations_with_replacement('AB', 2))"
   ]
  },
  {
   "cell_type": "code",
   "execution_count": 16,
   "metadata": {},
   "outputs": [
    {
     "data": {
      "text/plain": [
       "<itertools.product at 0x10387b948>"
      ]
     },
     "execution_count": 16,
     "metadata": {},
     "output_type": "execute_result"
    }
   ],
   "source": [
    "p = itertools.product('AB', (1,2))\n",
    "p"
   ]
  },
  {
   "cell_type": "code",
   "execution_count": null,
   "metadata": {},
   "outputs": [],
   "source": []
  }
 ],
 "metadata": {
  "kernelspec": {
   "display_name": "Python 3",
   "language": "python",
   "name": "python3"
  },
  "language_info": {
   "codemirror_mode": {
    "name": "ipython",
    "version": 3
   },
   "file_extension": ".py",
   "mimetype": "text/x-python",
   "name": "python",
   "nbconvert_exporter": "python",
   "pygments_lexer": "ipython3",
   "version": "3.7.3"
  }
 },
 "nbformat": 4,
 "nbformat_minor": 2
}
