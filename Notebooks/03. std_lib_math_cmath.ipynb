{
 "cells": [
  {
   "cell_type": "markdown",
   "metadata": {},
   "source": [
    "# math — Mathematical functions — Python 3.7.4 \n",
    "This module provides access to the **mathematical functions defined by the C standard**.    \n",
    "These functions cannot be used with complex numbers; **use the functions of the same name from the `cmath` module if you require support for complex numbers.**\n",
    "\n",
    "The `math` module consists mostly of thin wrappers around the platform C math library functions. Behavior in exceptional cases follows Annex F of the C99 standard where appropriate. "
   ]
  },
  {
   "cell_type": "code",
   "execution_count": 1,
   "metadata": {},
   "outputs": [],
   "source": [
    "import math"
   ]
  },
  {
   "cell_type": "markdown",
   "metadata": {},
   "source": [
    "## 1. Number-theoretic and representation functions"
   ]
  },
  {
   "cell_type": "markdown",
   "metadata": {},
   "source": [
    ">  **`math.ceil(x)`**\n",
    "\n",
    "Return the ceiling of x, the smallest integer greater than or equal to x. "
   ]
  },
  {
   "cell_type": "markdown",
   "metadata": {},
   "source": [
    "> **`math.floor(x)`**\n",
    "\n",
    "Return the floor of x, the largest integer less than or equal to x."
   ]
  },
  {
   "cell_type": "markdown",
   "metadata": {},
   "source": [
    "> **`math.trunc(x)`**\n",
    "\n",
    "Return the integer value x truncated to an Integral (usually an integer)."
   ]
  },
  {
   "cell_type": "markdown",
   "metadata": {},
   "source": [
    "> **`math.copysign(x, y)`**\n",
    "\n",
    "Return a float with the magnitude (absolute value) of x but the sign of y. On platforms that support signed zeros, copysign(1.0, -0.0) returns -1.0."
   ]
  },
  {
   "cell_type": "markdown",
   "metadata": {},
   "source": [
    "> **`math.fabs(x)`**, `abs()`\n",
    "\n",
    "Return the absolute value of x."
   ]
  },
  {
   "cell_type": "code",
   "execution_count": 28,
   "metadata": {},
   "outputs": [
    {
     "data": {
      "text/plain": [
       "1.24"
      ]
     },
     "execution_count": 28,
     "metadata": {},
     "output_type": "execute_result"
    }
   ],
   "source": [
    "math.fabs(-1.24)"
   ]
  },
  {
   "cell_type": "markdown",
   "metadata": {},
   "source": [
    "> **`math.fsum(iterable)`**\n",
    "\n",
    "Return an accurate floating point sum of values in the iterable. Avoids loss of precision by tracking multiple intermediate partial sums:\n",
    "``` Python\n",
    "\n",
    ">>> sum([.1, .1, .1, .1, .1, .1, .1, .1, .1, .1])\n",
    "0.9999999999999999\n",
    ">>> math.fsum([.1, .1, .1, .1, .1, .1, .1, .1, .1, .1])\n",
    "1.0```"
   ]
  },
  {
   "cell_type": "markdown",
   "metadata": {},
   "source": [
    "> **`math.factorial(x)`**\n",
    "\n",
    "Return x factorial as an integer. Raises ValueError if x is not integral or is negative."
   ]
  },
  {
   "cell_type": "markdown",
   "metadata": {},
   "source": [
    "> **`math.gcd(a, b)`**\n",
    "\n",
    "Return the greatest common divisor of the integers a and b. If either a or b is nonzero, then the value of gcd(a, b) is the largest positive integer that divides both a and b. "
   ]
  },
  {
   "cell_type": "markdown",
   "metadata": {},
   "source": [
    "> **`math.isclose(a, b, *, rel_tol=1e-09, abs_tol=0.0)`**\n",
    "\n",
    "Return **True** if the values a and b are close to each other and **False** otherwise.\n",
    "\n",
    "Whether or not two values are considered close is determined according to given absolute and relative tolerances.\n",
    "\n",
    "`rel_tol` is the relative tolerance – maximum allowed difference between `a` and `b`, relative to the larger absolute value of `a` or `b`. For example, to set a tolerance of 5%, pass rel_tol=0.05. rel_tol must be greater than zero.\n",
    "\n",
    "`abs_tol` is the minimum absolute tolerance – useful for comparisons near zero. `abs_tol must` be at least zero.\n",
    "\n",
    "If no errors occur, the result will be: \n",
    "`abs(a-b) <= max(rel_tol * max(abs(a), abs(b)), abs_tol)`"
   ]
  },
  {
   "cell_type": "code",
   "execution_count": 11,
   "metadata": {},
   "outputs": [
    {
     "data": {
      "text/plain": [
       "True"
      ]
     },
     "execution_count": 11,
     "metadata": {},
     "output_type": "execute_result"
    }
   ],
   "source": [
    "math.isclose(1, 1.032, rel_tol = 0.1)"
   ]
  },
  {
   "cell_type": "markdown",
   "metadata": {},
   "source": [
    "> **`math.isfinite(x)`**\n",
    "\n",
    "Return True if x is neither an infinity nor a NaN, and False otherwise. "
   ]
  },
  {
   "cell_type": "markdown",
   "metadata": {},
   "source": [
    "> **`math.isinf(x)`**\n",
    "\n",
    "Return True if x is a positive or negative infinity, and False otherwise."
   ]
  },
  {
   "cell_type": "markdown",
   "metadata": {},
   "source": [
    "> **`math.isnan(x)`**\n",
    "\n",
    "Return True if x is a NaN (not a number), and False otherwise."
   ]
  },
  {
   "cell_type": "markdown",
   "metadata": {},
   "source": [
    "> **`math.modf(x)`**\n",
    "\n",
    "Return the fractional and integer parts of x. Both results carry the sign of x and are floats."
   ]
  },
  {
   "cell_type": "code",
   "execution_count": 3,
   "metadata": {},
   "outputs": [
    {
     "data": {
      "text/plain": [
       "(0.778, 2.0)"
      ]
     },
     "execution_count": 3,
     "metadata": {},
     "output_type": "execute_result"
    }
   ],
   "source": [
    "math.modf(2.778)"
   ]
  },
  {
   "cell_type": "markdown",
   "metadata": {},
   "source": [
    "> **`math.remainder(x, y)`**\n",
    "\n",
    "Return the IEEE 754-style remainder of x with respect to y. For finite x and finite nonzero y, this is the difference x - n*y, where n is the closest integer to the exact value of the quotient x /\n",
    "y. "
   ]
  },
  {
   "cell_type": "markdown",
   "metadata": {},
   "source": [
    "> **`math.fmod(x, y)`**\n",
    "\n",
    "Return `fmod(x, y)`, as defined by the platform C library. Note that the Python expression `x % y` may not return the same result. \n",
    "\n",
    "For this reason, `fmod()` is generally preferred when working with floats, while Python’s `x % y` is preferred when working with integers."
   ]
  },
  {
   "cell_type": "markdown",
   "metadata": {},
   "source": [
    "## 2. Power and logarithmic functions"
   ]
  },
  {
   "cell_type": "markdown",
   "metadata": {},
   "source": [
    "> **`math.exp(x)`**\n",
    "\n",
    "Return e raised to the power x."
   ]
  },
  {
   "cell_type": "markdown",
   "metadata": {},
   "source": [
    ">**`math.expm1(x)`**\n",
    "\n",
    "Return e raised to the power x, minus 1. Here e is the base of natural logarithms. For small floats x, the subtraction in exp(x) - 1 can result in a significant loss of precision; the expm1() function provides a way to compute this quantity to full precision"
   ]
  },
  {
   "cell_type": "markdown",
   "metadata": {},
   "source": [
    "> **`math.log(x[, base])`**\n",
    "\n",
    "* With one argument, return the natural logarithm of x (to base e).\n",
    "* With two arguments, return the logarithm of x to the given base, calculated as log(x)/log(base)."
   ]
  },
  {
   "cell_type": "markdown",
   "metadata": {},
   "source": [
    " > **`math.log2(x)`**\n",
    "\n",
    "Return the base-2 logarithm of x. This is usually **more accurate than log(x, 2)**"
   ]
  },
  {
   "cell_type": "markdown",
   "metadata": {},
   "source": [
    " > **`math.log10(x)`**\n",
    "\n",
    "Return the base-10 logarithm of x. This is usually **more accurate than log(x, 10)**"
   ]
  },
  {
   "cell_type": "markdown",
   "metadata": {},
   "source": [
    "> **`math.pow(x, y)`**\n",
    "\n",
    "Return x raised to the power y. Exceptional cases follow Annex ‘F’ of the C99 standard as far as possible. In particular, pow(1.0, x) and pow(x, 0.0) always return 1.0, even when x is a zero or a NaN. If both x and y are finite, x is negative, and y is not an integer then pow(x, y) is undefined, and raises ValueError.\n",
    "\n",
    "**Unlike the built-in ** operator, `math.pow()` converts both its arguments to type float.**"
   ]
  },
  {
   "cell_type": "code",
   "execution_count": 16,
   "metadata": {},
   "outputs": [
    {
     "data": {
      "text/plain": [
       "4.0"
      ]
     },
     "execution_count": 16,
     "metadata": {},
     "output_type": "execute_result"
    }
   ],
   "source": [
    "math.pow(2,2)"
   ]
  },
  {
   "cell_type": "code",
   "execution_count": 18,
   "metadata": {},
   "outputs": [
    {
     "data": {
      "text/plain": [
       "4"
      ]
     },
     "execution_count": 18,
     "metadata": {},
     "output_type": "execute_result"
    }
   ],
   "source": [
    "2**2"
   ]
  },
  {
   "cell_type": "markdown",
   "metadata": {},
   "source": [
    "> **`math.sqrt(x)`**\n",
    "\n",
    "Return the square root of x."
   ]
  },
  {
   "cell_type": "markdown",
   "metadata": {},
   "source": [
    "## 3. Trigonometric functions"
   ]
  },
  {
   "cell_type": "markdown",
   "metadata": {},
   "source": [
    " > **`math.hypot(x, y)`**\n",
    "\n",
    "Return the Euclidean norm, `sqrt(x*x + y*y)`. This is the length of the vector from the origin to point (x, y)"
   ]
  },
  {
   "cell_type": "markdown",
   "metadata": {},
   "source": [
    "> **`math.cos(x)`**\n",
    "\n",
    "Return the cosine of x radians."
   ]
  },
  {
   "cell_type": "markdown",
   "metadata": {},
   "source": [
    "> **`math.sin(x)`**\n",
    "\n",
    "Return the sine of x radians."
   ]
  },
  {
   "cell_type": "markdown",
   "metadata": {},
   "source": [
    "> **`math.tan(x)`**\n",
    "\n",
    "Return the tangent of x radians."
   ]
  },
  {
   "cell_type": "markdown",
   "metadata": {},
   "source": [
    "> **`math.acos(x)`**\n",
    "\n",
    "Return the arc cosine of x, in radians."
   ]
  },
  {
   "cell_type": "markdown",
   "metadata": {},
   "source": [
    "> **`math.asin(x)`**\n",
    "\n",
    "Return the arc sine of x, in radians."
   ]
  },
  {
   "cell_type": "markdown",
   "metadata": {},
   "source": [
    "> **`math.atan(x)`**\n",
    "\n",
    "Return the arc tangent of x, in radians."
   ]
  },
  {
   "cell_type": "markdown",
   "metadata": {},
   "source": [
    "> **`math.atan2(y, x)`**\n",
    "\n",
    "Return atan(y / x), in radians.    \n",
    "The result is between -pi and pi.     \n",
    "The vector in the plane from the origin to point (x, y) makes this angle with the positive X axis.     \n",
    "The point of atan2() is that the signs of both inputs are known to it, so it can compute the correct quadrant for the angle. For example, atan(1) and atan2(1, 1) are both pi/4, but atan2(-1,-1) is -3*pi/4"
   ]
  },
  {
   "cell_type": "markdown",
   "metadata": {},
   "source": [
    "## 4. Angular conversion"
   ]
  },
  {
   "cell_type": "markdown",
   "metadata": {},
   "source": [
    "> **`math.degrees(x)`**\n",
    "\n",
    "Convert angle x from radians to degrees."
   ]
  },
  {
   "cell_type": "markdown",
   "metadata": {},
   "source": [
    "> **`math.radians(x)`**\n",
    "\n",
    "Convert angle x from degrees to radians."
   ]
  },
  {
   "cell_type": "markdown",
   "metadata": {},
   "source": [
    "## 5. Special functions"
   ]
  },
  {
   "cell_type": "markdown",
   "metadata": {},
   "source": [
    "> **`math.erf(x)`**\n",
    "\n",
    "Return the error function at x.\n",
    "\n",
    "The `erf()` function can be used to compute traditional statistical functions such as the cumulative standard normal distribution:\n",
    "\n",
    "```Python\n",
    "   #Cumulative distribution function for the standard normal distribution:\n",
    "   def phi(x):\n",
    "   return (1.0 + erf(x / sqrt(2.0))) / 2.0\n",
    "```"
   ]
  },
  {
   "cell_type": "markdown",
   "metadata": {},
   "source": [
    " > **`math.erfc(x)`**\n",
    "\n",
    "Return the complementary error function at x. The complementary error function is defined as 1.0 - erf(x). It is used for large values of x where a subtraction from one would cause a loss of significance."
   ]
  },
  {
   "cell_type": "markdown",
   "metadata": {},
   "source": [
    "> **`math.gamma(x)`**\n",
    "\n",
    "Return the Gamma function at x."
   ]
  },
  {
   "cell_type": "markdown",
   "metadata": {},
   "source": [
    "## 6. Constants"
   ]
  },
  {
   "cell_type": "markdown",
   "metadata": {},
   "source": [
    "> **`math.pi`**\n",
    "\n",
    "The mathematical constant $π = 3.141592…$, to available precision."
   ]
  },
  {
   "cell_type": "markdown",
   "metadata": {},
   "source": [
    "> **`math.tau`**\n",
    "\n",
    "The mathematical constant $τ = 6.283185…$ to available precision. Tau is a circle constant equal to $2π$, the ratio of a circle’s circumference to its radius."
   ]
  },
  {
   "cell_type": "markdown",
   "metadata": {},
   "source": [
    "> **`math.e`**\n",
    "\n",
    "The mathematical constant $e = 2.718281…$, to available precision."
   ]
  },
  {
   "cell_type": "markdown",
   "metadata": {},
   "source": [
    " > **`math.inf`**\n",
    "\n",
    "A floating-point positive infinity. (For negative infinity, use `-math.inf`) Equivalent to the output of `float('inf')`"
   ]
  },
  {
   "cell_type": "markdown",
   "metadata": {},
   "source": [
    " >**`math.nan`**\n",
    "\n",
    " A floating-point “not a number” (NaN) value. Equivalent to the output of float('nan')"
   ]
  },
  {
   "cell_type": "markdown",
   "metadata": {},
   "source": [
    "# cmath — Mathematical functions for complex numbers — Python 3.7.4\n",
    "This module provides access to mathematical functions for complex numbers. The functions in this module accept integers, floating-point numbers or complex numbers as arguments.\n",
    "\n",
    "Most of the fuctions have the same names, just additional part should refer to **`.cmath`** instead of **`math.`**. "
   ]
  },
  {
   "cell_type": "code",
   "execution_count": 19,
   "metadata": {},
   "outputs": [],
   "source": [
    "import cmath"
   ]
  },
  {
   "cell_type": "markdown",
   "metadata": {},
   "source": [
    "> **`z.real()`**\n",
    "> **`x.imag()`**"
   ]
  },
  {
   "cell_type": "markdown",
   "metadata": {},
   "source": [
    "## 1. Conversions to and from polar coordinates\n",
    "A Python complex number `z` is stored internally using rectangular or Cartesian coordinates. It is completely determined by its real part `z.real` and its imaginary part `z.imag`.\n",
    "\n",
    "Polar coordinates give an alternative way to represent a complex number. In polar coordinates, a complex number `z` is defined by the modulus `r` and the phase angle `phi`. The modulus `r` is the distance from `z` to the origin, while the phase `phi` is the **counterclockwise angle, measured in radians from the positive x-axis to the line segment that joins the origin to `z`**.\n",
    "\n",
    "The following functions can be used to convert from the native rectangular coordinates to polar coordinates and back:"
   ]
  },
  {
   "cell_type": "markdown",
   "metadata": {},
   "source": [
    " > **`cmath.polar(x)`**\n",
    "\n",
    "Return the representation of `x` in polar coordinates. Returns a pair `(r, phi)` where `r` is the modulus of `x` and `phi` is the phase of `x` .`polar(x)` is equivalent to `(abs(x), cmath.phase(x))`"
   ]
  },
  {
   "cell_type": "code",
   "execution_count": 38,
   "metadata": {},
   "outputs": [
    {
     "data": {
      "text/plain": [
       "(1.4142135623730951, 0.7853981633974483)"
      ]
     },
     "execution_count": 38,
     "metadata": {},
     "output_type": "execute_result"
    }
   ],
   "source": [
    "x = 1 + 1*1j\n",
    "cmath.polar(x)"
   ]
  },
  {
   "cell_type": "code",
   "execution_count": 40,
   "metadata": {},
   "outputs": [
    {
     "data": {
      "text/plain": [
       "(1.4142135623730951, 45.0)"
      ]
     },
     "execution_count": 40,
     "metadata": {},
     "output_type": "execute_result"
    }
   ],
   "source": [
    "x = 1 + 1*1j \n",
    "abs(x), math.degrees(cmath.phase(x))"
   ]
  },
  {
   "cell_type": "markdown",
   "metadata": {},
   "source": [
    "> **` cmath.rect(r, phi)`**\n",
    "\n",
    "Return the complex number `x` with polar coordinates `r` and `phi`. Equivalent to `r * (math.cos(phi) + math.sin(phi)*1j)`"
   ]
  },
  {
   "cell_type": "markdown",
   "metadata": {},
   "source": [
    " > **`cmath.phase(x)`**\n",
    "\n",
    "Return the phase of `x` as a float. `phase(x)` is equivalent to `math.atan2(x.imag,x.real)`. The result lies in the range $[-π, π]$."
   ]
  }
 ],
 "metadata": {
  "kernelspec": {
   "display_name": "Python 3",
   "language": "python",
   "name": "python3"
  },
  "language_info": {
   "codemirror_mode": {
    "name": "ipython",
    "version": 3
   },
   "file_extension": ".py",
   "mimetype": "text/x-python",
   "name": "python",
   "nbconvert_exporter": "python",
   "pygments_lexer": "ipython3",
   "version": "3.7.3"
  }
 },
 "nbformat": 4,
 "nbformat_minor": 2
}
