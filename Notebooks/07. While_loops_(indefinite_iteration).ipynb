{
 "cells": [
  {
   "cell_type": "markdown",
   "metadata": {},
   "source": [
    "# `while` loops (indefinite interations)\n",
    "\n",
    "**Overview:**\n",
    ">  * Construct basic and complex (nested) while loops;\n",
    ">  * Interrupt loop execution with `break` and `continue`;\n",
    ">  * Use the `else` clause with a while loop;\n",
    ">  * Deal with infinite loops;\n",
    "\n",
    "In programming, there are two types of iteration:\n",
    "\n",
    "* <span style=\"color:blue\"> **indefinite** </span> **iteration**: the number of times the loop is executed isn’t specified explicitly in advance. Rather, the designated block is executed repeatedly **as long as some condition is met**.\n",
    "* <span style=\"color:blue\"> **Definite** </span> **iteration**: the number of times a block will be executed is specified explicitly at the time when the loop defined.\n"
   ]
  },
  {
   "cell_type": "markdown",
   "metadata": {},
   "source": [
    "## 1. The `while` loop\n",
    "A rudimentary `while` loop:\n",
    "\n",
    "```Python\n",
    "while <expr>:\n",
    "    <statement(s)>\n",
    "```\n",
    "where:     \n",
    " `<statement(s)>` is a block to be repeatedly executed, aka **body of the loop**;     \n",
    " `<expr>` is a **controlling expression**; typically involves one or more variables that are initialized prior the loop and then **modified somewhere in the loop body**. \n",
    "\n",
    "\n",
    "The `<expr>` is first evaluated in Boolean context. If it is `True`, the loop body is executed. Then `<expr>` is checked again, and if still `True`, the body is executed again. This continues until `<expr>` becomes `False`, so  that program goes to the first statement after the loop body.\n",
    "\n",
    "*Example:*"
   ]
  },
  {
   "cell_type": "code",
   "execution_count": 3,
   "metadata": {},
   "outputs": [
    {
     "name": "stdout",
     "output_type": "stream",
     "text": [
      "4\n",
      "3\n",
      "2\n",
      "1\n",
      "0\n"
     ]
    }
   ],
   "source": [
    "n = 5\n",
    "while n > 0: # checking the condition\n",
    "    n -= 1\n",
    "    print(n)"
   ]
  },
  {
   "cell_type": "markdown",
   "metadata": {},
   "source": [
    "Note that the **controlling expression of the while loop is tested first, before anything else happens:**"
   ]
  },
  {
   "cell_type": "code",
   "execution_count": 4,
   "metadata": {},
   "outputs": [],
   "source": [
    "n = 0\n",
    "while n > 0: # checking the condition - nothing will happen!\n",
    "    n -= 1\n",
    "    print(n)"
   ]
  },
  {
   "cell_type": "markdown",
   "metadata": {},
   "source": [
    "<span style=\"color:blue\"> **When a list is evaluated in Boolean context** </span>, it is truthy if it has elements in it and falsy if it is empty:"
   ]
  },
  {
   "cell_type": "code",
   "execution_count": 9,
   "metadata": {},
   "outputs": [
    {
     "name": "stdout",
     "output_type": "stream",
     "text": [
      "baz\n",
      "bar\n",
      "foo\n"
     ]
    }
   ],
   "source": [
    "a = ['foo', 'bar', 'baz']\n",
    "while a:\n",
    "    print(a.pop()) # .pop() method also returns a popping element"
   ]
  },
  {
   "cell_type": "markdown",
   "metadata": {},
   "source": [
    "## 2. The Python `break` and `continue` statements\n",
    "Python provides two keywords that terminate a loop iteration prematurely:\n",
    "\n",
    "* <span style=\"color:red\"> **break** </span> statement immediately **terminates a loop entirely**. Program execution proceeds to the first statement following the loop body.\n",
    "* <span style=\"color:green\"> **continue** </span> statement immediately **terminates the current loop iteration**. Execution jumps to the top of the loop, and the controlling expression is re-evaluated.\n",
    "\n",
    "<img src=\"break_continue.jpg\" height=\"220\" width=\"220\"/>\n"
   ]
  },
  {
   "cell_type": "markdown",
   "metadata": {},
   "source": [
    "* Demonstration of a **`break`** statement:"
   ]
  },
  {
   "cell_type": "code",
   "execution_count": 12,
   "metadata": {},
   "outputs": [
    {
     "name": "stdout",
     "output_type": "stream",
     "text": [
      "4\n",
      "3\n",
      "Loop ended\n"
     ]
    }
   ],
   "source": [
    "n = 5\n",
    "while n > 0:\n",
    "    n -= 1\n",
    "    if n == 2:\n",
    "        break\n",
    "    print(n)\n",
    "print('Loop ended')"
   ]
  },
  {
   "cell_type": "markdown",
   "metadata": {},
   "source": [
    "* Demonstration of a **`continue`** statement:"
   ]
  },
  {
   "cell_type": "code",
   "execution_count": 15,
   "metadata": {},
   "outputs": [
    {
     "name": "stdout",
     "output_type": "stream",
     "text": [
      "4\n",
      "3\n",
      "1\n",
      "0\n",
      "Loop ended\n"
     ]
    }
   ],
   "source": [
    "n = 5\n",
    "while n > 0:\n",
    "    n -= 1\n",
    "    if n == 2:\n",
    "        continue\n",
    "    print(n)\n",
    "print('Loop ended')"
   ]
  },
  {
   "cell_type": "markdown",
   "metadata": {},
   "source": [
    "## 3. The `else` clause\n",
    "\n",
    "This is a unique feature of Python. The syntax is shown below:\n",
    "\n",
    "```Python\n",
    "while <expr>:\n",
    "    <statement(s)>\n",
    "else:\n",
    "    <additional_statement(s)>\n",
    "```\n",
    "\n",
    "The `<additional_statement(s)>` specified in the `else clause` will be executed when the while loop terminates.\n",
    "\n",
    "You might think that you could accomplish the same by putting those statements immediately after the while loop, without the else:\n",
    "```Python\n",
    "while <expr>:\n",
    "    <statement(s)>\n",
    "<additional_statement(s)>\n",
    "```\n",
    "**What’s the difference?**\n",
    "\n",
    "When `<additional_statement(s)>` are placed in an `else` clause, they **will be executed only if the loop terminates “by exhaustion”** i.e. if the loop iterates until the controlling condition becomes false. **If the loop is exited by a `break` statement, the `else` clause won’t be executed:**"
   ]
  },
  {
   "cell_type": "code",
   "execution_count": 17,
   "metadata": {},
   "outputs": [
    {
     "name": "stdout",
     "output_type": "stream",
     "text": [
      "4\n",
      "3\n",
      "2\n"
     ]
    }
   ],
   "source": [
    "n = 5\n",
    "while n > 0:\n",
    "    n -= 1\n",
    "    print(n)\n",
    "    if n == 2:\n",
    "        break\n",
    "else:\n",
    "    print('Loop done.')"
   ]
  },
  {
   "cell_type": "markdown",
   "metadata": {},
   "source": [
    "This loop is terminated prematurely with break, so the else clause isn’t executed.\n",
    "\n",
    "**When might an `else` clause be useful?**    \n",
    "**(1)** One common situation is if you are searching a list for a specific item. You can use break to exit the loop if the item is found, and the else clause can contain code that is meant to be executed if the item isn’t found:"
   ]
  },
  {
   "cell_type": "code",
   "execution_count": 18,
   "metadata": {},
   "outputs": [
    {
     "name": "stdout",
     "output_type": "stream",
     "text": [
      "corge not found in list.\n"
     ]
    }
   ],
   "source": [
    "a = ['foo', 'bar', 'baz', 'qux']\n",
    "s = 'corge'\n",
    "\n",
    "i = 0\n",
    "while i < len(a):\n",
    "    if a[i] == s:\n",
    "        # Processing for item found\n",
    "        break\n",
    "    i += 1\n",
    "else:\n",
    "    # Processing for item not found\n",
    "    print(s, 'not found in list.')"
   ]
  },
  {
   "cell_type": "markdown",
   "metadata": {},
   "source": [
    "**Note:** The code shown above is useful to illustrate the concept, but you’d actually be **very unlikely to search a list that way.**\n",
    "\n",
    "An else clause with a while loop is a bit of an oddity, not often seen. But don’t shy away from it if you find a situation in which you feel it adds clarity to your code!"
   ]
  },
  {
   "cell_type": "markdown",
   "metadata": {},
   "source": [
    "## 4. Infinite loops\n",
    "Suppose you write a while loop that theoretically never ends. \n",
    "\n",
    "```Python\n",
    "while True:\n",
    "    <statement(s)>\n",
    "```\n",
    "\n",
    "1. This pattern is actually quite common e.g. you might write code for a service that runs accepting service requests.     \n",
    "2. Loops can be broken out of with the `break` statement. It **may be more straightforward to terminate a loop based on conditions recognized within the loop body**.\n",
    "\n",
    "Example of loop that successively removes items from a list using `.pop()` until it is empty:"
   ]
  },
  {
   "cell_type": "code",
   "execution_count": 20,
   "metadata": {},
   "outputs": [
    {
     "name": "stdout",
     "output_type": "stream",
     "text": [
      "baz\n",
      "bar\n",
      "foo\n"
     ]
    }
   ],
   "source": [
    "a = ['foo', 'bar', 'baz']\n",
    "while True:\n",
    "    if not a:\n",
    "        break\n",
    "    print(a.pop(-1))"
   ]
  },
  {
   "cell_type": "markdown",
   "metadata": {},
   "source": [
    "You can also specify **multiple `break` statements in a loop**:\n",
    "```Python\n",
    "while True:\n",
    "    if <expr1>:  # One condition for loop termination\n",
    "        break\n",
    "    ...\n",
    "    if <expr2>:  # Another termination condition\n",
    "        break\n",
    "    ...\n",
    "    if <expr3>:  # Yet another\n",
    "        break\n",
    "```\n",
    "\n",
    "In cases like this, with multiple reasons to end the loop, it is often **cleaner to break out from several different locations, rather than try to specify all the termination conditions in the loop header.**\n",
    "\n",
    "**Infinite loops can be very useful.**"
   ]
  },
  {
   "cell_type": "markdown",
   "metadata": {},
   "source": [
    "## 5. Nested `while` loops"
   ]
  },
  {
   "cell_type": "code",
   "execution_count": 22,
   "metadata": {},
   "outputs": [
    {
     "name": "stdout",
     "output_type": "stream",
     "text": [
      "foo\n",
      "> baz\n",
      "> qux\n",
      "bar\n",
      "> baz\n",
      "> qux\n"
     ]
    }
   ],
   "source": [
    "a = ['foo', 'bar']\n",
    "while len(a):\n",
    "    print(a.pop(0))\n",
    "    b = ['baz', 'qux']\n",
    "    while len(b):\n",
    "        print('>', b.pop(0))"
   ]
  },
  {
   "cell_type": "markdown",
   "metadata": {},
   "source": [
    "A `break` or `continue` statement found within nested loops **applies to the nearest enclosing loop**:\n",
    "``` Python\n",
    "while <expr1>:\n",
    "    statement\n",
    "    statement\n",
    "\n",
    "    while <expr2>:\n",
    "        statement\n",
    "        statement\n",
    "        break  # Applies to while <expr2>: loop\n",
    "\n",
    "    break  # Applies to while <expr1>: loop\n",
    "```\n",
    "In fact, all the Python control structures can be intermingled with one another to whatever extent you need."
   ]
  },
  {
   "cell_type": "markdown",
   "metadata": {},
   "source": [
    "## 6. Single-line `while` loops\n",
    "As with an if statement, a `while` loop can be specified on one line. If there are multiple statements in the block that makes up the loop body, they can be separated by semicolons `;`:"
   ]
  },
  {
   "cell_type": "code",
   "execution_count": 23,
   "metadata": {},
   "outputs": [
    {
     "name": "stdout",
     "output_type": "stream",
     "text": [
      "4\n",
      "3\n",
      "2\n",
      "1\n",
      "0\n"
     ]
    }
   ],
   "source": [
    "n = 5\n",
    "while n > 0: n -= 1; print(n)"
   ]
  },
  {
   "cell_type": "markdown",
   "metadata": {},
   "source": [
    "This **only works with simple statements** though. You can’t combine two compound statements into one line."
   ]
  }
 ],
 "metadata": {
  "kernelspec": {
   "display_name": "Python 3",
   "language": "python",
   "name": "python3"
  },
  "language_info": {
   "codemirror_mode": {
    "name": "ipython",
    "version": 3
   },
   "file_extension": ".py",
   "mimetype": "text/x-python",
   "name": "python",
   "nbconvert_exporter": "python",
   "pygments_lexer": "ipython3",
   "version": "3.7.3"
  }
 },
 "nbformat": 4,
 "nbformat_minor": 2
}
