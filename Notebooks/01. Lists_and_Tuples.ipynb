{
 "cells": [
  {
   "cell_type": "markdown",
   "metadata": {},
   "source": [
    "#  **01. Lists and tuples**\n",
    "#  1. Lists"
   ]
  },
  {
   "cell_type": "code",
   "execution_count": 1,
   "metadata": {},
   "outputs": [],
   "source": [
    "list_1 = [1, 2, 3, 4]"
   ]
  },
  {
   "cell_type": "markdown",
   "metadata": {},
   "source": [
    "* List is an **ordered but changeable** collection of **any** types as its elements (even functions, classes, and modules).  \n",
    "* <span style=\"color:blue\"> List are equivalent to a cell array in MATLAB. </span>\n",
    "\n",
    "Lists are  <span style=\"color:blue\"> **MUTABLE** </span> (non-hashable) i.e. elements can be added, deleted, shifted, and moved around at will i.e. it is dynamic."
   ]
  },
  {
   "cell_type": "markdown",
   "metadata": {},
   "source": [
    "##  1. Operators \n",
    "> <b>`in`"
   ]
  },
  {
   "cell_type": "code",
   "execution_count": 4,
   "metadata": {},
   "outputs": [
    {
     "data": {
      "text/plain": [
       "True"
      ]
     },
     "execution_count": 4,
     "metadata": {},
     "output_type": "execute_result"
    }
   ],
   "source": [
    "2 in list_1"
   ]
  },
  {
   "cell_type": "markdown",
   "metadata": {},
   "source": [
    "> <b> `not in`"
   ]
  },
  {
   "cell_type": "code",
   "execution_count": 5,
   "metadata": {},
   "outputs": [
    {
     "data": {
      "text/plain": [
       "True"
      ]
     },
     "execution_count": 5,
     "metadata": {},
     "output_type": "execute_result"
    }
   ],
   "source": [
    "99 not in list_1"
   ]
  },
  {
   "cell_type": "markdown",
   "metadata": {},
   "source": [
    "> <b> `del`</b> `list[i]`"
   ]
  },
  {
   "cell_type": "code",
   "execution_count": 6,
   "metadata": {},
   "outputs": [
    {
     "name": "stdout",
     "output_type": "stream",
     "text": [
      "[1, 2, 3, 4]\n",
      "[1, 2, 3]\n"
     ]
    }
   ],
   "source": [
    "print(list_1)\n",
    "del list_1[3]\n",
    "print(list_1)"
   ]
  },
  {
   "cell_type": "markdown",
   "metadata": {},
   "source": [
    "> <b> `+`</b> for concatenation "
   ]
  },
  {
   "cell_type": "code",
   "execution_count": 7,
   "metadata": {},
   "outputs": [
    {
     "name": "stdout",
     "output_type": "stream",
     "text": [
      "[1, 2, 3, 9, 0]\n",
      "[100, 1, 2, 3]\n"
     ]
    }
   ],
   "source": [
    "print( list_1 + [9, 0] )\n",
    "print( [100]  + list_1 )"
   ]
  },
  {
   "cell_type": "markdown",
   "metadata": {},
   "source": [
    "> <b> `*` </b>"
   ]
  },
  {
   "cell_type": "code",
   "execution_count": 8,
   "metadata": {},
   "outputs": [
    {
     "data": {
      "text/plain": [
       "[1, 2, 3, 1, 2, 3, 1, 2, 3]"
      ]
     },
     "execution_count": 8,
     "metadata": {},
     "output_type": "execute_result"
    }
   ],
   "source": [
    "list_1 * 3"
   ]
  },
  {
   "cell_type": "markdown",
   "metadata": {},
   "source": [
    "##  2. Functions \n",
    "> <b> `max()`</b>, <b> `min()` "
   ]
  },
  {
   "cell_type": "code",
   "execution_count": 9,
   "metadata": {},
   "outputs": [
    {
     "data": {
      "text/plain": [
       "3"
      ]
     },
     "execution_count": 9,
     "metadata": {},
     "output_type": "execute_result"
    }
   ],
   "source": [
    "max(list_1)"
   ]
  },
  {
   "cell_type": "code",
   "execution_count": 10,
   "metadata": {},
   "outputs": [
    {
     "data": {
      "text/plain": [
       "1"
      ]
     },
     "execution_count": 10,
     "metadata": {},
     "output_type": "execute_result"
    }
   ],
   "source": [
    "min(list_1)"
   ]
  },
  {
   "cell_type": "markdown",
   "metadata": {},
   "source": [
    "> <b> `len()`"
   ]
  },
  {
   "cell_type": "code",
   "execution_count": 11,
   "metadata": {},
   "outputs": [
    {
     "data": {
      "text/plain": [
       "3"
      ]
     },
     "execution_count": 11,
     "metadata": {},
     "output_type": "execute_result"
    }
   ],
   "source": [
    "len(list_1)"
   ]
  },
  {
   "cell_type": "markdown",
   "metadata": {},
   "source": [
    "> <b> `sum()` </b> <br>"
   ]
  },
  {
   "cell_type": "code",
   "execution_count": 12,
   "metadata": {},
   "outputs": [
    {
     "name": "stdout",
     "output_type": "stream",
     "text": [
      "[1, 2, 3]\n"
     ]
    },
    {
     "data": {
      "text/plain": [
       "6"
      ]
     },
     "execution_count": 12,
     "metadata": {},
     "output_type": "execute_result"
    }
   ],
   "source": [
    "print(list_1)\n",
    "sum(list_1)"
   ]
  },
  {
   "cell_type": "markdown",
   "metadata": {},
   "source": [
    "> <b> `list()` </b> <br>\n",
    "Type transform"
   ]
  },
  {
   "cell_type": "code",
   "execution_count": 13,
   "metadata": {},
   "outputs": [
    {
     "data": {
      "text/plain": [
       "['1', ' ', '2', ' ', '3']"
      ]
     },
     "execution_count": 13,
     "metadata": {},
     "output_type": "execute_result"
    }
   ],
   "source": [
    "list('1 2 3')"
   ]
  },
  {
   "cell_type": "markdown",
   "metadata": {},
   "source": [
    "* useful code:"
   ]
  },
  {
   "cell_type": "code",
   "execution_count": 14,
   "metadata": {},
   "outputs": [
    {
     "name": "stdout",
     "output_type": "stream",
     "text": [
      "0 a\n",
      "1 b\n",
      "2 c\n"
     ]
    }
   ],
   "source": [
    "a = ['a', 'b', 'c'] # define a list\n",
    "\n",
    "for ind, items in enumerate(a, start = 0):\n",
    "    print(ind, items)"
   ]
  },
  {
   "cell_type": "markdown",
   "metadata": {},
   "source": [
    "##  3. Methods"
   ]
  },
  {
   "cell_type": "markdown",
   "metadata": {},
   "source": [
    "> <b>`.reverse()`</b> <br>\n",
    "Reverses the order"
   ]
  },
  {
   "cell_type": "code",
   "execution_count": 15,
   "metadata": {},
   "outputs": [
    {
     "name": "stdout",
     "output_type": "stream",
     "text": [
      "[3, 2, 1]\n"
     ]
    }
   ],
   "source": [
    "list_1.reverse()\n",
    "print(list_1)"
   ]
  },
  {
   "cell_type": "markdown",
   "metadata": {},
   "source": [
    "> <b> `.sort([reverse=True])`</b> <br>\n",
    "Sorts the <b>comparable</b> objects.\n",
    "\n",
    "This method changes the original list. If we want a sorted copy with untackled original list use:\n",
    "\n",
    "> **`.sorted()`**"
   ]
  },
  {
   "cell_type": "code",
   "execution_count": 16,
   "metadata": {},
   "outputs": [
    {
     "name": "stdout",
     "output_type": "stream",
     "text": [
      "[3, 2, 1]\n",
      "[1, 2, 3]\n"
     ]
    }
   ],
   "source": [
    "print(list_1)\n",
    "list_1.sort()\n",
    "print(list_1)"
   ]
  },
  {
   "cell_type": "markdown",
   "metadata": {},
   "source": [
    "It can compare <u>list of lists</u>: sublists are <u>sorted by ascending first elemend and then by ascending second element</u>."
   ]
  },
  {
   "cell_type": "markdown",
   "metadata": {},
   "source": [
    "> <b> `.count(elmt)` </b> <br>\n",
    "Counts how many of arg are in list. <span style = \"color:blue\"> Returns 0 if no occurence <span/>."
   ]
  },
  {
   "cell_type": "code",
   "execution_count": 17,
   "metadata": {},
   "outputs": [
    {
     "name": "stdout",
     "output_type": "stream",
     "text": [
      "[1, 2, 3]\n"
     ]
    },
    {
     "data": {
      "text/plain": [
       "1"
      ]
     },
     "execution_count": 17,
     "metadata": {},
     "output_type": "execute_result"
    }
   ],
   "source": [
    "print(list_1)\n",
    "list_1.count(3)"
   ]
  },
  {
   "cell_type": "markdown",
   "metadata": {},
   "source": [
    "> <b> `.insert(i, elmt)`</b> <br>\n",
    "Insert arg to the specified position."
   ]
  },
  {
   "cell_type": "code",
   "execution_count": 18,
   "metadata": {},
   "outputs": [
    {
     "name": "stdout",
     "output_type": "stream",
     "text": [
      "[1, 2, 3]\n",
      "[1, [33, 3], 2, 3]\n"
     ]
    }
   ],
   "source": [
    "print(list_1)\n",
    "list_1.insert(1, [33,3])\n",
    "print(list_1)"
   ]
  },
  {
   "cell_type": "markdown",
   "metadata": {},
   "source": [
    "To insert elements into a list without removing anything. Simply specify a slice of the form `[n:n]` (a zero-length slice) at the desired index"
   ]
  },
  {
   "cell_type": "code",
   "execution_count": 19,
   "metadata": {},
   "outputs": [
    {
     "data": {
      "text/plain": [
       "[1, 2, 3, 4, 5, 6, 7, 8]"
      ]
     },
     "execution_count": 19,
     "metadata": {},
     "output_type": "execute_result"
    }
   ],
   "source": [
    "a = [1, 2, 7, 8]\n",
    "a[2:2] = [3, 4, 5, 6]\n",
    "a"
   ]
  },
  {
   "cell_type": "markdown",
   "metadata": {},
   "source": [
    "> <b>`.append(arg)`</b> <br>\n",
    "Adds arg to the end of the list."
   ]
  },
  {
   "cell_type": "code",
   "execution_count": 20,
   "metadata": {},
   "outputs": [
    {
     "name": "stdout",
     "output_type": "stream",
     "text": [
      "[1, [33, 3], 2, 3, [100, 101]]\n"
     ]
    }
   ],
   "source": [
    "list_1.append([100,101]) # adds arg the end of the list\n",
    "print(list_1)"
   ]
  },
  {
   "cell_type": "markdown",
   "metadata": {},
   "source": [
    "> <b>`.extend(list_arg)` "
   ]
  },
  {
   "cell_type": "code",
   "execution_count": 21,
   "metadata": {},
   "outputs": [
    {
     "name": "stdout",
     "output_type": "stream",
     "text": [
      "[1, [33, 3], 2, 3, [100, 101]]\n",
      "[1, [33, 3], 2, 3, [100, 101], 11, 12, 13]\n"
     ]
    }
   ],
   "source": [
    "list_2 = [11, 12, 13]\n",
    "\n",
    "print(list_1)\n",
    "list_1.extend(list_2)\n",
    "# list_1.append(list_2) # if to use append() instead of extend(), we will get a new LIST added to the end of the old one\n",
    "print(list_1)"
   ]
  },
  {
   "cell_type": "markdown",
   "metadata": {},
   "source": [
    "> <b> `.pop(i)`</b> <br>\n",
    "* **Return** and pop out an element by its positional INDEX.\n",
    "* Without index it removes the **last element** from a list "
   ]
  },
  {
   "cell_type": "code",
   "execution_count": 22,
   "metadata": {},
   "outputs": [
    {
     "name": "stdout",
     "output_type": "stream",
     "text": [
      "[1, [33, 3], 2, 3, [100, 101], 11, 12, 13]\n",
      "[1, [33, 3], 2, 3, [100, 101], 11, 12]\n"
     ]
    }
   ],
   "source": [
    "print(list_1)\n",
    "list_1.pop()  # without index it removes the last element from a list \n",
    "print(list_1)"
   ]
  },
  {
   "cell_type": "markdown",
   "metadata": {},
   "source": [
    "> <b> `.remove(elmt)`</b> <br>\n",
    "Deletes a first occurence of the argument. If it cannot find anything to remove, <b> it will raise an error</b>. \n",
    "You can catch this error by <u> using exception-handling </u> <b>OR</b> <u>check the presence of an object </u> to be removed in a list before attempting to remove it."
   ]
  },
  {
   "cell_type": "code",
   "execution_count": 23,
   "metadata": {
    "scrolled": true
   },
   "outputs": [
    {
     "name": "stdout",
     "output_type": "stream",
     "text": [
      "[1, [33, 3], 2, 3, [100, 101], 11, 12]\n",
      "[1, [33, 3], 2, 3, [100, 101], 12]\n"
     ]
    }
   ],
   "source": [
    "print(list_1)\n",
    "list_1.remove(11)\n",
    "print(list_1)"
   ]
  },
  {
   "cell_type": "markdown",
   "metadata": {},
   "source": [
    "> <b> `.index(elmt [,start [,end]])` </b> <br>\n",
    "Returns the index of arg \\[within specified slice\\]. <span style = \"color:red\"> Returns error if no occurence </span>."
   ]
  },
  {
   "cell_type": "code",
   "execution_count": 24,
   "metadata": {},
   "outputs": [
    {
     "name": "stdout",
     "output_type": "stream",
     "text": [
      "[1, [33, 3], 2, 3, [100, 101], 12]\n"
     ]
    },
    {
     "data": {
      "text/plain": [
       "5"
      ]
     },
     "execution_count": 24,
     "metadata": {},
     "output_type": "execute_result"
    }
   ],
   "source": [
    "print(list_1)\n",
    "list_1.index(12)"
   ]
  },
  {
   "cell_type": "markdown",
   "metadata": {},
   "source": [
    "> <b> `.clear()` </b> <br>\n",
    "Remove all items from the list. Equivalent to `del a[:]`."
   ]
  },
  {
   "cell_type": "markdown",
   "metadata": {},
   "source": [
    "> <b> `.copy()` </b> <br>\n",
    "Return a shallow copy of the list. Equivalent to `a[:]`."
   ]
  },
  {
   "cell_type": "markdown",
   "metadata": {},
   "source": [
    "##   4. Slicing and indexing "
   ]
  },
  {
   "cell_type": "code",
   "execution_count": 25,
   "metadata": {},
   "outputs": [
    {
     "name": "stdout",
     "output_type": "stream",
     "text": [
      "[1, [33, 3], 2, 3, [100, 101], 12]\n"
     ]
    },
    {
     "data": {
      "text/plain": [
       "[1, [33, 3], 2, 3, [100, 101]]"
      ]
     },
     "execution_count": 25,
     "metadata": {},
     "output_type": "execute_result"
    }
   ],
   "source": [
    "print(list_1)\n",
    "list_1[0:-1]  # The last element of list will not be included!"
   ]
  },
  {
   "cell_type": "code",
   "execution_count": 26,
   "metadata": {},
   "outputs": [
    {
     "name": "stdout",
     "output_type": "stream",
     "text": [
      "[1, [33, 3], 2, 3, [100, 101], 12]\n",
      "[1, [33, 3], 2, 3, [100, 101], 12]\n",
      "[1, [33, 3], 2]\n"
     ]
    }
   ],
   "source": [
    "print(list_1[0:])    # get start and end element as in MATLAB (1:end)\n",
    "print(list_1[:])     # much better!\n",
    "print(list_1[:3])    # [start, end)"
   ]
  },
  {
   "cell_type": "markdown",
   "metadata": {},
   "source": [
    "<b> Nested lists:"
   ]
  },
  {
   "cell_type": "code",
   "execution_count": 27,
   "metadata": {},
   "outputs": [
    {
     "name": "stdout",
     "output_type": "stream",
     "text": [
      "['first', 'second', 'third', ['compound_1', 'compound_2']]\n"
     ]
    }
   ],
   "source": [
    "y_list = [\"first\", \"second\", \"third\", ['compound_1', 'compound_2']]\n",
    "print(y_list)"
   ]
  },
  {
   "cell_type": "markdown",
   "metadata": {},
   "source": [
    "We can access elements of inner list by compound indexing:"
   ]
  },
  {
   "cell_type": "code",
   "execution_count": 28,
   "metadata": {},
   "outputs": [
    {
     "data": {
      "text/plain": [
       "'compound_1'"
      ]
     },
     "execution_count": 28,
     "metadata": {},
     "output_type": "execute_result"
    }
   ],
   "source": [
    "y_list[-1][0]"
   ]
  },
  {
   "cell_type": "markdown",
   "metadata": {},
   "source": [
    "<b> Remove elements from a list:"
   ]
  },
  {
   "cell_type": "code",
   "execution_count": 29,
   "metadata": {},
   "outputs": [
    {
     "name": "stdout",
     "output_type": "stream",
     "text": [
      "['first', ['compound_1', 'compound_2']]\n"
     ]
    }
   ],
   "source": [
    "y_list[1:3] = []\n",
    "print(y_list)"
   ]
  },
  {
   "cell_type": "markdown",
   "metadata": {},
   "source": [
    "**Reverse the list by indexing**"
   ]
  },
  {
   "cell_type": "code",
   "execution_count": 30,
   "metadata": {},
   "outputs": [
    {
     "name": "stdout",
     "output_type": "stream",
     "text": [
      "[1, [33, 3], 2, 3, [100, 101], 12]\n",
      "[12, [100, 101], 3, 2, [33, 3], 1]\n",
      "[1, [33, 3], 2, 3, [100, 101], 12]\n"
     ]
    }
   ],
   "source": [
    "print(list_1)\n",
    "print(list_1[::-1])\n",
    "print(list_1)"
   ]
  },
  {
   "cell_type": "markdown",
   "metadata": {},
   "source": [
    "**`[:]` note**  \n",
    "There is an important difference between how this `[:]` syntax works with a list and how it works with a string:  \n",
    "* If a is a list, `a[:]` <span style = \"color:red\">**returns a new object that is a copy of `a`** </span>  \n",
    "* If `s` is a string, `s[:]` **returns a reference to the same object**"
   ]
  },
  {
   "cell_type": "code",
   "execution_count": 31,
   "metadata": {},
   "outputs": [
    {
     "data": {
      "text/plain": [
       "False"
      ]
     },
     "execution_count": 31,
     "metadata": {},
     "output_type": "execute_result"
    }
   ],
   "source": [
    "a = ['foo', 'bar', 'baz', 'qux', 'quux', 'corge']\n",
    "a[:] is a"
   ]
  },
  {
   "cell_type": "code",
   "execution_count": 32,
   "metadata": {},
   "outputs": [
    {
     "data": {
      "text/plain": [
       "True"
      ]
     },
     "execution_count": 32,
     "metadata": {},
     "output_type": "execute_result"
    }
   ],
   "source": [
    "s = 'foobar'\n",
    "s[:] is s"
   ]
  },
  {
   "cell_type": "markdown",
   "metadata": {},
   "source": [
    "#  2. Tuples"
   ]
  },
  {
   "cell_type": "code",
   "execution_count": 33,
   "metadata": {},
   "outputs": [
    {
     "data": {
      "text/plain": [
       "(1, 2, 3)"
      ]
     },
     "execution_count": 33,
     "metadata": {},
     "output_type": "execute_result"
    }
   ],
   "source": [
    "tuple_1 = (1, 2, 3, 4)\n",
    "tuple_1\n",
    "tuple_1[:3] # the same indexing system as for lists"
   ]
  },
  {
   "cell_type": "markdown",
   "metadata": {},
   "source": [
    "Tuple is an <span style = \"color:blue\"> **fixed, ordered** collection of objects of any type </span>.  \n",
    "Also can be nested.  \n",
    "Tuples are identical to lists in all respects, except for the following properties:\n",
    "* Tuples are defined by enclosing the elements in parentheses `( )` instead of square brackets `[ ]`.\n",
    "* Tuples are  <span style=\"color:blue\"> **IMMUTABLE**. </span>\n",
    "\n",
    "**Why use a tuple instead of a list?**  \n",
    "\n",
    "1. Program execution is **faster** when manipulating a tuple than it is for the equivalent list. \n",
    "2. Sometimes **data should not be modified**. If the elements of the collection shoukd remain constant, using a tuple instead of a list guards against accidental modification.\n",
    "3. There is a `dictionary` data type in Python, which requires as one of its components of an immutable type. A tuple can be used for this purpose."
   ]
  },
  {
   "cell_type": "markdown",
   "metadata": {},
   "source": [
    "### Displaying several objects in console\n",
    "In a REPL session, you can display several objects simultaneously by entering them directly at the prompt, separated by commas:"
   ]
  },
  {
   "cell_type": "code",
   "execution_count": 34,
   "metadata": {},
   "outputs": [
    {
     "data": {
      "text/plain": [
       "((1, 2, 3, 4), 3.12, 'foo')"
      ]
     },
     "execution_count": 34,
     "metadata": {},
     "output_type": "execute_result"
    }
   ],
   "source": [
    "tuple_1, 3.12, 'foo'"
   ]
  },
  {
   "cell_type": "markdown",
   "metadata": {},
   "source": [
    "Python displays the response in parentheses because it is implicitly interpreting the input as a tuple."
   ]
  },
  {
   "cell_type": "markdown",
   "metadata": {},
   "source": [
    "### Defining a singletone tuple"
   ]
  },
  {
   "cell_type": "code",
   "execution_count": 35,
   "metadata": {},
   "outputs": [
    {
     "data": {
      "text/plain": [
       "tuple"
      ]
     },
     "execution_count": 35,
     "metadata": {},
     "output_type": "execute_result"
    }
   ],
   "source": [
    "tuple_sing = (1,)\n",
    "type(tuple_sing)"
   ]
  },
  {
   "cell_type": "markdown",
   "metadata": {},
   "source": [
    " ### Python allows to omit parentheses"
   ]
  },
  {
   "cell_type": "code",
   "execution_count": 36,
   "metadata": {},
   "outputs": [
    {
     "name": "stdout",
     "output_type": "stream",
     "text": [
      "(1, 2, 3)\n",
      "(2,)\n"
     ]
    },
    {
     "data": {
      "text/plain": [
       "(4, 5, 6)"
      ]
     },
     "execution_count": 36,
     "metadata": {},
     "output_type": "execute_result"
    }
   ],
   "source": [
    "t = 1, 2, 3\n",
    "print(t)\n",
    "\n",
    "t = 2,\n",
    "print(t)\n",
    "\n",
    "x1, x2, x3 = 4, 5, 6\n",
    "x1, x2, x3"
   ]
  },
  {
   "cell_type": "markdown",
   "metadata": {},
   "source": [
    "### Compound assignment"
   ]
  },
  {
   "cell_type": "code",
   "execution_count": 37,
   "metadata": {},
   "outputs": [
    {
     "data": {
      "text/plain": [
       "('foo', 'bar', 'baz', 'qux')"
      ]
     },
     "execution_count": 37,
     "metadata": {},
     "output_type": "execute_result"
    }
   ],
   "source": [
    "(s1, s2, s3, s4) = ('foo', 'bar', 'baz', 'qux')\n",
    "s1, s2, s3, s4"
   ]
  },
  {
   "cell_type": "markdown",
   "metadata": {},
   "source": [
    "Frequently when programming,we have two variables whose values you need to **swap**. In Python this is possible without a temporarily variable:"
   ]
  },
  {
   "cell_type": "code",
   "execution_count": 38,
   "metadata": {},
   "outputs": [
    {
     "name": "stdout",
     "output_type": "stream",
     "text": [
      "foo bar\n",
      "bar foo\n"
     ]
    }
   ],
   "source": [
    "a = 'foo'\n",
    "b = 'bar'\n",
    "print(a, b)\n",
    "\n",
    "a, b  = b, a \n",
    "print(a, b)"
   ]
  },
  {
   "cell_type": "markdown",
   "metadata": {},
   "source": [
    "###  <span style=\"color:blue\"> Methods (\"count, index\") </span>\n",
    "Only 2  methods: **`.count(elmt)`**, **`.index(elmt)`**\n",
    "\n",
    "> <b> `.count(elmt)` </b> <br>\n",
    "Counts how many of elements are in list. <span style = \"color:blue\"> Returns 0 if no occurence <span/>."
   ]
  },
  {
   "cell_type": "code",
   "execution_count": 39,
   "metadata": {},
   "outputs": [
    {
     "data": {
      "text/plain": [
       "(1, 2, 3, 4)"
      ]
     },
     "execution_count": 39,
     "metadata": {},
     "output_type": "execute_result"
    }
   ],
   "source": [
    "tuple_1"
   ]
  },
  {
   "cell_type": "code",
   "execution_count": 40,
   "metadata": {},
   "outputs": [
    {
     "data": {
      "text/plain": [
       "1"
      ]
     },
     "execution_count": 40,
     "metadata": {},
     "output_type": "execute_result"
    }
   ],
   "source": [
    "tuple_1.count(3)"
   ]
  },
  {
   "cell_type": "markdown",
   "metadata": {},
   "source": [
    "> <b> `.index(elmt [,start [,end]])` </b> <br>\n",
    "Returns the index of an element \\[within specified slice\\]. <span style = \"color:red\"> Returns error if no occurence </span>."
   ]
  },
  {
   "cell_type": "code",
   "execution_count": 41,
   "metadata": {},
   "outputs": [
    {
     "data": {
      "text/plain": [
       "2"
      ]
     },
     "execution_count": 41,
     "metadata": {},
     "output_type": "execute_result"
    }
   ],
   "source": [
    "tuple_1.index(3)"
   ]
  },
  {
   "cell_type": "markdown",
   "metadata": {},
   "source": [
    "###  <span style=\"color:blue\"> Functions same as for lists </span>\n",
    "Type conversion **`tuple()`** and **`list()`**:"
   ]
  },
  {
   "cell_type": "code",
   "execution_count": 42,
   "metadata": {},
   "outputs": [
    {
     "name": "stdout",
     "output_type": "stream",
     "text": [
      "<class 'tuple'>\n",
      "<class 'list'>\n"
     ]
    }
   ],
   "source": [
    "a_list = [1, 2, 3]\n",
    "a_tuple = tuple(a_list)\n",
    "b_list = list(a_tuple)\n",
    "\n",
    "print(type(a_tuple))\n",
    "print(type(b_list))"
   ]
  },
  {
   "cell_type": "markdown",
   "metadata": {},
   "source": [
    "**`max()`** / **`min()`**"
   ]
  },
  {
   "cell_type": "code",
   "execution_count": 43,
   "metadata": {},
   "outputs": [
    {
     "data": {
      "text/plain": [
       "4"
      ]
     },
     "execution_count": 43,
     "metadata": {},
     "output_type": "execute_result"
    }
   ],
   "source": [
    "max(tuple_1)"
   ]
  },
  {
   "cell_type": "code",
   "execution_count": 44,
   "metadata": {},
   "outputs": [
    {
     "data": {
      "text/plain": [
       "1"
      ]
     },
     "execution_count": 44,
     "metadata": {},
     "output_type": "execute_result"
    }
   ],
   "source": [
    "min(tuple_1)"
   ]
  },
  {
   "cell_type": "markdown",
   "metadata": {},
   "source": [
    "**`sum()`**"
   ]
  },
  {
   "cell_type": "code",
   "execution_count": 45,
   "metadata": {},
   "outputs": [
    {
     "data": {
      "text/plain": [
       "10"
      ]
     },
     "execution_count": 45,
     "metadata": {},
     "output_type": "execute_result"
    }
   ],
   "source": [
    "sum(tuple_1)"
   ]
  },
  {
   "cell_type": "markdown",
   "metadata": {},
   "source": [
    "**`len()`**"
   ]
  },
  {
   "cell_type": "code",
   "execution_count": 46,
   "metadata": {},
   "outputs": [
    {
     "data": {
      "text/plain": [
       "4"
      ]
     },
     "execution_count": 46,
     "metadata": {},
     "output_type": "execute_result"
    }
   ],
   "source": [
    "len(tuple_1)"
   ]
  }
 ],
 "metadata": {
  "file_extension": ".py",
  "kernelspec": {
   "display_name": "Python 3",
   "language": "python",
   "name": "python3"
  },
  "language_info": {
   "codemirror_mode": {
    "name": "ipython",
    "version": 3
   },
   "file_extension": ".py",
   "mimetype": "text/x-python",
   "name": "python",
   "nbconvert_exporter": "python",
   "pygments_lexer": "ipython3",
   "version": "3.7.3"
  },
  "mimetype": "text/x-python",
  "name": "python",
  "npconvert_exporter": "python",
  "pygments_lexer": "ipython3",
  "version": 3
 },
 "nbformat": 4,
 "nbformat_minor": 2
}
