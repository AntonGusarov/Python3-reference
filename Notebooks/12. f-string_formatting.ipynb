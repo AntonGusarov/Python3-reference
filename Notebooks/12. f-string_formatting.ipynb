{
 "cells": [
  {
   "cell_type": "markdown",
   "metadata": {},
   "source": [
    "# <span style=\"color:blue\"> Python 3 f-strings: improved string formatting syntax </span>\n",
    "As of Python 3.6, f-strings are a great new way to format strings.\n",
    "But first, here’s what life was like before f-strings."
   ]
  },
  {
   "cell_type": "markdown",
   "metadata": {},
   "source": [
    "## <span style=\"color:blue\"> 1. Old-school string formatting in Python </span>\n",
    "### <span style=\"color:blue\"> 1.1. %-formatting </span>\n",
    "This option of formatting and has been in the language since the very beginning, although **%-formatting is not recommended** by the docs since exhibit a variety of quirks that lead to a number of common errors.\n",
    "\n",
    "<span style=\"color:blue\"> **Syntax** </span>    \n",
    "String objects have a built-in operation using the `%` operator, which you can use to format strings:"
   ]
  },
  {
   "cell_type": "code",
   "execution_count": 3,
   "metadata": {},
   "outputs": [
    {
     "data": {
      "text/plain": [
       "'Hello, Eric'"
      ]
     },
     "execution_count": 3,
     "metadata": {},
     "output_type": "execute_result"
    }
   ],
   "source": [
    "name = 'Eric'\n",
    "'Hello, %s' % name"
   ]
  },
  {
   "cell_type": "markdown",
   "metadata": {},
   "source": [
    "To insert more than one variable, use **tuple** of those variables."
   ]
  },
  {
   "cell_type": "code",
   "execution_count": 10,
   "metadata": {},
   "outputs": [
    {
     "data": {
      "text/plain": [
       "'Hello, Eric. Your age is 30.'"
      ]
     },
     "execution_count": 10,
     "metadata": {},
     "output_type": "execute_result"
    }
   ],
   "source": [
    "name = 'Eric'\n",
    "age = 30\n",
    "'Hello, %s. Your age is %i.' % (name, age)"
   ]
  },
  {
   "cell_type": "markdown",
   "metadata": {},
   "source": [
    "<span style=\"color:blue\"> **Problems** </span>     \n",
    "Once you start using several parameters and longer strings, your code will quickly become much less readable:"
   ]
  },
  {
   "cell_type": "code",
   "execution_count": 11,
   "metadata": {},
   "outputs": [
    {
     "data": {
      "text/plain": [
       "'Hello, Eric Idle. You are 74. You are a comedian. You were a member of Monty Python.'"
      ]
     },
     "execution_count": 11,
     "metadata": {},
     "output_type": "execute_result"
    }
   ],
   "source": [
    "first_name = \"Eric\"\n",
    "last_name = \"Idle\"\n",
    "age = 74\n",
    "profession = \"comedian\"\n",
    "affiliation = \"Monty Python\"\n",
    "\n",
    "\"Hello, %s %s. You are %s. You are a %s. You were a member of %s.\" % (first_name, last_name, age, profession, affiliation)"
   ]
  },
  {
   "cell_type": "markdown",
   "metadata": {},
   "source": [
    "This kind of formatting is verbose and leads to errors especially with additional editing parameters."
   ]
  },
  {
   "cell_type": "markdown",
   "metadata": {},
   "source": [
    "### <span style=\"color:blue\"> 1.2. str.format() </span>\n",
    "This newer way of getting the job done was introduced in Python 2.6. \n",
    "\n",
    "<span style=\"color:blue\"> **Syntax** </span>    \n",
    "Thw `str.format()` is an improvement on %-formatting. It uses normal method call syntax.     \n",
    "With this method the replacement fields are marked by curly braces `{}`."
   ]
  },
  {
   "cell_type": "code",
   "execution_count": 51,
   "metadata": {},
   "outputs": [
    {
     "data": {
      "text/plain": [
       "'Hello, Eric. Your age is 30'"
      ]
     },
     "execution_count": 51,
     "metadata": {},
     "output_type": "execute_result"
    }
   ],
   "source": [
    "name = 'Eric'\n",
    "age = 30\n",
    "'Hello, {}. Your age is {}'.format(name, age)"
   ]
  },
  {
   "cell_type": "markdown",
   "metadata": {},
   "source": [
    "You can **reference variables in any order** by referencing their index:"
   ]
  },
  {
   "cell_type": "code",
   "execution_count": 18,
   "metadata": {},
   "outputs": [
    {
     "data": {
      "text/plain": [
       "'Hello, 30. Your age is Eric'"
      ]
     },
     "execution_count": 18,
     "metadata": {},
     "output_type": "execute_result"
    }
   ],
   "source": [
    "'Hello, {1}. Your age is {0}'.format(name, age)"
   ]
  },
  {
   "cell_type": "markdown",
   "metadata": {},
   "source": [
    "If you **insert the variable names**, you will being able to pass objects and then reference parameters and methods in between the braces:"
   ]
  },
  {
   "cell_type": "code",
   "execution_count": 20,
   "metadata": {},
   "outputs": [
    {
     "data": {
      "text/plain": [
       "'Hello, Eric. You are 74.'"
      ]
     },
     "execution_count": 20,
     "metadata": {},
     "output_type": "execute_result"
    }
   ],
   "source": [
    "person = {'na': 'Eric',\n",
    "          'ag': 74\n",
    "         }\n",
    "'Hello, {name}. You are {age}.'.format(name=person['na'], age=person['ag'])"
   ]
  },
  {
   "cell_type": "markdown",
   "metadata": {},
   "source": [
    "`**` trick **with a dictionary:** "
   ]
  },
  {
   "cell_type": "code",
   "execution_count": 22,
   "metadata": {},
   "outputs": [
    {
     "data": {
      "text/plain": [
       "'Hello, Eric. You are 74.'"
      ]
     },
     "execution_count": 22,
     "metadata": {},
     "output_type": "execute_result"
    }
   ],
   "source": [
    "person = {'name': 'Eric', \n",
    "          'age' : 74\n",
    "         }\n",
    "\n",
    "'Hello, {name}. You are {age}.'.format(**person)"
   ]
  },
  {
   "cell_type": "markdown",
   "metadata": {},
   "source": [
    "<span style=\"color:blue\"> **Problems** </span>     \n",
    "Code using `str.format()` is much more readable than code using %-formatting, but it can still be quite verbose when dealing with multiple parameters and longer strings:"
   ]
  },
  {
   "cell_type": "code",
   "execution_count": 35,
   "metadata": {},
   "outputs": [
    {
     "data": {
      "text/plain": [
       "'Hello, Eric Idle. You are 74. You are a comedian. You were a member of Monty Python.'"
      ]
     },
     "execution_count": 35,
     "metadata": {},
     "output_type": "execute_result"
    }
   ],
   "source": [
    "irst_name = \"Eric\"\n",
    "last_name = \"Idle\"\n",
    "age = 74\n",
    "profession = \"comedian\"\n",
    "affiliation = \"Monty Python\"\n",
    "\n",
    "(\"Hello, {first_name} {last_name}. You are {age}. \" + \n",
    " \"You are a {profession}. You were a member of {affiliation}.\").format(first_name=first_name,\n",
    "                                                                       last_name=last_name, \n",
    "                                                                       age=age, \n",
    "                                                                       profession=profession, \n",
    "                                                                       affiliation=affiliation)"
   ]
  },
  {
   "cell_type": "markdown",
   "metadata": {},
   "source": [
    "## <span style=\"color:blue\">2. f-strings </span>\n",
    "Were introduced in Python 3.6. Also called \"formatted string literals\" have an `f` at the beginning and curly braces containing expressions that will be replaced with their values by names. The expressions are evaluated at runtime, thus this function is faster.     \n",
    "\n",
    "<span style=\"color:blue\"> **Simple syntax** </span>    \n",
    "The syntax is similar to `str.format()` but less verbose:"
   ]
  },
  {
   "cell_type": "code",
   "execution_count": 37,
   "metadata": {},
   "outputs": [
    {
     "data": {
      "text/plain": [
       "'Hi, Eric. Your age is 30'"
      ]
     },
     "execution_count": 37,
     "metadata": {},
     "output_type": "execute_result"
    }
   ],
   "source": [
    "name = 'Eric'\n",
    "age = 30\n",
    "\n",
    "f'Hi, {name}. Your age is {age}'"
   ]
  },
  {
   "cell_type": "markdown",
   "metadata": {},
   "source": [
    "<span style=\"color:blue\"> **Arbitrary expressions** </span>     \n",
    "Because f-strings are evaluated at runtime, you can put any and all valid Python expressions in them.\n",
    "\n",
    "You can **call functions**:"
   ]
  },
  {
   "cell_type": "code",
   "execution_count": 39,
   "metadata": {},
   "outputs": [
    {
     "data": {
      "text/plain": [
       "'ERIC IDLE is funny.'"
      ]
     },
     "execution_count": 39,
     "metadata": {},
     "output_type": "execute_result"
    }
   ],
   "source": [
    "def to_lowercase(input):\n",
    "     return input.upper()\n",
    "\n",
    "name = \"Eric Idle\"\n",
    "f\"{to_lowercase(name)} is funny.\""
   ]
  },
  {
   "cell_type": "markdown",
   "metadata": {},
   "source": [
    "You also have the option of **calling methods or functions directly**:"
   ]
  },
  {
   "cell_type": "code",
   "execution_count": 42,
   "metadata": {},
   "outputs": [
    {
     "data": {
      "text/plain": [
       "'Temperature 34.7 is measured.'"
      ]
     },
     "execution_count": 42,
     "metadata": {},
     "output_type": "execute_result"
    }
   ],
   "source": [
    "temperature = 34.69879824987\n",
    "f\"Temperature {round(temperature, 2)} is measured.\""
   ]
  },
  {
   "cell_type": "markdown",
   "metadata": {},
   "source": [
    "You **can even use objects created from classes** with f-strings:"
   ]
  },
  {
   "cell_type": "code",
   "execution_count": 70,
   "metadata": {},
   "outputs": [
    {
     "data": {
      "text/plain": [
       "'Our new artist \\n is: Joseph Whaley is 23. Surprise!'"
      ]
     },
     "execution_count": 70,
     "metadata": {},
     "output_type": "execute_result"
    }
   ],
   "source": [
    "class Comedian:\n",
    "    def __init__(self, first_name, last_name, age):\n",
    "        self.first_name = first_name\n",
    "        self.last_name = last_name\n",
    "        self.age = age\n",
    "\n",
    "    def __repr__(self):\n",
    "        return f\"{self.first_name} {self.last_name} is {self.age}. Surprise!\"\n",
    "    \n",
    "# create the object and print its official string representation:\n",
    "new_comedian = Comedian('Joseph', 'Whaley',23)\n",
    "\n",
    "f'Our new artist \\n is: {new_comedian}'"
   ]
  },
  {
   "cell_type": "markdown",
   "metadata": {},
   "source": [
    "<span style=\"color:blue\"> **Multiple f-strings** </span>     \n",
    "Place an f in front of each line of a multiline string:"
   ]
  },
  {
   "cell_type": "code",
   "execution_count": 77,
   "metadata": {},
   "outputs": [
    {
     "data": {
      "text/plain": [
       "'Hi Eric! You are a comedian. You were in Monty Python.'"
      ]
     },
     "execution_count": 77,
     "metadata": {},
     "output_type": "execute_result"
    }
   ],
   "source": [
    "name = \"Eric\"\n",
    "profession = \"comedian\"\n",
    "affiliation = \"Monty Python\"\n",
    "message = (\n",
    "     f'Hi {name}!'\n",
    "     f' You are a {profession}.'\n",
    "     f' You were in {affiliation}.')\n",
    "    \n",
    "message"
   ]
  },
  {
   "cell_type": "markdown",
   "metadata": {},
   "source": [
    "<span style=\"color:blue\"> **Dictionaries** </span>     \n",
    "Speaking of quotation marks, watch out when you are working with dictionaries. **Use different quotation marks.**"
   ]
  },
  {
   "cell_type": "code",
   "execution_count": 78,
   "metadata": {},
   "outputs": [
    {
     "data": {
      "text/plain": [
       "'The comedian is Eric Idle, aged 74.'"
      ]
     },
     "execution_count": 78,
     "metadata": {},
     "output_type": "execute_result"
    }
   ],
   "source": [
    "comedian = {'name': 'Eric Idle',\n",
    "            'age': 74\n",
    "           }\n",
    "\n",
    "f\"The comedian is {comedian['name']}, aged {comedian['age']}.\""
   ]
  }
 ],
 "metadata": {
  "kernelspec": {
   "display_name": "Python 3",
   "language": "python",
   "name": "python3"
  },
  "language_info": {
   "codemirror_mode": {
    "name": "ipython",
    "version": 3
   },
   "file_extension": ".py",
   "mimetype": "text/x-python",
   "name": "python",
   "nbconvert_exporter": "python",
   "pygments_lexer": "ipython3",
   "version": "3.7.3"
  }
 },
 "nbformat": 4,
 "nbformat_minor": 2
}
