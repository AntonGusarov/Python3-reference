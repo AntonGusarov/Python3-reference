{
 "cells": [
  {
   "cell_type": "markdown",
   "metadata": {},
   "source": [
    "# Intro to Python style, PEP 8"
   ]
  },
  {
   "cell_type": "markdown",
   "metadata": {},
   "source": [
    "## 1. Statements\n",
    "<span style=\"color:blue\"> **Statements** </span> are the basic units of instruction that the Python interpreter parses and processes. In general, the interpreter executes statements sequentially, one after the next as it encounters them. \n",
    "\n",
    "Python programs are typically organized with **one statement per line**. In other words, each statement occupies a single line, with the end of the statement delimited by the newline character that marks the end of the line."
   ]
  },
  {
   "cell_type": "markdown",
   "metadata": {},
   "source": [
    "## 2. Line continuations\n",
    "Excessively long lines of code are considered poor practice.     \n",
    "In fact, there is an official **\"The Style Guide for Python Code\" aka PEP 8** by the Python Software Foundation, and one of its stipulations is that the **maximum line length in Python code should be 79 characters**.\n",
    "\n",
    "But, there might be too long statements:"
   ]
  },
  {
   "cell_type": "code",
   "execution_count": 3,
   "metadata": {},
   "outputs": [
    {
     "name": "stdout",
     "output_type": "stream",
     "text": [
      "True\n"
     ]
    }
   ],
   "source": [
    "person1_age = 42\n",
    "person2_age = 16\n",
    "person3_age = 71\n",
    "\n",
    "someone_is_of_working_age = (person1_age >= 18 and person1_age <= 65) or (person2_age >= 18 and person2_age <= 65) or (person3_age >= 18 and person3_age <= 65)\n",
    "print(someone_is_of_working_age)"
   ]
  },
  {
   "cell_type": "markdown",
   "metadata": {},
   "source": [
    "Or lengthy nested lists:"
   ]
  },
  {
   "cell_type": "code",
   "execution_count": 6,
   "metadata": {},
   "outputs": [
    {
     "name": "stdout",
     "output_type": "stream",
     "text": [
      "[[1, 2, 3, 4, 5], [6, 7, 8, 9, 10], [11, 12, 13, 14, 15], [16, 17, 18, 19, 20], [21, 22, 23, 24, 25]]\n"
     ]
    }
   ],
   "source": [
    "a = [[1, 2, 3, 4, 5], [6, 7, 8, 9, 10], [11, 12, 13, 14, 15], [16, 17, 18, 19, 20], [21, 22, 23, 24, 25]]\n",
    "print(a)"
   ]
  },
  {
   "cell_type": "markdown",
   "metadata": {},
   "source": [
    "In Python, a statement can be continued from one line to the next in `2` different ways: \n",
    "1. **Implicit**  line continuation by `()`, `[]`, `{}`\n",
    "2. **Explicit**  line continuation by `/`"
   ]
  },
  {
   "cell_type": "markdown",
   "metadata": {},
   "source": [
    "### 2.1. Implicit line continuation\n",
    "This technique is preferred according to **PEP 8**.\n",
    "\n",
    "<span style=\"color:blue\"> **Idea:** </span> Any statement containing opening parentheses ` ( `, brackets ` [ `, or curly braces ` { ` is presumed to be incomplete until all matching parentheses, brackets, and braces have been encountered. Thus, the statement can be implicitly continued across lines without raising an error.\n",
    "\n",
    "Modified examples from above:"
   ]
  },
  {
   "cell_type": "code",
   "execution_count": 8,
   "metadata": {},
   "outputs": [
    {
     "name": "stdout",
     "output_type": "stream",
     "text": [
      "[[1, 2, 3, 4, 5], [6, 7, 8, 9, 10], [11, 12, 13, 14, 15], [16, 17, 18, 19, 20], [21, 22, 23, 24, 25]]\n"
     ]
    }
   ],
   "source": [
    "a = [\n",
    "    [1, 2, 3, 4, 5],\n",
    "    [6, 7, 8, 9, 10],\n",
    "    [11, 12, 13, 14, 15],\n",
    "    [16, 17, 18, 19, 20],\n",
    "    [21, 22, 23, 24, 25]\n",
    "]\n",
    "print(a)"
   ]
  },
  {
   "cell_type": "markdown",
   "metadata": {},
   "source": [
    "<span style=\"color:blue\"> **Long expressions** </span> can also be continued across multiple lines by **wrapping it in grouping parentheses**.    \n",
    "**PEP 8 explicitly advocates this way** when appropriate:"
   ]
  },
  {
   "cell_type": "code",
   "execution_count": 11,
   "metadata": {},
   "outputs": [
    {
     "name": "stdout",
     "output_type": "stream",
     "text": [
      "True\n"
     ]
    }
   ],
   "source": [
    "someone_is_of_working_age = (\n",
    "    (person1_age >= 18 and person1_age <= 65)\n",
    "    or (person2_age >= 18 and person2_age <= 65)\n",
    "    or (person3_age >= 18 and person3_age <= 65)\n",
    ")\n",
    "\n",
    "print(someone_is_of_working_age)"
   ]
  },
  {
   "cell_type": "markdown",
   "metadata": {},
   "source": [
    "### 2.2. Explicit line continuation\n",
    "In cases where implicit line continuation is not readily available or practicable, there is another option.     \n",
    "To indicate explicit line continuation, use a **backslash** ` \\ ` as **the final character on the line** (be careful with whitespaces after it!). In that case, Python ignores the following newline character (`Enter`):"
   ]
  },
  {
   "cell_type": "code",
   "execution_count": 12,
   "metadata": {},
   "outputs": [
    {
     "data": {
      "text/plain": [
       "21"
      ]
     },
     "execution_count": 12,
     "metadata": {},
     "output_type": "execute_result"
    }
   ],
   "source": [
    "x = 1 + 2 \\\n",
    "+ 3 + 4 \\\n",
    "+ 5 + 6\n",
    "\n",
    "x"
   ]
  },
  {
   "cell_type": "markdown",
   "metadata": {},
   "source": [
    "## 3. Multiple statements per line\n",
    "\n",
    "If multiple statements may occur on one line, they are separated by a **semicolon** ` ; `:"
   ]
  },
  {
   "cell_type": "code",
   "execution_count": 13,
   "metadata": {},
   "outputs": [
    {
     "name": "stdout",
     "output_type": "stream",
     "text": [
      "1\n",
      "2\n",
      "3\n"
     ]
    }
   ],
   "source": [
    "x = 1; y = 2; z = 3\n",
    "print(x); print(y); print(z)"
   ]
  },
  {
   "cell_type": "markdown",
   "metadata": {},
   "source": [
    "Stylistically, this is generally frowned upon, and **PEP 8 discourages it**. There might be situations where it improves readability, but it usually doesn’t."
   ]
  },
  {
   "cell_type": "markdown",
   "metadata": {},
   "source": [
    "## 4. Comments\n",
    "\n",
    "### 4.1. Single-line comments\n",
    "\n",
    "**Good code explains how; good comments explain why.**     \n",
    "**Hash character** ` # ` signifies a comment. The interpreter will ignore everything from the hash character through the end of that line:"
   ]
  },
  {
   "cell_type": "code",
   "execution_count": null,
   "metadata": {},
   "outputs": [],
   "source": [
    "a = ['foo', 'bar', 'baz']  # I am a comment."
   ]
  },
  {
   "cell_type": "markdown",
   "metadata": {},
   "source": [
    "Naturally, a hash character inside a string literal is protected, and does not indicate a comment:"
   ]
  },
  {
   "cell_type": "code",
   "execution_count": 14,
   "metadata": {},
   "outputs": [
    {
     "data": {
      "text/plain": [
       "'foobar # I am *not* a comment.'"
      ]
     },
     "execution_count": 14,
     "metadata": {},
     "output_type": "execute_result"
    }
   ],
   "source": [
    "a = 'foobar # I am *not* a comment.'\n",
    "a"
   ]
  },
  {
   "cell_type": "markdown",
   "metadata": {},
   "source": [
    "* Comments can be included within **implicit line continuation**:"
   ]
  },
  {
   "cell_type": "code",
   "execution_count": 16,
   "metadata": {},
   "outputs": [],
   "source": [
    "x = (1 + 2  # I am a comment.\n",
    "    + 3 + 4 # Me too.\n",
    "    + 5 + 6)"
   ]
  },
  {
   "cell_type": "markdown",
   "metadata": {},
   "source": [
    "* But **explicit line continuation** requires the *backslash character to be the last character* on the line. Thus, a comment can’t follow afterward:"
   ]
  },
  {
   "cell_type": "code",
   "execution_count": 18,
   "metadata": {},
   "outputs": [
    {
     "ename": "SyntaxError",
     "evalue": "unexpected character after line continuation character (<ipython-input-18-632eefa0fbd5>, line 1)",
     "output_type": "error",
     "traceback": [
      "\u001b[1;36m  File \u001b[1;32m\"<ipython-input-18-632eefa0fbd5>\"\u001b[1;36m, line \u001b[1;32m1\u001b[0m\n\u001b[1;33m    x = 1 + 2 + \\   # I wish to be comment, but I'm not.\u001b[0m\n\u001b[1;37m                                                        ^\u001b[0m\n\u001b[1;31mSyntaxError\u001b[0m\u001b[1;31m:\u001b[0m unexpected character after line continuation character\n"
     ]
    }
   ],
   "source": [
    "x = 1 + 2 + \\   # I wish to be comment, but I'm not."
   ]
  },
  {
   "cell_type": "markdown",
   "metadata": {},
   "source": [
    "### 4.2. Multiline comments\n",
    "\n",
    "Useful hotkeys:\n",
    "\n",
    "`left-click  Ctrl`    - write smth on several code lines.     \n",
    "`Ctrl+/` - select and comment out multiple lines.\n",
    "\n",
    "Python **doesn’t explicitly provide anything** for creating multiline block comments. To create a block comment, you would usually just begin each line with a hash character:"
   ]
  },
  {
   "cell_type": "code",
   "execution_count": 19,
   "metadata": {},
   "outputs": [],
   "source": [
    "# Initialize value for radius of circle.\n",
    "#\n",
    "# Then calculate the area of the circle\n",
    "# and display the result to the console.\n",
    "\n",
    "pi = 3.1415926536\n",
    "r = 12.35"
   ]
  },
  {
   "cell_type": "markdown",
   "metadata": {},
   "source": [
    "However, for code in a script file, there is technically an alternative.\n",
    "\n",
    "When the interpreter parses code in a script file, it ignores a string literal if it appears as statement by itself. Thus, a string literal on a line by itself can serve as a comment. Since a **triple-quoted `'''` string can span multiple lines, it can function as a multiline comment:**"
   ]
  },
  {
   "cell_type": "code",
   "execution_count": 23,
   "metadata": {},
   "outputs": [
    {
     "name": "stdout",
     "output_type": "stream",
     "text": [
      "The area of a circle with radius 12.35 is 479.163565508706\n"
     ]
    }
   ],
   "source": [
    "\"\"\"Initialize value for radius of circle.\n",
    "\n",
    "Then calculate the area of the circle\n",
    "and display the result to the console.\n",
    "\"\"\"\n",
    "\n",
    "pi = 3.1415926536\n",
    "r = 12.35\n",
    "\n",
    "area = pi * (r ** 2)\n",
    "\n",
    "print('The area of a circle with radius', r, 'is', area)"
   ]
  },
  {
   "cell_type": "markdown",
   "metadata": {},
   "source": [
    "Although this works, **PEP 8 actually recommends against it.** Because of a special Python construct called the <span style=\"color:blue\"> **docstrings** </span>.    \n",
    "A docstring is a special comment at the beginning of a user-defined function that **documents the function’s behavior**. Docstrings are typically specified as triple-quoted string comments, so PEP 8 recommends that other block comments in Python code be designated the usual way, with a hash character at the start of each line.\n",
    "\n",
    "You will learn more about docstrings in the upcoming tutorial on functions in Python."
   ]
  },
  {
   "cell_type": "markdown",
   "metadata": {},
   "source": [
    "### 4.3. How to write comments\n",
    "<span style=\"color:blue\"> **(1)** </span> One extremely useful way to use comments for yourself is as an **outline for your code** i.e. tracking the high-level flow of your program. For instance, use comments to **outline a function in pseudo-code**:\n",
    "\n",
    "```Python\n",
    "from collections import defaultdict\n",
    "\n",
    "def get_top_cities(prices):\n",
    "    top_cities = defaultdict(int)\n",
    "\n",
    "    # For each price range\n",
    "        # Get city searches in that price\n",
    "        # Count num times city was searched\n",
    "        # Take top 3 cities & add to dict\n",
    "\n",
    "    return dict(top_cities)\n",
    "```\n",
    "\n",
    "<span style=\"color:blue\"> **(2)** </span> Use comments to **define tricky parts of your code.** If you put a project down and come back to it months or years later, you’ll spend a lot of time trying to get reacquainted with what you wrote. \n",
    "\n",
    "<span style=\"color:blue\"> **(3)** </span> Inline comments should be used sparingly **to clear up bits of code that aren’t obvious on their own**. Comments should be **D.R.Y.** The acronym stands for the programming maxim *“Don’t Repeat Yourself.”* \n",
    "\n",
    "<span style=\"color:blue\"> **(4)** </span> If you have **a complicated method or function whose name isn’t easily understandable**, you may want to **include a short comment after the def line to shed some light**:\n",
    "```Python\n",
    "def complicated_function(s):\n",
    "    # This function does something complicated\n",
    "```\n",
    "For any **public functions**, you’ll want to include an **associated docstring**, whether it’s complicated or not:\n",
    "```Python\n",
    "def sparsity_ratio(x: np.array) -> float:\n",
    "    \"\"\"Return a float\n",
    "\n",
    "    Percentage of values in array that are zero or NaN\n",
    "    \"\"\"\n",
    "```\n",
    "This string will become the `.__doc__` attribute of your function and will officially be associated with that specific method.     \n",
    "The `PEP 257` *docstring guidelines* will help you to structure your docstring. These are a set of conventions that developers generally use when structuring docstrings.\n",
    "\n",
    "<span style=\"color:blue\"> **(5)** </span> **Obvious naming convention**.      \n",
    "Example:"
   ]
  },
  {
   "cell_type": "code",
   "execution_count": 24,
   "metadata": {},
   "outputs": [],
   "source": [
    "# A dictionary of families who live in each city\n",
    "mydict = {\n",
    "    \"Midtown\": [\"Powell\", \"Brantley\", \"Young\"],\n",
    "    \"Norcross\": [\"Montgomery\"], \n",
    "    \"Ackworth\": []\n",
    "}\n",
    "\n",
    "def a(dict):\n",
    "    # For each city\n",
    "    for p in dict:\n",
    "        # If there are no families in the city\n",
    "        if not mydict[p]:\n",
    "            # Say that there are no families\n",
    "            print(\"None.\")"
   ]
  },
  {
   "cell_type": "markdown",
   "metadata": {},
   "source": [
    "By using the obvious naming it can be made much readable and unnecesasary comments can be removed:"
   ]
  },
  {
   "cell_type": "code",
   "execution_count": null,
   "metadata": {},
   "outputs": [],
   "source": [
    "families_by_city = {\n",
    "    \"Midtown\": [\"Powell\", \"Brantley\", \"Young\"],\n",
    "    \"Norcross\": [\"Montgomery\"],\n",
    "    \"Ackworth\": [],\n",
    "}\n",
    "\n",
    "def no_families(cities):\n",
    "    for city in cities:\n",
    "        if not families_by_city[city]:\n",
    "            print(f\"No families in {city}.\")"
   ]
  },
  {
   "cell_type": "markdown",
   "metadata": {},
   "source": [
    "<span style=\"color:blue\"> **(6)** </span> Your comments should rarely be longer than the code they support. **If you’re spending too much time explaining what you did, then you need to go back and refactor** to make your code more clear and concise."
   ]
  },
  {
   "cell_type": "markdown",
   "metadata": {},
   "source": [
    "## 5. Whitespace\n",
    "When parsing code, the Python interpreter breaks the input up into <span style=\"color:blue\"> **tokens** </span>. Informally, tokens are the elementary language elements: identifiers, keywords, literals, and operators. The most common whitespace characters are `space`, `tab`, and `newline`.\n",
    "\n",
    "Whitespace is mostly ignored, and mostly not required, by the Python interpreter. When it is clear where one token ends and the next one starts, whitespace can be omitted.\n",
    "\n",
    "## PEP 8: Whitespace + Other recommendations\n",
    "\n",
    "**Avoid extraneous whitespace** in the following situations:    \n",
    "\n",
    "<span style=\"color:blue\"> **1.** </span> Immediately **inside parentheses**, brackets or braces.\n",
    "\n",
    "**Yes:**\n",
    "```Python\n",
    "spam(ham[1], {eggs: 2})\n",
    "```\n",
    "\n",
    "<span style=\"color:red\"> **No:** </span>\n",
    "```Python\n",
    "spam( ham[ 1 ], { eggs: 2 } )\n",
    "```"
   ]
  },
  {
   "cell_type": "markdown",
   "metadata": {},
   "source": [
    "<span style=\"color:blue\"> **2.** </span> Between a **trailing comma** and a following close parenthesis.\n",
    "\n",
    "**Yes:** \n",
    "```Python\n",
    "foo = (0,)\n",
    "```\n",
    "\n",
    "<span style=\"color:red\"> **No:** </span>\n",
    "```Python\n",
    "bar = (0, )\n",
    "```"
   ]
  },
  {
   "cell_type": "markdown",
   "metadata": {},
   "source": [
    "<span style=\"color:blue\"> **3.** </span> In a **slice** the colon acts like a binary operator, and should have equal amounts on either side\n",
    "\n",
    "```Python\n",
    "ham[1:9], ham[1:9:3], ham[:9:3], ham[1::3], ham[1:9:]\n",
    "ham[lower:upper], ham[lower:upper:], ham[lower::step]\n",
    "ham[lower+offset : upper+offset]\n",
    "```"
   ]
  },
  {
   "cell_type": "markdown",
   "metadata": {},
   "source": [
    "<span style=\"color:blue\"> **4.** </span> More than one space **around an assignment** (or other) operator to **align it with another**.\n",
    "\n",
    "**Yes:**\n",
    "```Python\n",
    "x = 1\n",
    "y = 2\n",
    "long_variable = 3\n",
    "```\n",
    "\n",
    "<span style=\"color:red\"> **No:** </span>\n",
    "```Python\n",
    "x             = 1\n",
    "y             = 2\n",
    "long_variable = 3\n",
    "```"
   ]
  },
  {
   "cell_type": "markdown",
   "metadata": {},
   "source": [
    "<span style=\"color:blue\"> **5.** </span> **Avoid trailing whitespace anywhere**. Because it's usually invisible, it can be confusing: e.g. a backslash followed by a space and a newline does not count as a line continuation marker.\n",
    "\n",
    "<span style=\"color:blue\"> **6.** </span> **Always surround these binary operators with a single space on either side**: assignment `=`, augmented assignment (`+=`, `-=` etc.), comparisons (`==`, `<`, `>`, `!=`, `<`, `>`, `<=`, `>=`, `in`, `not in`, `is`, `is not`), Booleans (`and`, `or`, `not`)."
   ]
  },
  {
   "cell_type": "markdown",
   "metadata": {},
   "source": [
    "<span style=\"color:blue\"> **7.** </span> If **operators with different priorities are used**, consider **adding whitespace around the operators with the lowest priority(ies)**. However, **never use more than one space.**\n",
    "\n",
    "**Yes:**\n",
    "```Python\n",
    "i = i + 1\n",
    "submitted += 1\n",
    "x = x*2 - 1\n",
    "hypot2 = x*x + y*y\n",
    "c = (a+b) * (a-b)\n",
    "```\n",
    "\n",
    "<span style=\"color:red\"> **No:** </span>\n",
    "```Python\n",
    "i=i+1\n",
    "submitted +=1\n",
    "x = x * 2 - 1\n",
    "hypot2 = x * x + y * y\n",
    "c = (a + b) * (a - b)\n",
    "```"
   ]
  },
  {
   "cell_type": "markdown",
   "metadata": {},
   "source": [
    "<span style=\"color:blue\"> **8.** </span> Don't use spaces around the = sign when used to indicate a keyword argument, or when used to indicate a default value for an **unannotated function parameter**.\n",
    "\n",
    "```Python\n",
    "def complex(real, imag=0.0):\n",
    "    return magic(r=real, i=imag)\n",
    "```\n",
    "\n",
    "When combining an **argument annotation** with a default value, however, do use spaces around the = sign:\n",
    "\n",
    "``` Python\n",
    "def munge(input: AnyStr, sep: AnyStr = None, limit=1000): ...\n",
    "```"
   ]
  },
  {
   "cell_type": "markdown",
   "metadata": {},
   "source": [
    "<span style=\"color:blue\"> **9.** </span> **Imports** should usually be on separate lines:\n",
    "\n",
    "**Yes:**\n",
    "``` Python\n",
    "import os\n",
    "import sys\n",
    "```\n",
    "\n",
    "<span style=\"color:red\"> **No:** </span>\n",
    "``` Python\n",
    "import os, sys\n",
    "```"
   ]
  },
  {
   "cell_type": "markdown",
   "metadata": {},
   "source": [
    "<span style=\"color:blue\"> **10.** </span> **Return statements**. Either all return statements in a function should return an expression, or none of them should. If any return statement returns an expression, any return statements where no value is returned should explicitly state this as return None, and an explicit return statement should be present at the end of the function (if reachable).\n",
    "\n",
    "**Yes:**\n",
    "```Python\n",
    "def foo(x):\n",
    "    if x >= 0:\n",
    "        return math.sqrt(x)\n",
    "    else:\n",
    "        return None\n",
    "\n",
    "def bar(x):\n",
    "    if x < 0:\n",
    "        return None\n",
    "    return math.sqrt(x)\n",
    "```\n",
    "<span style=\"color:red\"> **No:** </span>\n",
    "```Python\n",
    "def foo(x):\n",
    "    if x >= 0:\n",
    "        return math.sqrt(x)\n",
    "\n",
    "def bar(x):\n",
    "    if x < 0:\n",
    "        return\n",
    "    return math.sqrt(x)\n",
    "```"
   ]
  },
  {
   "cell_type": "markdown",
   "metadata": {},
   "source": [
    "<span style=\"color:blue\"> **11.** </span> Use `''.startswith()` and `''.endswith()` instead of string slicing to check for **prefixes or suffixes**.\n",
    "\n",
    "`startswith()` and `endswith()` are cleaner and less error prone:\n",
    "\n",
    "**Yes:**\n",
    "```Python\n",
    "if foo.startswith('bar'):\n",
    "```\n",
    "\n",
    "<span style=\"color:red\"> **No:** </span>\n",
    "```Python\n",
    "if foo[:3] == 'bar':\n",
    "```"
   ]
  },
  {
   "cell_type": "markdown",
   "metadata": {},
   "source": [
    "<span style=\"color:blue\"> **12.** </span> Don't **compare boolean** values to `True` or `False` using `==`.\n",
    "\n",
    "<span style=\"color:black\"> **Yes:** </span>\n",
    "``` Python\n",
    "if greeting:\n",
    "```\n",
    "<span style=\"color:red\"> **No:** </span>\n",
    "``` Python\n",
    "if greeting == True:\n",
    "if greeting is True: # WORSE\n",
    "```"
   ]
  },
  {
   "cell_type": "markdown",
   "metadata": {},
   "source": [
    "## 6. Indentation\n",
    "In Python, indentation is not ignored. Leading whitespace is used to compute a line’s indentation level, which in turn is used to determine grouping of statements.\n",
    "\n",
    "**1.** Use **4 spaces per indentation level**.\n",
    "\n",
    "**2.** **Continuation lines should align wrapped elements either vertically using Python's implicit line joining or using a hanging indent**.     \n",
    "When using a **hanging indent** the following should be considered; there should be no arguments on the first line and further indentation should be used to clearly distinguish itself as a continuation line.\n",
    "\n",
    "**Yes:**\n",
    "```Python\n",
    "# Aligned with opening delimiter.\n",
    "foo = long_function_name(var_one, var_two,\n",
    "                         var_three, var_four)\n",
    "\n",
    "# Add 4 spaces (an extra level of indentation) to distinguish arguments from the rest.\n",
    "def long_function_name(\n",
    "        var_one, var_two, var_three,\n",
    "        var_four):\n",
    "    print(var_one)\n",
    "\n",
    "# Hanging indents should add a level.\n",
    "foo = long_function_name(\n",
    "    var_one, var_two,\n",
    "    var_three, var_four)\n",
    "```\n",
    "\n",
    "<span style=\"color:red\"> **No:** </span>\n",
    "```Python\n",
    "# Arguments on first line forbidden when not using vertical alignment.\n",
    "foo = long_function_name(var_one, var_two,\n",
    "    var_three, var_four)\n",
    "\n",
    "# Further indentation required as indentation is not distinguishable.\n",
    "def long_function_name(\n",
    "    var_one, var_two, var_three,\n",
    "    var_four):\n",
    "    print(var_one)\n",
    "```"
   ]
  },
  {
   "cell_type": "markdown",
   "metadata": {},
   "source": [
    "## Displaying LaTeX in Jupyter"
   ]
  },
  {
   "cell_type": "code",
   "execution_count": 2,
   "metadata": {},
   "outputs": [
    {
     "data": {
      "text/latex": [
       "$\\displaystyle 60 \\, F^\\circ = 15.6 \\, C^\\circ$"
      ],
      "text/plain": [
       "<IPython.core.display.Math object>"
      ]
     },
     "metadata": {},
     "output_type": "display_data"
    }
   ],
   "source": [
    "from IPython.display import display, Math\n",
    "\n",
    "f = 60\n",
    "c = (f - 32) * 5/9\n",
    "display(Math( r'{} \\, F^\\circ = {} \\, C^\\circ'.format(f, round(c,1)) ))  # display() works in Jupyter"
   ]
  },
  {
   "cell_type": "code",
   "execution_count": null,
   "metadata": {},
   "outputs": [],
   "source": []
  }
 ],
 "metadata": {
  "kernelspec": {
   "display_name": "Python 3",
   "language": "python",
   "name": "python3"
  },
  "language_info": {
   "codemirror_mode": {
    "name": "ipython",
    "version": 3
   },
   "file_extension": ".py",
   "mimetype": "text/x-python",
   "name": "python",
   "nbconvert_exporter": "python",
   "pygments_lexer": "ipython3",
   "version": "3.7.3"
  }
 },
 "nbformat": 4,
 "nbformat_minor": 4
}
